{
 "cells": [
  {
   "cell_type": "code",
   "execution_count": 1,
   "id": "bd309ace-4dfd-43e8-8826-1b858ceecbef",
   "metadata": {},
   "outputs": [],
   "source": [
    "#import packages\n",
    "import pandas as pd\n",
    "from sklearn.linear_model import LogisticRegression\n",
    "from sklearn.metrics import accuracy_score\n",
    "from sklearn.ensemble import GradientBoostingClassifier\n",
    "from sklearn.ensemble import RandomForestClassifier\n",
    "from sklearn.model_selection import GridSearchCV, train_test_split\n",
    "from sklearn.ensemble import BaggingClassifier\n",
    "from sklearn.tree import DecisionTreeClassifier\n",
    "import numpy as np\n",
    "from sklearn.ensemble import StackingClassifier\n",
    "from sklearn.svm import SVC\n",
    "from sklearn.ensemble import AdaBoostClassifier\n",
    "from sklearn.neural_network import MLPClassifier\n",
    "\n",
    "# Load NCVS data into a pandas dataframe\n",
    "df = pd.read_table('data/38090-0005-Data.tsv')"
   ]
  },
  {
   "cell_type": "code",
   "execution_count": 2,
   "id": "00d252cd-336c-48b7-830f-c53ff09ee7bb",
   "metadata": {},
   "outputs": [
    {
     "data": {
      "text/plain": [
       "1    5099\n",
       "9    2944\n",
       "Name: V4401, dtype: int64"
      ]
     },
     "execution_count": 2,
     "metadata": {},
     "output_type": "execute_result"
    }
   ],
   "source": [
    "df['V4401'].value_counts()"
   ]
  },
  {
   "cell_type": "code",
   "execution_count": 3,
   "id": "ce378682-e7b5-4429-9244-aae01343c82c",
   "metadata": {},
   "outputs": [],
   "source": [
    "reduced = df[df['V4399']==2]"
   ]
  },
  {
   "cell_type": "code",
   "execution_count": 4,
   "id": "3c5097a7-bf6d-4d8b-9691-eb14e076bbb5",
   "metadata": {},
   "outputs": [
    {
     "data": {
      "text/plain": [
       "(0    4455\n",
       " 9    2944\n",
       " 1     644\n",
       " Name: V4402, dtype: int64,\n",
       " 0    4455\n",
       " 1     644\n",
       " Name: V4402, dtype: int64)"
      ]
     },
     "execution_count": 4,
     "metadata": {},
     "output_type": "execute_result"
    }
   ],
   "source": [
    "df['V4402'].value_counts(), reduced['V4402'].value_counts()"
   ]
  },
  {
   "cell_type": "code",
   "execution_count": 5,
   "id": "d645a26f-59ba-4377-8999-66498ad88b29",
   "metadata": {},
   "outputs": [
    {
     "data": {
      "text/plain": [
       "0    5087\n",
       "8      12\n",
       "Name: V4421, dtype: int64"
      ]
     },
     "execution_count": 5,
     "metadata": {},
     "output_type": "execute_result"
    }
   ],
   "source": [
    "reduced['V4421'].value_counts()"
   ]
  },
  {
   "cell_type": "code",
   "execution_count": 6,
   "id": "9f551f3d-bc3f-4f61-883e-9037a736ceaf",
   "metadata": {},
   "outputs": [],
   "source": [
    "more_reduced = reduced[reduced['V4421']!=8]"
   ]
  },
  {
   "cell_type": "code",
   "execution_count": 7,
   "id": "04f6d9c1-e4ef-4981-b324-1497d8c06716",
   "metadata": {},
   "outputs": [
    {
     "data": {
      "text/plain": [
       "0    5087\n",
       "Name: V4421, dtype: int64"
      ]
     },
     "execution_count": 7,
     "metadata": {},
     "output_type": "execute_result"
    }
   ],
   "source": [
    "more_reduced['V4421'].value_counts()"
   ]
  },
  {
   "cell_type": "code",
   "execution_count": 8,
   "id": "82e8c7a9-8f3e-48cc-9aad-fb37008b7707",
   "metadata": {},
   "outputs": [
    {
     "data": {
      "text/plain": [
       "1    5087\n",
       "Name: V4401, dtype: int64"
      ]
     },
     "execution_count": 8,
     "metadata": {},
     "output_type": "execute_result"
    }
   ],
   "source": [
    "more_reduced['V4401'].value_counts()"
   ]
  },
  {
   "cell_type": "code",
   "execution_count": 9,
   "id": "eb92d57c-88ef-4cc5-9408-212a7f22eec5",
   "metadata": {},
   "outputs": [
    {
     "data": {
      "text/plain": [
       "['V4402',\n",
       " 'V4403',\n",
       " 'V4404',\n",
       " 'V4405',\n",
       " 'V4406',\n",
       " 'V4407',\n",
       " 'V4408',\n",
       " 'V4409',\n",
       " 'V4410',\n",
       " 'V4411',\n",
       " 'V4412',\n",
       " 'V4413',\n",
       " 'V4414',\n",
       " 'V4415',\n",
       " 'V4416',\n",
       " 'V4417',\n",
       " 'V4418',\n",
       " 'V4419',\n",
       " 'V4420']"
      ]
     },
     "execution_count": 9,
     "metadata": {},
     "output_type": "execute_result"
    }
   ],
   "source": [
    "targets = []\n",
    "for i in range(2,21):\n",
    "    if(i<10):\n",
    "        targets.append('V440'+str(i))\n",
    "    else:\n",
    "        targets.append('V44' + str(i))\n",
    "targets"
   ]
  },
  {
   "cell_type": "code",
   "execution_count": 125,
   "id": "ff98b549-e749-43c4-93d4-3c637c458bff",
   "metadata": {},
   "outputs": [
    {
     "data": {
      "text/html": [
       "<div>\n",
       "<style scoped>\n",
       "    .dataframe tbody tr th:only-of-type {\n",
       "        vertical-align: middle;\n",
       "    }\n",
       "\n",
       "    .dataframe tbody tr th {\n",
       "        vertical-align: top;\n",
       "    }\n",
       "\n",
       "    .dataframe thead th {\n",
       "        text-align: right;\n",
       "    }\n",
       "</style>\n",
       "<table border=\"1\" class=\"dataframe\">\n",
       "  <thead>\n",
       "    <tr style=\"text-align: right;\">\n",
       "      <th></th>\n",
       "      <th>V4402</th>\n",
       "      <th>V4403</th>\n",
       "      <th>V4404</th>\n",
       "      <th>V4405</th>\n",
       "      <th>V4406</th>\n",
       "      <th>V4407</th>\n",
       "      <th>V4408</th>\n",
       "      <th>V4409</th>\n",
       "      <th>V4410</th>\n",
       "      <th>V4411</th>\n",
       "      <th>V4412</th>\n",
       "      <th>V4413</th>\n",
       "      <th>V4414</th>\n",
       "      <th>V4415</th>\n",
       "      <th>V4416</th>\n",
       "      <th>V4417</th>\n",
       "      <th>V4418</th>\n",
       "      <th>V4419</th>\n",
       "      <th>V4420</th>\n",
       "    </tr>\n",
       "  </thead>\n",
       "  <tbody>\n",
       "    <tr>\n",
       "      <th>0</th>\n",
       "      <td>0</td>\n",
       "      <td>0</td>\n",
       "      <td>0</td>\n",
       "      <td>0</td>\n",
       "      <td>0</td>\n",
       "      <td>0</td>\n",
       "      <td>0</td>\n",
       "      <td>0</td>\n",
       "      <td>0</td>\n",
       "      <td>1</td>\n",
       "      <td>0</td>\n",
       "      <td>0</td>\n",
       "      <td>0</td>\n",
       "      <td>0</td>\n",
       "      <td>0</td>\n",
       "      <td>0</td>\n",
       "      <td>0</td>\n",
       "      <td>0</td>\n",
       "      <td>0</td>\n",
       "    </tr>\n",
       "    <tr>\n",
       "      <th>1</th>\n",
       "      <td>0</td>\n",
       "      <td>0</td>\n",
       "      <td>1</td>\n",
       "      <td>0</td>\n",
       "      <td>0</td>\n",
       "      <td>0</td>\n",
       "      <td>0</td>\n",
       "      <td>0</td>\n",
       "      <td>0</td>\n",
       "      <td>0</td>\n",
       "      <td>0</td>\n",
       "      <td>0</td>\n",
       "      <td>0</td>\n",
       "      <td>0</td>\n",
       "      <td>0</td>\n",
       "      <td>0</td>\n",
       "      <td>0</td>\n",
       "      <td>0</td>\n",
       "      <td>0</td>\n",
       "    </tr>\n",
       "    <tr>\n",
       "      <th>2</th>\n",
       "      <td>0</td>\n",
       "      <td>0</td>\n",
       "      <td>1</td>\n",
       "      <td>0</td>\n",
       "      <td>0</td>\n",
       "      <td>0</td>\n",
       "      <td>0</td>\n",
       "      <td>0</td>\n",
       "      <td>0</td>\n",
       "      <td>0</td>\n",
       "      <td>0</td>\n",
       "      <td>0</td>\n",
       "      <td>0</td>\n",
       "      <td>0</td>\n",
       "      <td>0</td>\n",
       "      <td>0</td>\n",
       "      <td>0</td>\n",
       "      <td>0</td>\n",
       "      <td>0</td>\n",
       "    </tr>\n",
       "    <tr>\n",
       "      <th>3</th>\n",
       "      <td>0</td>\n",
       "      <td>0</td>\n",
       "      <td>1</td>\n",
       "      <td>0</td>\n",
       "      <td>0</td>\n",
       "      <td>0</td>\n",
       "      <td>0</td>\n",
       "      <td>0</td>\n",
       "      <td>0</td>\n",
       "      <td>0</td>\n",
       "      <td>0</td>\n",
       "      <td>0</td>\n",
       "      <td>0</td>\n",
       "      <td>0</td>\n",
       "      <td>0</td>\n",
       "      <td>0</td>\n",
       "      <td>0</td>\n",
       "      <td>0</td>\n",
       "      <td>0</td>\n",
       "    </tr>\n",
       "    <tr>\n",
       "      <th>5</th>\n",
       "      <td>0</td>\n",
       "      <td>1</td>\n",
       "      <td>0</td>\n",
       "      <td>0</td>\n",
       "      <td>0</td>\n",
       "      <td>0</td>\n",
       "      <td>0</td>\n",
       "      <td>0</td>\n",
       "      <td>0</td>\n",
       "      <td>0</td>\n",
       "      <td>0</td>\n",
       "      <td>0</td>\n",
       "      <td>0</td>\n",
       "      <td>0</td>\n",
       "      <td>0</td>\n",
       "      <td>0</td>\n",
       "      <td>0</td>\n",
       "      <td>0</td>\n",
       "      <td>0</td>\n",
       "    </tr>\n",
       "    <tr>\n",
       "      <th>...</th>\n",
       "      <td>...</td>\n",
       "      <td>...</td>\n",
       "      <td>...</td>\n",
       "      <td>...</td>\n",
       "      <td>...</td>\n",
       "      <td>...</td>\n",
       "      <td>...</td>\n",
       "      <td>...</td>\n",
       "      <td>...</td>\n",
       "      <td>...</td>\n",
       "      <td>...</td>\n",
       "      <td>...</td>\n",
       "      <td>...</td>\n",
       "      <td>...</td>\n",
       "      <td>...</td>\n",
       "      <td>...</td>\n",
       "      <td>...</td>\n",
       "      <td>...</td>\n",
       "      <td>...</td>\n",
       "    </tr>\n",
       "    <tr>\n",
       "      <th>8033</th>\n",
       "      <td>0</td>\n",
       "      <td>0</td>\n",
       "      <td>1</td>\n",
       "      <td>0</td>\n",
       "      <td>0</td>\n",
       "      <td>0</td>\n",
       "      <td>0</td>\n",
       "      <td>0</td>\n",
       "      <td>0</td>\n",
       "      <td>0</td>\n",
       "      <td>0</td>\n",
       "      <td>0</td>\n",
       "      <td>0</td>\n",
       "      <td>0</td>\n",
       "      <td>0</td>\n",
       "      <td>0</td>\n",
       "      <td>0</td>\n",
       "      <td>0</td>\n",
       "      <td>0</td>\n",
       "    </tr>\n",
       "    <tr>\n",
       "      <th>8034</th>\n",
       "      <td>0</td>\n",
       "      <td>1</td>\n",
       "      <td>0</td>\n",
       "      <td>0</td>\n",
       "      <td>0</td>\n",
       "      <td>0</td>\n",
       "      <td>0</td>\n",
       "      <td>0</td>\n",
       "      <td>0</td>\n",
       "      <td>0</td>\n",
       "      <td>0</td>\n",
       "      <td>0</td>\n",
       "      <td>0</td>\n",
       "      <td>0</td>\n",
       "      <td>0</td>\n",
       "      <td>0</td>\n",
       "      <td>0</td>\n",
       "      <td>0</td>\n",
       "      <td>0</td>\n",
       "    </tr>\n",
       "    <tr>\n",
       "      <th>8037</th>\n",
       "      <td>1</td>\n",
       "      <td>0</td>\n",
       "      <td>0</td>\n",
       "      <td>0</td>\n",
       "      <td>0</td>\n",
       "      <td>0</td>\n",
       "      <td>0</td>\n",
       "      <td>0</td>\n",
       "      <td>0</td>\n",
       "      <td>0</td>\n",
       "      <td>0</td>\n",
       "      <td>0</td>\n",
       "      <td>0</td>\n",
       "      <td>0</td>\n",
       "      <td>0</td>\n",
       "      <td>0</td>\n",
       "      <td>0</td>\n",
       "      <td>0</td>\n",
       "      <td>0</td>\n",
       "    </tr>\n",
       "    <tr>\n",
       "      <th>8041</th>\n",
       "      <td>0</td>\n",
       "      <td>0</td>\n",
       "      <td>1</td>\n",
       "      <td>0</td>\n",
       "      <td>0</td>\n",
       "      <td>0</td>\n",
       "      <td>0</td>\n",
       "      <td>0</td>\n",
       "      <td>0</td>\n",
       "      <td>0</td>\n",
       "      <td>0</td>\n",
       "      <td>0</td>\n",
       "      <td>0</td>\n",
       "      <td>0</td>\n",
       "      <td>0</td>\n",
       "      <td>0</td>\n",
       "      <td>0</td>\n",
       "      <td>0</td>\n",
       "      <td>0</td>\n",
       "    </tr>\n",
       "    <tr>\n",
       "      <th>8042</th>\n",
       "      <td>0</td>\n",
       "      <td>0</td>\n",
       "      <td>0</td>\n",
       "      <td>0</td>\n",
       "      <td>0</td>\n",
       "      <td>0</td>\n",
       "      <td>0</td>\n",
       "      <td>0</td>\n",
       "      <td>0</td>\n",
       "      <td>0</td>\n",
       "      <td>0</td>\n",
       "      <td>0</td>\n",
       "      <td>0</td>\n",
       "      <td>0</td>\n",
       "      <td>0</td>\n",
       "      <td>1</td>\n",
       "      <td>1</td>\n",
       "      <td>0</td>\n",
       "      <td>0</td>\n",
       "    </tr>\n",
       "  </tbody>\n",
       "</table>\n",
       "<p>5087 rows × 19 columns</p>\n",
       "</div>"
      ],
      "text/plain": [
       "      V4402  V4403  V4404  V4405  V4406  V4407  V4408  V4409  V4410  V4411  \\\n",
       "0         0      0      0      0      0      0      0      0      0      1   \n",
       "1         0      0      1      0      0      0      0      0      0      0   \n",
       "2         0      0      1      0      0      0      0      0      0      0   \n",
       "3         0      0      1      0      0      0      0      0      0      0   \n",
       "5         0      1      0      0      0      0      0      0      0      0   \n",
       "...     ...    ...    ...    ...    ...    ...    ...    ...    ...    ...   \n",
       "8033      0      0      1      0      0      0      0      0      0      0   \n",
       "8034      0      1      0      0      0      0      0      0      0      0   \n",
       "8037      1      0      0      0      0      0      0      0      0      0   \n",
       "8041      0      0      1      0      0      0      0      0      0      0   \n",
       "8042      0      0      0      0      0      0      0      0      0      0   \n",
       "\n",
       "      V4412  V4413  V4414  V4415  V4416  V4417  V4418  V4419  V4420  \n",
       "0         0      0      0      0      0      0      0      0      0  \n",
       "1         0      0      0      0      0      0      0      0      0  \n",
       "2         0      0      0      0      0      0      0      0      0  \n",
       "3         0      0      0      0      0      0      0      0      0  \n",
       "5         0      0      0      0      0      0      0      0      0  \n",
       "...     ...    ...    ...    ...    ...    ...    ...    ...    ...  \n",
       "8033      0      0      0      0      0      0      0      0      0  \n",
       "8034      0      0      0      0      0      0      0      0      0  \n",
       "8037      0      0      0      0      0      0      0      0      0  \n",
       "8041      0      0      0      0      0      0      0      0      0  \n",
       "8042      0      0      0      0      0      1      1      0      0  \n",
       "\n",
       "[5087 rows x 19 columns]"
      ]
     },
     "execution_count": 125,
     "metadata": {},
     "output_type": "execute_result"
    }
   ],
   "source": [
    "more_reduced[targets]"
   ]
  },
  {
   "cell_type": "code",
   "execution_count": 126,
   "id": "8aa64bde-8215-4eb2-9a52-6bab64a80125",
   "metadata": {},
   "outputs": [],
   "source": [
    "encoded = pd.get_dummies(more_reduced, \n",
    "               columns = ['V2026', 'V4049', 'V3020', 'V3071', 'V4526AA'])"
   ]
  },
  {
   "cell_type": "code",
   "execution_count": 127,
   "id": "ed6d6d85-72f0-4bfc-9c6b-a5dfdf5ee7eb",
   "metadata": {},
   "outputs": [
    {
     "data": {
      "text/html": [
       "<div>\n",
       "<style scoped>\n",
       "    .dataframe tbody tr th:only-of-type {\n",
       "        vertical-align: middle;\n",
       "    }\n",
       "\n",
       "    .dataframe tbody tr th {\n",
       "        vertical-align: top;\n",
       "    }\n",
       "\n",
       "    .dataframe thead th {\n",
       "        text-align: right;\n",
       "    }\n",
       "</style>\n",
       "<table border=\"1\" class=\"dataframe\">\n",
       "  <thead>\n",
       "    <tr style=\"text-align: right;\">\n",
       "      <th></th>\n",
       "      <th>V2001</th>\n",
       "      <th>YEARQ</th>\n",
       "      <th>IDHH</th>\n",
       "      <th>IDPER</th>\n",
       "      <th>V2002</th>\n",
       "      <th>V2003</th>\n",
       "      <th>V2004</th>\n",
       "      <th>V2005</th>\n",
       "      <th>V2006</th>\n",
       "      <th>V2008</th>\n",
       "      <th>...</th>\n",
       "      <th>V3020_45</th>\n",
       "      <th>V3020_98</th>\n",
       "      <th>V3071_1</th>\n",
       "      <th>V3071_2</th>\n",
       "      <th>V3071_8</th>\n",
       "      <th>V3071_9</th>\n",
       "      <th>V4526AA_1</th>\n",
       "      <th>V4526AA_2</th>\n",
       "      <th>V4526AA_3</th>\n",
       "      <th>V4526AA_8</th>\n",
       "    </tr>\n",
       "  </thead>\n",
       "  <tbody>\n",
       "    <tr>\n",
       "      <th>0</th>\n",
       "      <td>2</td>\n",
       "      <td>2020.1</td>\n",
       "      <td>1602014158353447564559137</td>\n",
       "      <td>160201415835344756455913701</td>\n",
       "      <td>9</td>\n",
       "      <td>201</td>\n",
       "      <td>16</td>\n",
       "      <td>02014158353447564559</td>\n",
       "      <td>1</td>\n",
       "      <td>37</td>\n",
       "      <td>...</td>\n",
       "      <td>0</td>\n",
       "      <td>0</td>\n",
       "      <td>1</td>\n",
       "      <td>0</td>\n",
       "      <td>0</td>\n",
       "      <td>0</td>\n",
       "      <td>0</td>\n",
       "      <td>1</td>\n",
       "      <td>0</td>\n",
       "      <td>0</td>\n",
       "    </tr>\n",
       "    <tr>\n",
       "      <th>1</th>\n",
       "      <td>2</td>\n",
       "      <td>2020.1</td>\n",
       "      <td>1602071958685392584549331</td>\n",
       "      <td>160207195868539258454933101</td>\n",
       "      <td>9</td>\n",
       "      <td>201</td>\n",
       "      <td>16</td>\n",
       "      <td>02071958685392584549</td>\n",
       "      <td>3</td>\n",
       "      <td>31</td>\n",
       "      <td>...</td>\n",
       "      <td>0</td>\n",
       "      <td>0</td>\n",
       "      <td>0</td>\n",
       "      <td>1</td>\n",
       "      <td>0</td>\n",
       "      <td>0</td>\n",
       "      <td>0</td>\n",
       "      <td>1</td>\n",
       "      <td>0</td>\n",
       "      <td>0</td>\n",
       "    </tr>\n",
       "    <tr>\n",
       "      <th>2</th>\n",
       "      <td>2</td>\n",
       "      <td>2020.1</td>\n",
       "      <td>1602071958685392584549331</td>\n",
       "      <td>160207195868539258454933101</td>\n",
       "      <td>9</td>\n",
       "      <td>201</td>\n",
       "      <td>16</td>\n",
       "      <td>02071958685392584549</td>\n",
       "      <td>3</td>\n",
       "      <td>31</td>\n",
       "      <td>...</td>\n",
       "      <td>0</td>\n",
       "      <td>0</td>\n",
       "      <td>0</td>\n",
       "      <td>1</td>\n",
       "      <td>0</td>\n",
       "      <td>0</td>\n",
       "      <td>0</td>\n",
       "      <td>1</td>\n",
       "      <td>0</td>\n",
       "      <td>0</td>\n",
       "    </tr>\n",
       "    <tr>\n",
       "      <th>3</th>\n",
       "      <td>2</td>\n",
       "      <td>2020.1</td>\n",
       "      <td>1602071965133498564549121</td>\n",
       "      <td>160207196513349856454912101</td>\n",
       "      <td>5</td>\n",
       "      <td>201</td>\n",
       "      <td>16</td>\n",
       "      <td>02071965133498564549</td>\n",
       "      <td>1</td>\n",
       "      <td>21</td>\n",
       "      <td>...</td>\n",
       "      <td>0</td>\n",
       "      <td>0</td>\n",
       "      <td>1</td>\n",
       "      <td>0</td>\n",
       "      <td>0</td>\n",
       "      <td>0</td>\n",
       "      <td>0</td>\n",
       "      <td>1</td>\n",
       "      <td>0</td>\n",
       "      <td>0</td>\n",
       "    </tr>\n",
       "    <tr>\n",
       "      <th>5</th>\n",
       "      <td>2</td>\n",
       "      <td>2020.1</td>\n",
       "      <td>1602073992355333564544321</td>\n",
       "      <td>160207399235533356454432101</td>\n",
       "      <td>8</td>\n",
       "      <td>201</td>\n",
       "      <td>16</td>\n",
       "      <td>02073992355333564544</td>\n",
       "      <td>3</td>\n",
       "      <td>21</td>\n",
       "      <td>...</td>\n",
       "      <td>0</td>\n",
       "      <td>0</td>\n",
       "      <td>1</td>\n",
       "      <td>0</td>\n",
       "      <td>0</td>\n",
       "      <td>0</td>\n",
       "      <td>1</td>\n",
       "      <td>0</td>\n",
       "      <td>0</td>\n",
       "      <td>0</td>\n",
       "    </tr>\n",
       "    <tr>\n",
       "      <th>...</th>\n",
       "      <td>...</td>\n",
       "      <td>...</td>\n",
       "      <td>...</td>\n",
       "      <td>...</td>\n",
       "      <td>...</td>\n",
       "      <td>...</td>\n",
       "      <td>...</td>\n",
       "      <td>...</td>\n",
       "      <td>...</td>\n",
       "      <td>...</td>\n",
       "      <td>...</td>\n",
       "      <td>...</td>\n",
       "      <td>...</td>\n",
       "      <td>...</td>\n",
       "      <td>...</td>\n",
       "      <td>...</td>\n",
       "      <td>...</td>\n",
       "      <td>...</td>\n",
       "      <td>...</td>\n",
       "      <td>...</td>\n",
       "      <td>...</td>\n",
       "    </tr>\n",
       "    <tr>\n",
       "      <th>8033</th>\n",
       "      <td>2</td>\n",
       "      <td>2020.4</td>\n",
       "      <td>1998891392464695568234147</td>\n",
       "      <td>199889139246469556823414701</td>\n",
       "      <td>1</td>\n",
       "      <td>204</td>\n",
       "      <td>19</td>\n",
       "      <td>98891392464695568234</td>\n",
       "      <td>1</td>\n",
       "      <td>47</td>\n",
       "      <td>...</td>\n",
       "      <td>0</td>\n",
       "      <td>0</td>\n",
       "      <td>1</td>\n",
       "      <td>0</td>\n",
       "      <td>0</td>\n",
       "      <td>0</td>\n",
       "      <td>0</td>\n",
       "      <td>1</td>\n",
       "      <td>0</td>\n",
       "      <td>0</td>\n",
       "    </tr>\n",
       "    <tr>\n",
       "      <th>8034</th>\n",
       "      <td>2</td>\n",
       "      <td>2020.4</td>\n",
       "      <td>1998891625468390568245147</td>\n",
       "      <td>199889162546839056824514701</td>\n",
       "      <td>2</td>\n",
       "      <td>204</td>\n",
       "      <td>19</td>\n",
       "      <td>98891625468390568245</td>\n",
       "      <td>1</td>\n",
       "      <td>47</td>\n",
       "      <td>...</td>\n",
       "      <td>0</td>\n",
       "      <td>0</td>\n",
       "      <td>0</td>\n",
       "      <td>1</td>\n",
       "      <td>0</td>\n",
       "      <td>0</td>\n",
       "      <td>0</td>\n",
       "      <td>1</td>\n",
       "      <td>0</td>\n",
       "      <td>0</td>\n",
       "    </tr>\n",
       "    <tr>\n",
       "      <th>8037</th>\n",
       "      <td>2</td>\n",
       "      <td>2020.4</td>\n",
       "      <td>1998941684460892565945147</td>\n",
       "      <td>199894168446089256594514703</td>\n",
       "      <td>3</td>\n",
       "      <td>204</td>\n",
       "      <td>19</td>\n",
       "      <td>98941684460892565945</td>\n",
       "      <td>1</td>\n",
       "      <td>47</td>\n",
       "      <td>...</td>\n",
       "      <td>0</td>\n",
       "      <td>0</td>\n",
       "      <td>1</td>\n",
       "      <td>0</td>\n",
       "      <td>0</td>\n",
       "      <td>0</td>\n",
       "      <td>0</td>\n",
       "      <td>1</td>\n",
       "      <td>0</td>\n",
       "      <td>0</td>\n",
       "    </tr>\n",
       "    <tr>\n",
       "      <th>8041</th>\n",
       "      <td>2</td>\n",
       "      <td>2020.4</td>\n",
       "      <td>1998945258028922565932157</td>\n",
       "      <td>199894525802892256593215701</td>\n",
       "      <td>7</td>\n",
       "      <td>204</td>\n",
       "      <td>19</td>\n",
       "      <td>98945258028922565932</td>\n",
       "      <td>1</td>\n",
       "      <td>57</td>\n",
       "      <td>...</td>\n",
       "      <td>1</td>\n",
       "      <td>0</td>\n",
       "      <td>1</td>\n",
       "      <td>0</td>\n",
       "      <td>0</td>\n",
       "      <td>0</td>\n",
       "      <td>0</td>\n",
       "      <td>1</td>\n",
       "      <td>0</td>\n",
       "      <td>0</td>\n",
       "    </tr>\n",
       "    <tr>\n",
       "      <th>8042</th>\n",
       "      <td>2</td>\n",
       "      <td>2020.4</td>\n",
       "      <td>1998951992687206564449156</td>\n",
       "      <td>199895199268720656444915603</td>\n",
       "      <td>8</td>\n",
       "      <td>204</td>\n",
       "      <td>19</td>\n",
       "      <td>98951992687206564449</td>\n",
       "      <td>1</td>\n",
       "      <td>56</td>\n",
       "      <td>...</td>\n",
       "      <td>0</td>\n",
       "      <td>0</td>\n",
       "      <td>0</td>\n",
       "      <td>1</td>\n",
       "      <td>0</td>\n",
       "      <td>0</td>\n",
       "      <td>0</td>\n",
       "      <td>1</td>\n",
       "      <td>0</td>\n",
       "      <td>0</td>\n",
       "    </tr>\n",
       "  </tbody>\n",
       "</table>\n",
       "<p>5087 rows × 1542 columns</p>\n",
       "</div>"
      ],
      "text/plain": [
       "      V2001   YEARQ                       IDHH                        IDPER  \\\n",
       "0         2  2020.1  1602014158353447564559137  160201415835344756455913701   \n",
       "1         2  2020.1  1602071958685392584549331  160207195868539258454933101   \n",
       "2         2  2020.1  1602071958685392584549331  160207195868539258454933101   \n",
       "3         2  2020.1  1602071965133498564549121  160207196513349856454912101   \n",
       "5         2  2020.1  1602073992355333564544321  160207399235533356454432101   \n",
       "...     ...     ...                        ...                          ...   \n",
       "8033      2  2020.4  1998891392464695568234147  199889139246469556823414701   \n",
       "8034      2  2020.4  1998891625468390568245147  199889162546839056824514701   \n",
       "8037      2  2020.4  1998941684460892565945147  199894168446089256594514703   \n",
       "8041      2  2020.4  1998945258028922565932157  199894525802892256593215701   \n",
       "8042      2  2020.4  1998951992687206564449156  199895199268720656444915603   \n",
       "\n",
       "      V2002  V2003  V2004                 V2005  V2006  V2008  ...  V3020_45  \\\n",
       "0         9    201     16  02014158353447564559      1     37  ...         0   \n",
       "1         9    201     16  02071958685392584549      3     31  ...         0   \n",
       "2         9    201     16  02071958685392584549      3     31  ...         0   \n",
       "3         5    201     16  02071965133498564549      1     21  ...         0   \n",
       "5         8    201     16  02073992355333564544      3     21  ...         0   \n",
       "...     ...    ...    ...                   ...    ...    ...  ...       ...   \n",
       "8033      1    204     19  98891392464695568234      1     47  ...         0   \n",
       "8034      2    204     19  98891625468390568245      1     47  ...         0   \n",
       "8037      3    204     19  98941684460892565945      1     47  ...         0   \n",
       "8041      7    204     19  98945258028922565932      1     57  ...         1   \n",
       "8042      8    204     19  98951992687206564449      1     56  ...         0   \n",
       "\n",
       "      V3020_98  V3071_1  V3071_2  V3071_8  V3071_9  V4526AA_1  V4526AA_2  \\\n",
       "0            0        1        0        0        0          0          1   \n",
       "1            0        0        1        0        0          0          1   \n",
       "2            0        0        1        0        0          0          1   \n",
       "3            0        1        0        0        0          0          1   \n",
       "5            0        1        0        0        0          1          0   \n",
       "...        ...      ...      ...      ...      ...        ...        ...   \n",
       "8033         0        1        0        0        0          0          1   \n",
       "8034         0        0        1        0        0          0          1   \n",
       "8037         0        1        0        0        0          0          1   \n",
       "8041         0        1        0        0        0          0          1   \n",
       "8042         0        0        1        0        0          0          1   \n",
       "\n",
       "      V4526AA_3  V4526AA_8  \n",
       "0             0          0  \n",
       "1             0          0  \n",
       "2             0          0  \n",
       "3             0          0  \n",
       "5             0          0  \n",
       "...         ...        ...  \n",
       "8033          0          0  \n",
       "8034          0          0  \n",
       "8037          0          0  \n",
       "8041          0          0  \n",
       "8042          0          0  \n",
       "\n",
       "[5087 rows x 1542 columns]"
      ]
     },
     "execution_count": 127,
     "metadata": {},
     "output_type": "execute_result"
    }
   ],
   "source": [
    "encoded"
   ]
  },
  {
   "cell_type": "code",
   "execution_count": 128,
   "id": "5e5fc223-2d3e-44f3-9602-23dfbcaa6883",
   "metadata": {},
   "outputs": [],
   "source": [
    "lst = ['V2026_1','V2026_2','V2026_3', 'V2026_4', 'V2026_5', 'V2026_6',\n",
    "             'V2026_7', 'V2026_8', 'V2026_9', 'V2026_10', 'V2026_11', 'V2026_12',\n",
    "             'V2026_13', 'V2026_15','V2026_16','V2026_17', 'V2026_18',\n",
    "             'V4049_1', 'V4049_2', 'V4049_3', 'V3071_1', 'V3071_2', 'V4526AA_1', \n",
    "       'V4526AA_2', 'V4526AA_3']\n",
    "lst = lst + v3020\n",
    "X = encoded[lst]"
   ]
  },
  {
   "cell_type": "code",
   "execution_count": 129,
   "id": "d097c09a-4ec3-4003-94c7-3c387b1e8d96",
   "metadata": {},
   "outputs": [],
   "source": [
    "v3020 = []\n",
    "not_included = [12,13, 14,15,16,17,18,19,20,21,22,23,24,25,26,29,30,\n",
    "                31,32,33,34,35,36, 37,38,39]\n",
    "for i in range(1,46):\n",
    "    if(i not in not_included):\n",
    "        v3020.append('V3020_' + str(i))"
   ]
  },
  {
   "cell_type": "code",
   "execution_count": 130,
   "id": "c96717fd-89c5-45f5-893f-65da12d5e732",
   "metadata": {},
   "outputs": [
    {
     "data": {
      "text/plain": [
       "0    5043\n",
       "1      44\n",
       "Name: V4420, dtype: int64"
      ]
     },
     "execution_count": 130,
     "metadata": {},
     "output_type": "execute_result"
    }
   ],
   "source": [
    "encoded['V4420'].value_counts()"
   ]
  },
  {
   "cell_type": "code",
   "execution_count": 131,
   "id": "1d3f111a-3865-45b0-83c3-68ee7771846d",
   "metadata": {},
   "outputs": [],
   "source": [
    "y =encoded[targets]\n",
    "X = encoded[lst]"
   ]
  },
  {
   "cell_type": "code",
   "execution_count": 132,
   "id": "48b01b96-3a77-4d08-adf2-cec37c096a98",
   "metadata": {},
   "outputs": [
    {
     "data": {
      "text/plain": [
       "array([[0, 0, 0, ..., 0, 0, 0],\n",
       "       [0, 0, 1, ..., 0, 0, 0],\n",
       "       [0, 0, 1, ..., 0, 0, 0],\n",
       "       ...,\n",
       "       [1, 0, 0, ..., 0, 0, 0],\n",
       "       [0, 0, 1, ..., 0, 0, 0],\n",
       "       [0, 0, 0, ..., 1, 0, 0]])"
      ]
     },
     "execution_count": 132,
     "metadata": {},
     "output_type": "execute_result"
    }
   ],
   "source": [
    "y.to_numpy()"
   ]
  },
  {
   "cell_type": "code",
   "execution_count": 133,
   "id": "834d0762-93dc-4275-b6e0-f139ce9b9008",
   "metadata": {},
   "outputs": [
    {
     "data": {
      "text/plain": [
       "array([4443,  644])"
      ]
     },
     "execution_count": 133,
     "metadata": {},
     "output_type": "execute_result"
    }
   ],
   "source": [
    "encoded['V4402'].value_counts().to_numpy()"
   ]
  },
  {
   "cell_type": "code",
   "execution_count": 134,
   "id": "0546f735-42ae-4362-aa6a-d4121217edf6",
   "metadata": {},
   "outputs": [],
   "source": [
    "sm = 0\n",
    "distribution = []\n",
    "for i in targets:\n",
    "    sm += encoded[i].value_counts().to_numpy()[1]\n",
    "    distribution.append(encoded[i].value_counts().to_numpy()[1])"
   ]
  },
  {
   "cell_type": "code",
   "execution_count": 135,
   "id": "5041acc0-7a34-4090-81e5-a0aac86b7d66",
   "metadata": {},
   "outputs": [
    {
     "data": {
      "text/plain": [
       "[644,\n",
       " 554,\n",
       " 1641,\n",
       " 64,\n",
       " 147,\n",
       " 114,\n",
       " 280,\n",
       " 297,\n",
       " 608,\n",
       " 983,\n",
       " 316,\n",
       " 60,\n",
       " 5,\n",
       " 176,\n",
       " 16,\n",
       " 92,\n",
       " 371,\n",
       " 219,\n",
       " 44]"
      ]
     },
     "execution_count": 135,
     "metadata": {},
     "output_type": "execute_result"
    }
   ],
   "source": [
    "distribution"
   ]
  },
  {
   "cell_type": "code",
   "execution_count": 136,
   "id": "c5ad010a-fe30-4dbd-a4ea-df784f6b5440",
   "metadata": {},
   "outputs": [],
   "source": [
    "import matplotlib.pyplot as plt"
   ]
  },
  {
   "cell_type": "code",
   "execution_count": 140,
   "id": "69a26284-012d-4b37-8a91-956c52859938",
   "metadata": {},
   "outputs": [
    {
     "data": {
      "text/plain": [
       "<BarContainer object of 19 artists>"
      ]
     },
     "execution_count": 140,
     "metadata": {},
     "output_type": "execute_result"
    },
    {
     "data": {
      "image/png": "[encoded data removed]",
      "text/plain": [
       "<Figure size 1440x360 with 1 Axes>"
      ]
     },
     "metadata": {
      "needs_background": "light"
     },
     "output_type": "display_data"
    }
   ],
   "source": [
    "\n",
    "fig = plt.figure(figsize = (20, 5))\n",
    "plt.bar(targets, distribution)"
   ]
  },
  {
   "cell_type": "code",
   "execution_count": 112,
   "id": "71bd34b0-3249-40fc-9386-b5c8d5dcfe03",
   "metadata": {},
   "outputs": [
    {
     "data": {
      "text/plain": [
       "6631"
      ]
     },
     "execution_count": 112,
     "metadata": {},
     "output_type": "execute_result"
    }
   ],
   "source": [
    "sm"
   ]
  },
  {
   "cell_type": "code",
   "execution_count": 115,
   "id": "3834e694-b7ce-48a3-8b00-b00a05c537d3",
   "metadata": {},
   "outputs": [
    {
     "data": {
      "text/plain": [
       "1119"
      ]
     },
     "execution_count": 115,
     "metadata": {},
     "output_type": "execute_result"
    }
   ],
   "source": [
    "y_np = y.to_numpy()\n",
    "count = 0\n",
    "for i in range(len(y_np)):\n",
    "    if(np.sum(y_np[i])>1):\n",
    "        count+=1\n",
    "count"
   ]
  },
  {
   "cell_type": "code",
   "execution_count": 14,
   "id": "e99f368b-6f28-4682-861c-5b2f2e2c4269",
   "metadata": {},
   "outputs": [],
   "source": [
    "data2 = pd.get_dummies(reduced, columns=['V2143','V2036','V2020','V3071','V2125','V4025','V4049',\n",
    "                                      'V4127','V4184','V4234','V4235','V4484','V4524','V4525','V4526AA','V2026','V4017',\n",
    "                                      'V2034','V2040A','V2047','V2132','V3024','V3046','V3058','V3074','YEARQ','V4048',\n",
    "                                      'V4095','V4051','V4052','V4053','V4054','V4055','V4056','V4057','V4060','V4062',\n",
    "                                      'V4064','V4066','V4067','V4068','V4070','V4071','V4072','V4073','V4075',\n",
    "                                     'V4078','V4080','V4081','V4082','V4083','V4084','V4085','V4086','V4087','V4088',\n",
    "                                      'V4089','V4090','V4091','V4094','V4095','V4096','V4097','V4098','V4099','V4100',\n",
    "                                      'V4101','V4102','V4103','V4104','V4105','V4106','V4107','V4124','V4529'])\n",
    "\n",
    "feature_names = ['V2143_2', 'V2143_1', 'V2143_3', 'V2036_1', 'V2036_2','V2020_1','V2020_2','V2020_4','V2020_5'\n",
    "                ,'V2020_6','V2020_8','V2020_11','V2020_12','V3071_1','V3071_2','V2125_1','V2125_2','V4025_1',\n",
    "                 'V4025_2','V4049_1','V4049_2','V4127_1','V4127_2','V4184_1','V4184_2','V4234_1','V4234_2','V4235_1',\n",
    "                 'V4235_2','V4484_1','V4484_2','V4524_1','V4524_2','V4525_1','V4525_2','V4526AA_1','V4526AA_2',\n",
    "                 'V4526AA_3','V2026_1','V2026_2','V2026_3','V2026_4','V2026_5','V2026_6','V2026_7','V2026_8','V2026_9',\n",
    "                 'V2026_10','V2026_11','V2026_12','V2026_13','V2026_15','V2026_16','V2026_17','V2026_18','V2033','V2071',\n",
    "                 'V2072','V4016','V4364','V4017_1','V4017_2','V2034_1','V2034_2','V2034_3','V2034_4','V2034_5','V2040A_1',\n",
    "                'V2040A_5','V2040A_3','V2040A_4','V2040A_2','V2040A_6','V2040A_7','V2040A_8','V2040A_10','V2040A_15',\n",
    "                 'V2040A_11','V2040A_19','V2040A_16','V2040A_12','V2040A_18','V2040A_17','V2040A_13',\n",
    "                 'V2040A_9','V2040A_20','V2047_42','V2047_41','V2047_10','V2047_28','V2047_27','V2047_43','V2047_44',\n",
    "                 'V2047_11','V2047_40','V2047_9','V2047_45','V2047_7','V2047_8','V2047_0','V2047_6','V2047_3','V2047_2',\n",
    "                 'V2047_1','V2047_4','V2047_5','V2132_4','V2132_1','V2132_2','V2132_3','V2132_0','V3024_1','V3024_2','V3046_2',\n",
    "                 'V3046_1','V3058_1','V3058_2','V3074_11','V3074_12','V3074_27','V3074_2','V3074_8','V3074_9',\n",
    "                'V3074_16','V3074_3','V3074_10','V3074_17','V3074_14','V3074_18','V3074_6','V3074_1','V3074_20','V3074_5',\n",
    "                'V3074_22','V3074_24','V3074_21','V3074_25','V3074_13','YEARQ_2020.1','YEARQ_2020.2','YEARQ_2020.3',\n",
    "                 'YEARQ_2020.4','V4048_1','V4048_2','V4095_0','V4095_1','V4051_0','V4051_1','V4052_0','V4052_1','V4053_0',\n",
    "                'V4053_1','V4054_0','V4054_1','V4055_0','V4055_1','V4056_0','V4056_1','V4057_0','V4060_1',\n",
    "                 'V4060_2','V4062_1','V4062_2','V4064_1','V4064_2','V4066_0','V4066_1','V4067_0','V4067_1','V4068_0','V4068_1',\n",
    "                 'V4070_0','V4070_1','V4071_0','V4071_1','V4072_0','V4072_1','V4073_0','V4073_1','V4075_0','V4075_1','V4078_0',\n",
    "                 'V4078_1','V4080_0', 'V4080_1','V4081_0','V4081_1','V4082_0','V4082_1','V4083_0','V4083_1','V4084_0','V4084_1',\n",
    "                 'V4085_0','V4085_1','V4086_0','V4086_1','V4087_0','V4087_1','V4088_0','V4088_1','V4089_0','V4089_1',\n",
    "                 'V4090_0','V4090_1','V4091_0','V4091_1','V4094_0','V4094_1','V4095_0','V4095_1','V4096_0','V4096_1',\n",
    "                'V4097_0','V4098_0','V4099_0','V4100_0','V4100_1','V4101_0',\n",
    "                'V4102_0','V4102_1','V4103_0','V4103_1','V4104_0','V4104_1','V4105_0','V4105_1','V4106_0','V4106_1',\n",
    "                'V4107_0','V4107_1','V4124_2','V4124_7','V4124_10','V4529_55','V4529_56','V4529_54','V4529_57',\n",
    "                'V4529_17','V4529_11','V4529_58','V4529_12','V4529_40','V4529_14','V4529_32','V4529_10','V4529_1','V4529_41','V4529_31',\n",
    "                'V4529_59','V4529_20','V4529_33','V4529_13','V4529_5','V4529_7','V4529_15','V4529_9','V4529_2','V4529_23','V4529_6',\n",
    "                'V4529_19','V4529_8','V4529_4','V4529_18','V4529_16','V4529_3','V4529_22']\n",
    "\n",
    "X2 = data2[feature_names]\n",
    "y2 = data2.V4404\n",
    "\n",
    "X_train,X_test,y_train,y_test = train_test_split(X2,y2,test_size=0.25,random_state=0)"
   ]
  },
  {
   "cell_type": "code",
   "execution_count": 26,
   "id": "56246ff7-6f86-47b0-846c-12b87484b68d",
   "metadata": {},
   "outputs": [],
   "source": [
    "\n",
    "#Five different classification modles on the top 5 classes of non-reporting\n",
    "# Split the data into training and testing sets\n"
   ]
  },
  {
   "cell_type": "code",
   "execution_count": 79,
   "id": "517054cc-9944-4153-814c-ef7e8dd040ba",
   "metadata": {},
   "outputs": [
    {
     "data": {
      "text/plain": [
       "array([[0, 0, 1, ..., 0, 0, 0],\n",
       "       [1, 0, 1, ..., 0, 0, 0],\n",
       "       [0, 0, 0, ..., 0, 0, 0],\n",
       "       ...,\n",
       "       [0, 0, 0, ..., 0, 0, 0],\n",
       "       [0, 0, 1, ..., 0, 0, 0],\n",
       "       [0, 0, 1, ..., 0, 0, 0]])"
      ]
     },
     "execution_count": 79,
     "metadata": {},
     "output_type": "execute_result"
    }
   ],
   "source": [
    "y_test"
   ]
  },
  {
   "cell_type": "code",
   "execution_count": 43,
   "id": "6f585a00-1ac3-4a9f-80e4-dc5acddfe130",
   "metadata": {},
   "outputs": [
    {
     "data": {
      "text/html": [
       "<style>#sk-container-id-3 {color: black;background-color: white;}#sk-container-id-3 pre{padding: 0;}#sk-container-id-3 div.sk-toggleable {background-color: white;}#sk-container-id-3 label.sk-toggleable__label {cursor: pointer;display: block;width: 100%;margin-bottom: 0;padding: 0.3em;box-sizing: border-box;text-align: center;}#sk-container-id-3 label.sk-toggleable__label-arrow:before {content: \"▸\";float: left;margin-right: 0.25em;color: #696969;}#sk-container-id-3 label.sk-toggleable__label-arrow:hover:before {color: black;}#sk-container-id-3 div.sk-estimator:hover label.sk-toggleable__label-arrow:before {color: black;}#sk-container-id-3 div.sk-toggleable__content {max-height: 0;max-width: 0;overflow: hidden;text-align: left;background-color: #f0f8ff;}#sk-container-id-3 div.sk-toggleable__content pre {margin: 0.2em;color: black;border-radius: 0.25em;background-color: #f0f8ff;}#sk-container-id-3 input.sk-toggleable__control:checked~div.sk-toggleable__content {max-height: 200px;max-width: 100%;overflow: auto;}#sk-container-id-3 input.sk-toggleable__control:checked~label.sk-toggleable__label-arrow:before {content: \"▾\";}#sk-container-id-3 div.sk-estimator input.sk-toggleable__control:checked~label.sk-toggleable__label {background-color: #d4ebff;}#sk-container-id-3 div.sk-label input.sk-toggleable__control:checked~label.sk-toggleable__label {background-color: #d4ebff;}#sk-container-id-3 input.sk-hidden--visually {border: 0;clip: rect(1px 1px 1px 1px);clip: rect(1px, 1px, 1px, 1px);height: 1px;margin: -1px;overflow: hidden;padding: 0;position: absolute;width: 1px;}#sk-container-id-3 div.sk-estimator {font-family: monospace;background-color: #f0f8ff;border: 1px dotted black;border-radius: 0.25em;box-sizing: border-box;margin-bottom: 0.5em;}#sk-container-id-3 div.sk-estimator:hover {background-color: #d4ebff;}#sk-container-id-3 div.sk-parallel-item::after {content: \"\";width: 100%;border-bottom: 1px solid gray;flex-grow: 1;}#sk-container-id-3 div.sk-label:hover label.sk-toggleable__label {background-color: #d4ebff;}#sk-container-id-3 div.sk-serial::before {content: \"\";position: absolute;border-left: 1px solid gray;box-sizing: border-box;top: 0;bottom: 0;left: 50%;z-index: 0;}#sk-container-id-3 div.sk-serial {display: flex;flex-direction: column;align-items: center;background-color: white;padding-right: 0.2em;padding-left: 0.2em;position: relative;}#sk-container-id-3 div.sk-item {position: relative;z-index: 1;}#sk-container-id-3 div.sk-parallel {display: flex;align-items: stretch;justify-content: center;background-color: white;position: relative;}#sk-container-id-3 div.sk-item::before, #sk-container-id-3 div.sk-parallel-item::before {content: \"\";position: absolute;border-left: 1px solid gray;box-sizing: border-box;top: 0;bottom: 0;left: 50%;z-index: -1;}#sk-container-id-3 div.sk-parallel-item {display: flex;flex-direction: column;z-index: 1;position: relative;background-color: white;}#sk-container-id-3 div.sk-parallel-item:first-child::after {align-self: flex-end;width: 50%;}#sk-container-id-3 div.sk-parallel-item:last-child::after {align-self: flex-start;width: 50%;}#sk-container-id-3 div.sk-parallel-item:only-child::after {width: 0;}#sk-container-id-3 div.sk-dashed-wrapped {border: 1px dashed gray;margin: 0 0.4em 0.5em 0.4em;box-sizing: border-box;padding-bottom: 0.4em;background-color: white;}#sk-container-id-3 div.sk-label label {font-family: monospace;font-weight: bold;display: inline-block;line-height: 1.2em;}#sk-container-id-3 div.sk-label-container {text-align: center;}#sk-container-id-3 div.sk-container {/* jupyter's `normalize.less` sets `[hidden] { display: none; }` but bootstrap.min.css set `[hidden] { display: none !important; }` so we also need the `!important` here to be able to override the default hidden behavior on the sphinx rendered scikit-learn.org. See: https://github.com/scikit-learn/scikit-learn/issues/21755 */display: inline-block !important;position: relative;}#sk-container-id-3 div.sk-text-repr-fallback {display: none;}</style><div id=\"sk-container-id-3\" class=\"sk-top-container\"><div class=\"sk-text-repr-fallback\"><pre>RandomForestClassifier(class_weight=&#x27;balanced&#x27;, criterion=&#x27;entropy&#x27;,\n",
       "                       n_estimators=10, random_state=0)</pre><b>In a Jupyter environment, please rerun this cell to show the HTML representation or trust the notebook. <br />On GitHub, the HTML representation is unable to render, please try loading this page with nbviewer.org.</b></div><div class=\"sk-container\" hidden><div class=\"sk-item\"><div class=\"sk-estimator sk-toggleable\"><input class=\"sk-toggleable__control sk-hidden--visually\" id=\"sk-estimator-id-3\" type=\"checkbox\" checked><label for=\"sk-estimator-id-3\" class=\"sk-toggleable__label sk-toggleable__label-arrow\">RandomForestClassifier</label><div class=\"sk-toggleable__content\"><pre>RandomForestClassifier(class_weight=&#x27;balanced&#x27;, criterion=&#x27;entropy&#x27;,\n",
       "                       n_estimators=10, random_state=0)</pre></div></div></div></div></div>"
      ],
      "text/plain": [
       "RandomForestClassifier(class_weight='balanced', criterion='entropy',\n",
       "                       n_estimators=10, random_state=0)"
      ]
     },
     "execution_count": 43,
     "metadata": {},
     "output_type": "execute_result"
    }
   ],
   "source": [
    "#V4404 - MINOR CRIME, NO LOSS\n",
    "rmf = RandomForestClassifier(n_estimators=10, random_state=0,criterion=\"entropy\", class_weight='balanced')\n",
    "rmf.fit(X_train, y_train)"
   ]
  },
  {
   "cell_type": "code",
   "execution_count": 44,
   "id": "e9a0752f-f99a-4bed-94d5-25ad65afb75e",
   "metadata": {},
   "outputs": [
    {
     "data": {
      "text/plain": [
       "0.9814330543933054"
      ]
     },
     "execution_count": 44,
     "metadata": {},
     "output_type": "execute_result"
    }
   ],
   "source": [
    "rmf.score(X_train,y_train)"
   ]
  },
  {
   "cell_type": "code",
   "execution_count": 45,
   "id": "bfd6010c-92a9-40ef-9646-69a9d658e664",
   "metadata": {},
   "outputs": [
    {
     "name": "stdout",
     "output_type": "stream",
     "text": [
      "              precision    recall  f1-score   support\n",
      "\n",
      "           0       0.74      0.89      0.81       871\n",
      "           1       0.59      0.33      0.42       404\n",
      "\n",
      "    accuracy                           0.71      1275\n",
      "   macro avg       0.67      0.61      0.62      1275\n",
      "weighted avg       0.69      0.71      0.69      1275\n",
      "\n",
      "[[778  93]\n",
      " [271 133]]\n"
     ]
    }
   ],
   "source": [
    "y_pred = rmf.predict(X_test)\n",
    "\n",
    "# Evaluate performance\n",
    "from sklearn.metrics import classification_report, confusion_matrix\n",
    "print(classification_report(y_test, y_pred))\n",
    "print(confusion_matrix(y_test, y_pred))"
   ]
  },
  {
   "cell_type": "code",
   "execution_count": 46,
   "id": "d63727cc-0c84-4f9c-bb24-f6d667e0e08b",
   "metadata": {},
   "outputs": [
    {
     "data": {
      "text/plain": [
       "0.7145098039215686"
      ]
     },
     "execution_count": 46,
     "metadata": {},
     "output_type": "execute_result"
    }
   ],
   "source": [
    "rmf.score(X_test,y_test)"
   ]
  },
  {
   "cell_type": "code",
   "execution_count": 47,
   "id": "0faceade-ba65-4188-b6c4-187b7d56b675",
   "metadata": {},
   "outputs": [
    {
     "data": {
      "text/plain": [
       "(0    2587\n",
       " 1    1237\n",
       " Name: V4404, dtype: int64,\n",
       " 0    871\n",
       " 1    404\n",
       " Name: V4404, dtype: int64,\n",
       " 0.6831372549019608)"
      ]
     },
     "execution_count": 47,
     "metadata": {},
     "output_type": "execute_result"
    }
   ],
   "source": [
    "y_train.value_counts(), y_test.value_counts(), 871/(871+404)"
   ]
  },
  {
   "cell_type": "code",
   "execution_count": 48,
   "id": "6619ced8-4fb2-4963-a9e5-cc5828a88281",
   "metadata": {},
   "outputs": [],
   "source": [
    "X2 = data2[feature_names]\n",
    "y3 = data2.V4402\n",
    "#4402 - RPTD To Different Official\n",
    "X_train2,X_test2,y_train2,y_test2 = train_test_split(X2,y3,test_size=0.25,random_state=0)"
   ]
  },
  {
   "cell_type": "code",
   "execution_count": 49,
   "id": "a2498153-bbb5-49a2-8ce3-3577a6eb75b9",
   "metadata": {},
   "outputs": [
    {
     "data": {
      "text/html": [
       "<style>#sk-container-id-4 {color: black;background-color: white;}#sk-container-id-4 pre{padding: 0;}#sk-container-id-4 div.sk-toggleable {background-color: white;}#sk-container-id-4 label.sk-toggleable__label {cursor: pointer;display: block;width: 100%;margin-bottom: 0;padding: 0.3em;box-sizing: border-box;text-align: center;}#sk-container-id-4 label.sk-toggleable__label-arrow:before {content: \"▸\";float: left;margin-right: 0.25em;color: #696969;}#sk-container-id-4 label.sk-toggleable__label-arrow:hover:before {color: black;}#sk-container-id-4 div.sk-estimator:hover label.sk-toggleable__label-arrow:before {color: black;}#sk-container-id-4 div.sk-toggleable__content {max-height: 0;max-width: 0;overflow: hidden;text-align: left;background-color: #f0f8ff;}#sk-container-id-4 div.sk-toggleable__content pre {margin: 0.2em;color: black;border-radius: 0.25em;background-color: #f0f8ff;}#sk-container-id-4 input.sk-toggleable__control:checked~div.sk-toggleable__content {max-height: 200px;max-width: 100%;overflow: auto;}#sk-container-id-4 input.sk-toggleable__control:checked~label.sk-toggleable__label-arrow:before {content: \"▾\";}#sk-container-id-4 div.sk-estimator input.sk-toggleable__control:checked~label.sk-toggleable__label {background-color: #d4ebff;}#sk-container-id-4 div.sk-label input.sk-toggleable__control:checked~label.sk-toggleable__label {background-color: #d4ebff;}#sk-container-id-4 input.sk-hidden--visually {border: 0;clip: rect(1px 1px 1px 1px);clip: rect(1px, 1px, 1px, 1px);height: 1px;margin: -1px;overflow: hidden;padding: 0;position: absolute;width: 1px;}#sk-container-id-4 div.sk-estimator {font-family: monospace;background-color: #f0f8ff;border: 1px dotted black;border-radius: 0.25em;box-sizing: border-box;margin-bottom: 0.5em;}#sk-container-id-4 div.sk-estimator:hover {background-color: #d4ebff;}#sk-container-id-4 div.sk-parallel-item::after {content: \"\";width: 100%;border-bottom: 1px solid gray;flex-grow: 1;}#sk-container-id-4 div.sk-label:hover label.sk-toggleable__label {background-color: #d4ebff;}#sk-container-id-4 div.sk-serial::before {content: \"\";position: absolute;border-left: 1px solid gray;box-sizing: border-box;top: 0;bottom: 0;left: 50%;z-index: 0;}#sk-container-id-4 div.sk-serial {display: flex;flex-direction: column;align-items: center;background-color: white;padding-right: 0.2em;padding-left: 0.2em;position: relative;}#sk-container-id-4 div.sk-item {position: relative;z-index: 1;}#sk-container-id-4 div.sk-parallel {display: flex;align-items: stretch;justify-content: center;background-color: white;position: relative;}#sk-container-id-4 div.sk-item::before, #sk-container-id-4 div.sk-parallel-item::before {content: \"\";position: absolute;border-left: 1px solid gray;box-sizing: border-box;top: 0;bottom: 0;left: 50%;z-index: -1;}#sk-container-id-4 div.sk-parallel-item {display: flex;flex-direction: column;z-index: 1;position: relative;background-color: white;}#sk-container-id-4 div.sk-parallel-item:first-child::after {align-self: flex-end;width: 50%;}#sk-container-id-4 div.sk-parallel-item:last-child::after {align-self: flex-start;width: 50%;}#sk-container-id-4 div.sk-parallel-item:only-child::after {width: 0;}#sk-container-id-4 div.sk-dashed-wrapped {border: 1px dashed gray;margin: 0 0.4em 0.5em 0.4em;box-sizing: border-box;padding-bottom: 0.4em;background-color: white;}#sk-container-id-4 div.sk-label label {font-family: monospace;font-weight: bold;display: inline-block;line-height: 1.2em;}#sk-container-id-4 div.sk-label-container {text-align: center;}#sk-container-id-4 div.sk-container {/* jupyter's `normalize.less` sets `[hidden] { display: none; }` but bootstrap.min.css set `[hidden] { display: none !important; }` so we also need the `!important` here to be able to override the default hidden behavior on the sphinx rendered scikit-learn.org. See: https://github.com/scikit-learn/scikit-learn/issues/21755 */display: inline-block !important;position: relative;}#sk-container-id-4 div.sk-text-repr-fallback {display: none;}</style><div id=\"sk-container-id-4\" class=\"sk-top-container\"><div class=\"sk-text-repr-fallback\"><pre>RandomForestClassifier(class_weight=&#x27;balanced&#x27;, criterion=&#x27;entropy&#x27;,\n",
       "                       n_estimators=10, random_state=0)</pre><b>In a Jupyter environment, please rerun this cell to show the HTML representation or trust the notebook. <br />On GitHub, the HTML representation is unable to render, please try loading this page with nbviewer.org.</b></div><div class=\"sk-container\" hidden><div class=\"sk-item\"><div class=\"sk-estimator sk-toggleable\"><input class=\"sk-toggleable__control sk-hidden--visually\" id=\"sk-estimator-id-4\" type=\"checkbox\" checked><label for=\"sk-estimator-id-4\" class=\"sk-toggleable__label sk-toggleable__label-arrow\">RandomForestClassifier</label><div class=\"sk-toggleable__content\"><pre>RandomForestClassifier(class_weight=&#x27;balanced&#x27;, criterion=&#x27;entropy&#x27;,\n",
       "                       n_estimators=10, random_state=0)</pre></div></div></div></div></div>"
      ],
      "text/plain": [
       "RandomForestClassifier(class_weight='balanced', criterion='entropy',\n",
       "                       n_estimators=10, random_state=0)"
      ]
     },
     "execution_count": 49,
     "metadata": {},
     "output_type": "execute_result"
    }
   ],
   "source": [
    "rmf2 = RandomForestClassifier(n_estimators=10, random_state=0,criterion=\"entropy\", class_weight='balanced')\n",
    "rmf2.fit(X_train2, y_train2)"
   ]
  },
  {
   "cell_type": "code",
   "execution_count": 50,
   "id": "79e1c320-4d81-4b55-a825-3d83d86b0ef7",
   "metadata": {},
   "outputs": [
    {
     "name": "stdout",
     "output_type": "stream",
     "text": [
      "              precision    recall  f1-score   support\n",
      "\n",
      "           0       0.88      0.82      0.85      1122\n",
      "           1       0.10      0.14      0.12       153\n",
      "\n",
      "    accuracy                           0.74      1275\n",
      "   macro avg       0.49      0.48      0.48      1275\n",
      "weighted avg       0.78      0.74      0.76      1275\n",
      "\n",
      "[[918 204]\n",
      " [131  22]]\n"
     ]
    }
   ],
   "source": [
    "y_pred2 = rmf.predict(X_test2)\n",
    "\n",
    "# Evaluate performance\n",
    "from sklearn.metrics import classification_report, confusion_matrix\n",
    "print(classification_report(y_test2, y_pred2))\n",
    "print(confusion_matrix(y_test2, y_pred2))"
   ]
  },
  {
   "cell_type": "code",
   "execution_count": 51,
   "id": "f4976fa0-7fad-4cd3-9680-e666eeb5e280",
   "metadata": {},
   "outputs": [
    {
     "data": {
      "text/plain": [
       "(0.7372549019607844,\n",
       " 0    3333\n",
       " 1     491\n",
       " Name: V4402, dtype: int64,\n",
       " 0    1122\n",
       " 1     153\n",
       " Name: V4402, dtype: int64)"
      ]
     },
     "execution_count": 51,
     "metadata": {},
     "output_type": "execute_result"
    }
   ],
   "source": [
    "rmf.score(X_test2,y_test2), y_train2.value_counts(), y_test2.value_counts()"
   ]
  },
  {
   "cell_type": "code",
   "execution_count": 53,
   "id": "f491067b-e063-4d26-81bd-f082de5b2923",
   "metadata": {},
   "outputs": [
    {
     "name": "stdout",
     "output_type": "stream",
     "text": [
      "              precision    recall  f1-score   support\n",
      "\n",
      "           0       0.90      0.82      0.86      1152\n",
      "           1       0.08      0.15      0.10       123\n",
      "\n",
      "    accuracy                           0.75      1275\n",
      "   macro avg       0.49      0.48      0.48      1275\n",
      "weighted avg       0.82      0.75      0.78      1275\n",
      "\n",
      "[[944 208]\n",
      " [105  18]]\n"
     ]
    }
   ],
   "source": [
    "X2 = data2[feature_names]\n",
    "y4 = data2.V4403\n",
    "#4403 - PERSONAL MATTER\n",
    "X_train3,X_test3,y_train3,y_test3 = train_test_split(X2,y4,test_size=0.25,random_state=0)\n",
    "rmf3 = RandomForestClassifier(n_estimators=10, random_state=0,criterion=\"entropy\", class_weight='balanced')\n",
    "rmf3.fit(X_train3, y_train3)\n",
    "y_pred3 = rmf.predict(X_test3)\n",
    "\n",
    "# Evaluate performance\n",
    "from sklearn.metrics import classification_report, confusion_matrix\n",
    "print(classification_report(y_test3, y_pred3))\n",
    "print(confusion_matrix(y_test3, y_pred3))"
   ]
  },
  {
   "cell_type": "code",
   "execution_count": 54,
   "id": "59b26b8a-3e18-4481-b34f-94a1608b896c",
   "metadata": {},
   "outputs": [
    {
     "data": {
      "text/plain": [
       "(0.7545098039215686,\n",
       " 0    3393\n",
       " 1     431\n",
       " Name: V4403, dtype: int64,\n",
       " 0    1152\n",
       " 1     123\n",
       " Name: V4403, dtype: int64)"
      ]
     },
     "execution_count": 54,
     "metadata": {},
     "output_type": "execute_result"
    }
   ],
   "source": [
    "rmf.score(X_test3,y_test3), y_train3.value_counts(), y_test3.value_counts()"
   ]
  },
  {
   "cell_type": "code",
   "execution_count": 57,
   "id": "9f9295b2-9dfc-426b-a33a-5199c2a7b627",
   "metadata": {},
   "outputs": [
    {
     "name": "stdout",
     "output_type": "stream",
     "text": [
      "              precision    recall  f1-score   support\n",
      "\n",
      "           0       0.86      0.81      0.84      1107\n",
      "           1       0.09      0.12      0.11       168\n",
      "\n",
      "    accuracy                           0.72      1275\n",
      "   macro avg       0.48      0.47      0.47      1275\n",
      "weighted avg       0.76      0.72      0.74      1275\n",
      "\n",
      "[[902 205]\n",
      " [147  21]]\n"
     ]
    }
   ],
   "source": [
    "X2 = data2[feature_names]\n",
    "y5 = data2.V4410\n",
    "#V4410 - LACK OF PROOF\n",
    "X_train4,X_test4,y_train4,y_test4 = train_test_split(X2,y5,test_size=0.25,random_state=0)\n",
    "rmf4 = RandomForestClassifier(n_estimators=10, random_state=0,criterion=\"entropy\", class_weight='balanced')\n",
    "rmf4.fit(X_train4, y_train4)\n",
    "y_pred4 = rmf.predict(X_test4)\n",
    "\n",
    "# Evaluate performance\n",
    "from sklearn.metrics import classification_report, confusion_matrix\n",
    "print(classification_report(y_test4, y_pred4))\n",
    "print(confusion_matrix(y_test4, y_pred4))"
   ]
  },
  {
   "cell_type": "code",
   "execution_count": 58,
   "id": "9fbe8e91-8d56-43dd-9be6-b3a3bbd148bf",
   "metadata": {},
   "outputs": [
    {
     "data": {
      "text/plain": [
       "(0.7239215686274509,\n",
       " 0    1107\n",
       " 1     168\n",
       " Name: V4410, dtype: int64)"
      ]
     },
     "execution_count": 58,
     "metadata": {},
     "output_type": "execute_result"
    }
   ],
   "source": [
    "rmf.score(X_test4,y_test4), y_test4.value_counts()"
   ]
  },
  {
   "cell_type": "code",
   "execution_count": 60,
   "id": "f83f7d62-6fb3-435b-8d04-42b6351e724d",
   "metadata": {},
   "outputs": [
    {
     "name": "stdout",
     "output_type": "stream",
     "text": [
      "              precision    recall  f1-score   support\n",
      "\n",
      "           0       0.79      0.82      0.81      1011\n",
      "           1       0.20      0.17      0.19       264\n",
      "\n",
      "    accuracy                           0.69      1275\n",
      "   macro avg       0.50      0.50      0.50      1275\n",
      "weighted avg       0.67      0.69      0.68      1275\n",
      "\n",
      "[[831 180]\n",
      " [218  46]]\n"
     ]
    }
   ],
   "source": [
    "X2 = data2[feature_names]\n",
    "y5 = data2.V4411\n",
    "#V4411 - NOT IMPORT TO POLICE\n",
    "X_train4,X_test4,y_train4,y_test4 = train_test_split(X2,y5,test_size=0.25,random_state=0)\n",
    "rmf4 = RandomForestClassifier(n_estimators=10, random_state=0,criterion=\"entropy\", class_weight='balanced')\n",
    "rmf4.fit(X_train4, y_train4)\n",
    "y_pred4 = rmf.predict(X_test4)\n",
    "\n",
    "# Evaluate performance\n",
    "from sklearn.metrics import classification_report, confusion_matrix\n",
    "print(classification_report(y_test4, y_pred4))\n",
    "print(confusion_matrix(y_test4, y_pred4))"
   ]
  },
  {
   "cell_type": "code",
   "execution_count": 61,
   "id": "442a3549-7f4b-4a20-b8ef-afe87d5cb286",
   "metadata": {},
   "outputs": [
    {
     "data": {
      "text/plain": [
       "(0.687843137254902,\n",
       " 0    1011\n",
       " 1     264\n",
       " Name: V4411, dtype: int64)"
      ]
     },
     "execution_count": 61,
     "metadata": {},
     "output_type": "execute_result"
    }
   ],
   "source": [
    "rmf.score(X_test4,y_test4), y_test4.value_counts()"
   ]
  },
  {
   "cell_type": "code",
   "execution_count": 70,
   "id": "379d4b30-b738-42e2-8dfc-952a55cd87e4",
   "metadata": {},
   "outputs": [],
   "source": [
    "data3 = pd.get_dummies(reduced, columns=['V2143','V2036','V2020','V3071','V2125','V4025','V4049',\n",
    "                                      'V4127','V4184','V4234','V4235','V4484','V4524','V4525','V4526AA','V2026'])\n",
    "\n",
    "feature_names2 = ['V2143_2', 'V2143_1', 'V2143_3', 'V2036_1', 'V2036_2','V2020_1','V2020_2','V2020_4','V2020_5'\n",
    ",'V2020_6','V2020_8','V2020_11','V2020_12','V3071_1','V3071_2','V2125_1','V2125_2',\n",
    "                 'V4025_1','V4025_2','V4049_1','V4049_2','V4127_1','V4127_2','V4184_1','V4184_2','V4234_1','V4234_2','V4235_1',\n",
    "                 'V4235_2','V4484_1','V4484_2','V4524_1','V4524_2','V4525_1','V4525_2','V4526AA_1','V4526AA_2','V4526AA_3',\n",
    "                 'V2026_1','V2026_2','V2026_3','V2026_4','V2026_5','V2026_6','V2026_7','V2026_8','V2026_9','V2026_10',\n",
    "                 'V2026_11','V2026_12','V2026_13','V2026_15','V2026_16','V2026_17','V2026_18','V2033','V2071',\n",
    "                 'V2072','V4016','V4364']\n",
    "\n",
    "X = data3[feature_names2]\n",
    "y = data3.V4404\n",
    "\n",
    "X_train,X_test,y_train,y_test = train_test_split(X,y,test_size=0.25,random_state=0)\n"
   ]
  },
  {
   "cell_type": "code",
   "execution_count": 71,
   "id": "b4a59e83-2ae6-481a-bcdc-d604b0178cad",
   "metadata": {},
   "outputs": [
    {
     "data": {
      "text/html": [
       "<style>#sk-container-id-7 {color: black;background-color: white;}#sk-container-id-7 pre{padding: 0;}#sk-container-id-7 div.sk-toggleable {background-color: white;}#sk-container-id-7 label.sk-toggleable__label {cursor: pointer;display: block;width: 100%;margin-bottom: 0;padding: 0.3em;box-sizing: border-box;text-align: center;}#sk-container-id-7 label.sk-toggleable__label-arrow:before {content: \"▸\";float: left;margin-right: 0.25em;color: #696969;}#sk-container-id-7 label.sk-toggleable__label-arrow:hover:before {color: black;}#sk-container-id-7 div.sk-estimator:hover label.sk-toggleable__label-arrow:before {color: black;}#sk-container-id-7 div.sk-toggleable__content {max-height: 0;max-width: 0;overflow: hidden;text-align: left;background-color: #f0f8ff;}#sk-container-id-7 div.sk-toggleable__content pre {margin: 0.2em;color: black;border-radius: 0.25em;background-color: #f0f8ff;}#sk-container-id-7 input.sk-toggleable__control:checked~div.sk-toggleable__content {max-height: 200px;max-width: 100%;overflow: auto;}#sk-container-id-7 input.sk-toggleable__control:checked~label.sk-toggleable__label-arrow:before {content: \"▾\";}#sk-container-id-7 div.sk-estimator input.sk-toggleable__control:checked~label.sk-toggleable__label {background-color: #d4ebff;}#sk-container-id-7 div.sk-label input.sk-toggleable__control:checked~label.sk-toggleable__label {background-color: #d4ebff;}#sk-container-id-7 input.sk-hidden--visually {border: 0;clip: rect(1px 1px 1px 1px);clip: rect(1px, 1px, 1px, 1px);height: 1px;margin: -1px;overflow: hidden;padding: 0;position: absolute;width: 1px;}#sk-container-id-7 div.sk-estimator {font-family: monospace;background-color: #f0f8ff;border: 1px dotted black;border-radius: 0.25em;box-sizing: border-box;margin-bottom: 0.5em;}#sk-container-id-7 div.sk-estimator:hover {background-color: #d4ebff;}#sk-container-id-7 div.sk-parallel-item::after {content: \"\";width: 100%;border-bottom: 1px solid gray;flex-grow: 1;}#sk-container-id-7 div.sk-label:hover label.sk-toggleable__label {background-color: #d4ebff;}#sk-container-id-7 div.sk-serial::before {content: \"\";position: absolute;border-left: 1px solid gray;box-sizing: border-box;top: 0;bottom: 0;left: 50%;z-index: 0;}#sk-container-id-7 div.sk-serial {display: flex;flex-direction: column;align-items: center;background-color: white;padding-right: 0.2em;padding-left: 0.2em;position: relative;}#sk-container-id-7 div.sk-item {position: relative;z-index: 1;}#sk-container-id-7 div.sk-parallel {display: flex;align-items: stretch;justify-content: center;background-color: white;position: relative;}#sk-container-id-7 div.sk-item::before, #sk-container-id-7 div.sk-parallel-item::before {content: \"\";position: absolute;border-left: 1px solid gray;box-sizing: border-box;top: 0;bottom: 0;left: 50%;z-index: -1;}#sk-container-id-7 div.sk-parallel-item {display: flex;flex-direction: column;z-index: 1;position: relative;background-color: white;}#sk-container-id-7 div.sk-parallel-item:first-child::after {align-self: flex-end;width: 50%;}#sk-container-id-7 div.sk-parallel-item:last-child::after {align-self: flex-start;width: 50%;}#sk-container-id-7 div.sk-parallel-item:only-child::after {width: 0;}#sk-container-id-7 div.sk-dashed-wrapped {border: 1px dashed gray;margin: 0 0.4em 0.5em 0.4em;box-sizing: border-box;padding-bottom: 0.4em;background-color: white;}#sk-container-id-7 div.sk-label label {font-family: monospace;font-weight: bold;display: inline-block;line-height: 1.2em;}#sk-container-id-7 div.sk-label-container {text-align: center;}#sk-container-id-7 div.sk-container {/* jupyter's `normalize.less` sets `[hidden] { display: none; }` but bootstrap.min.css set `[hidden] { display: none !important; }` so we also need the `!important` here to be able to override the default hidden behavior on the sphinx rendered scikit-learn.org. See: https://github.com/scikit-learn/scikit-learn/issues/21755 */display: inline-block !important;position: relative;}#sk-container-id-7 div.sk-text-repr-fallback {display: none;}</style><div id=\"sk-container-id-7\" class=\"sk-top-container\"><div class=\"sk-text-repr-fallback\"><pre>RandomForestClassifier(class_weight=&#x27;balanced&#x27;, criterion=&#x27;entropy&#x27;,\n",
       "                       n_estimators=10, random_state=0)</pre><b>In a Jupyter environment, please rerun this cell to show the HTML representation or trust the notebook. <br />On GitHub, the HTML representation is unable to render, please try loading this page with nbviewer.org.</b></div><div class=\"sk-container\" hidden><div class=\"sk-item\"><div class=\"sk-estimator sk-toggleable\"><input class=\"sk-toggleable__control sk-hidden--visually\" id=\"sk-estimator-id-7\" type=\"checkbox\" checked><label for=\"sk-estimator-id-7\" class=\"sk-toggleable__label sk-toggleable__label-arrow\">RandomForestClassifier</label><div class=\"sk-toggleable__content\"><pre>RandomForestClassifier(class_weight=&#x27;balanced&#x27;, criterion=&#x27;entropy&#x27;,\n",
       "                       n_estimators=10, random_state=0)</pre></div></div></div></div></div>"
      ],
      "text/plain": [
       "RandomForestClassifier(class_weight='balanced', criterion='entropy',\n",
       "                       n_estimators=10, random_state=0)"
      ]
     },
     "execution_count": 71,
     "metadata": {},
     "output_type": "execute_result"
    }
   ],
   "source": [
    "rmf = RandomForestClassifier(n_estimators=10, random_state=0,criterion=\"entropy\", class_weight='balanced')\n",
    "rmf.fit(X_train, y_train)"
   ]
  },
  {
   "cell_type": "code",
   "execution_count": 72,
   "id": "743dfe21-7098-4466-a70b-57ad6ac5c510",
   "metadata": {},
   "outputs": [
    {
     "name": "stdout",
     "output_type": "stream",
     "text": [
      "              precision    recall  f1-score   support\n",
      "\n",
      "           0       0.73      0.89      0.80       871\n",
      "           1       0.54      0.29      0.38       404\n",
      "\n",
      "    accuracy                           0.70      1275\n",
      "   macro avg       0.64      0.59      0.59      1275\n",
      "weighted avg       0.67      0.70      0.67      1275\n",
      "\n",
      "[[771 100]\n",
      " [285 119]]\n"
     ]
    }
   ],
   "source": [
    "y_pred = rmf.predict(X_test)\n",
    "\n",
    "# Evaluate performance\n",
    "from sklearn.metrics import classification_report, confusion_matrix\n",
    "print(classification_report(y_test, y_pred))\n",
    "print(confusion_matrix(y_test, y_pred))"
   ]
  },
  {
   "cell_type": "code",
   "execution_count": 75,
   "id": "912aa7a5-4b19-44e2-b99b-df3cbf12b371",
   "metadata": {},
   "outputs": [
    {
     "name": "stdout",
     "output_type": "stream",
     "text": [
      "Defaulting to user installation because normal site-packages is not writeable\n",
      "Collecting imblearn\n",
      "  Downloading imblearn-0.0-py2.py3-none-any.whl (1.9 kB)\n",
      "Collecting imbalanced-learn\n",
      "  Downloading imbalanced_learn-0.10.1-py3-none-any.whl (226 kB)\n",
      "\u001b[2K     \u001b[90m━━━━━━━━━━━━━━━━━━━━━━━━━━━━━━━━━━━━━━━\u001b[0m \u001b[32m226.0/226.0 kB\u001b[0m \u001b[31m2.4 MB/s\u001b[0m eta \u001b[36m0:00:00\u001b[0m00:01\u001b[0m\n",
      "\u001b[?25hCollecting joblib>=1.1.1\n",
      "  Downloading joblib-1.2.0-py3-none-any.whl (297 kB)\n",
      "\u001b[2K     \u001b[90m━━━━━━━━━━━━━━━━━━━━━━━━━━━━━━━━━━━━━━\u001b[0m \u001b[32m298.0/298.0 kB\u001b[0m \u001b[31m19.1 MB/s\u001b[0m eta \u001b[36m0:00:00\u001b[0m\n",
      "\u001b[?25hRequirement already satisfied: scipy>=1.3.2 in /opt/pub/eb/apps/all/DavidsonJupyter/2021-common-GCCcore-10.2.0/lib/python3.8/site-packages (from imbalanced-learn->imblearn) (1.8.1)\n",
      "Requirement already satisfied: threadpoolctl>=2.0.0 in /opt/pub/eb/apps/all/DavidsonJupyter/2021-common-GCCcore-10.2.0/lib/python3.8/site-packages (from imbalanced-learn->imblearn) (3.1.0)\n",
      "Requirement already satisfied: numpy>=1.17.3 in /opt/pub/eb/apps/all/DavidsonJupyter/2021-common-GCCcore-10.2.0/lib/python3.8/site-packages (from imbalanced-learn->imblearn) (1.23.1)\n",
      "Requirement already satisfied: scikit-learn>=1.0.2 in /opt/pub/eb/apps/all/DavidsonJupyter/2021-common-GCCcore-10.2.0/lib/python3.8/site-packages (from imbalanced-learn->imblearn) (1.1.1)\n",
      "Installing collected packages: joblib, imbalanced-learn, imblearn\n",
      "Successfully installed imbalanced-learn-0.10.1 imblearn-0.0 joblib-1.2.0\n",
      "\n",
      "\u001b[1m[\u001b[0m\u001b[34;49mnotice\u001b[0m\u001b[1;39;49m]\u001b[0m\u001b[39;49m A new release of pip available: \u001b[0m\u001b[31;49m22.2\u001b[0m\u001b[39;49m -> \u001b[0m\u001b[32;49m23.0.1\u001b[0m\n",
      "\u001b[1m[\u001b[0m\u001b[34;49mnotice\u001b[0m\u001b[1;39;49m]\u001b[0m\u001b[39;49m To update, run: \u001b[0m\u001b[32;49mpython3.8 -m pip install --upgrade pip\u001b[0m\n"
     ]
    }
   ],
   "source": [
    "!pip install imblearn"
   ]
  },
  {
   "cell_type": "code",
   "execution_count": 78,
   "id": "ddaf40b8-4a6d-4202-b440-3ffabaa82028",
   "metadata": {},
   "outputs": [
    {
     "name": "stdout",
     "output_type": "stream",
     "text": [
      "Mean ROC AUC: 0.708\n"
     ]
    }
   ],
   "source": [
    "\n",
    "from sklearn.model_selection import cross_val_score\n",
    "from sklearn.model_selection import RepeatedStratifiedKFold\n",
    "from imblearn.ensemble import EasyEnsembleClassifier\n",
    "model = EasyEnsembleClassifier(n_estimators=10)\n",
    "# define evaluation procedure\n",
    "cv = RepeatedStratifiedKFold(n_splits=10, n_repeats=3, random_state=1)\n",
    "# evaluate model\n",
    "scores = cross_val_score(model, X_train, y_train, scoring='roc_auc', cv=cv, n_jobs=-1)\n",
    "# summarize performance\n",
    "print('Mean ROC AUC: %.3f' % np.mean(scores))"
   ]
  },
  {
   "cell_type": "code",
   "execution_count": 85,
   "id": "68d7c973-04e5-4e2b-8a75-37896c635a58",
   "metadata": {},
   "outputs": [
    {
     "name": "stderr",
     "output_type": "stream",
     "text": [
      "/home/DAVIDSON/iahall/.local/lib/python3.8/site-packages/imblearn/ensemble/_bagging.py:353: FutureWarning: `base_estimator` was renamed to `estimator` in version 0.10 and will be removed in 0.12.\n",
      "  warnings.warn(\n"
     ]
    }
   ],
   "source": [
    "from imblearn.ensemble import BalancedBaggingClassifier\n",
    "from sklearn.tree import DecisionTreeClassifier\n",
    "#Create an instance\n",
    "classifier = BalancedBaggingClassifier(base_estimator=DecisionTreeClassifier(),\n",
    "                                sampling_strategy='not majority',\n",
    "                                replacement=False,\n",
    "                                random_state=42)\n",
    "classifier.fit(X_train, y_train)\n",
    "y_pred = classifier.predict(X_test)"
   ]
  },
  {
   "cell_type": "code",
   "execution_count": 86,
   "id": "66fca762-dd60-40a3-97d4-610cf3e39d3f",
   "metadata": {},
   "outputs": [
    {
     "name": "stdout",
     "output_type": "stream",
     "text": [
      "              precision    recall  f1-score   support\n",
      "\n",
      "           0       0.74      0.85      0.79       871\n",
      "           1       0.53      0.36      0.43       404\n",
      "\n",
      "    accuracy                           0.70      1275\n",
      "   macro avg       0.64      0.61      0.61      1275\n",
      "weighted avg       0.67      0.70      0.68      1275\n",
      "\n",
      "[[743 128]\n",
      " [259 145]]\n"
     ]
    }
   ],
   "source": [
    "from sklearn.metrics import classification_report, confusion_matrix\n",
    "print(classification_report(y_test, y_pred))\n",
    "print(confusion_matrix(y_test, y_pred))"
   ]
  },
  {
   "cell_type": "code",
   "execution_count": 87,
   "id": "c48d6353-bdd5-44a0-926d-49d1f221c1b4",
   "metadata": {},
   "outputs": [
    {
     "data": {
      "text/html": [
       "<div>\n",
       "<style scoped>\n",
       "    .dataframe tbody tr th:only-of-type {\n",
       "        vertical-align: middle;\n",
       "    }\n",
       "\n",
       "    .dataframe tbody tr th {\n",
       "        vertical-align: top;\n",
       "    }\n",
       "\n",
       "    .dataframe thead th {\n",
       "        text-align: right;\n",
       "    }\n",
       "</style>\n",
       "<table border=\"1\" class=\"dataframe\">\n",
       "  <thead>\n",
       "    <tr style=\"text-align: right;\">\n",
       "      <th></th>\n",
       "      <th>V2143_2</th>\n",
       "      <th>V2143_1</th>\n",
       "      <th>V2143_3</th>\n",
       "      <th>V2036_1</th>\n",
       "      <th>V2036_2</th>\n",
       "      <th>V2020_1</th>\n",
       "      <th>V2020_2</th>\n",
       "      <th>V2020_4</th>\n",
       "      <th>V2020_5</th>\n",
       "      <th>V2020_6</th>\n",
       "      <th>...</th>\n",
       "      <th>V2026_13</th>\n",
       "      <th>V2026_15</th>\n",
       "      <th>V2026_16</th>\n",
       "      <th>V2026_17</th>\n",
       "      <th>V2026_18</th>\n",
       "      <th>V2033</th>\n",
       "      <th>V2071</th>\n",
       "      <th>V2072</th>\n",
       "      <th>V4016</th>\n",
       "      <th>V4364</th>\n",
       "    </tr>\n",
       "  </thead>\n",
       "  <tbody>\n",
       "    <tr>\n",
       "      <th>3456</th>\n",
       "      <td>0</td>\n",
       "      <td>1</td>\n",
       "      <td>0</td>\n",
       "      <td>0</td>\n",
       "      <td>1</td>\n",
       "      <td>1</td>\n",
       "      <td>0</td>\n",
       "      <td>0</td>\n",
       "      <td>0</td>\n",
       "      <td>0</td>\n",
       "      <td>...</td>\n",
       "      <td>0</td>\n",
       "      <td>0</td>\n",
       "      <td>0</td>\n",
       "      <td>0</td>\n",
       "      <td>0</td>\n",
       "      <td>31</td>\n",
       "      <td>1</td>\n",
       "      <td>0</td>\n",
       "      <td>1</td>\n",
       "      <td>99998</td>\n",
       "    </tr>\n",
       "    <tr>\n",
       "      <th>1261</th>\n",
       "      <td>0</td>\n",
       "      <td>1</td>\n",
       "      <td>0</td>\n",
       "      <td>0</td>\n",
       "      <td>1</td>\n",
       "      <td>1</td>\n",
       "      <td>0</td>\n",
       "      <td>0</td>\n",
       "      <td>0</td>\n",
       "      <td>0</td>\n",
       "      <td>...</td>\n",
       "      <td>1</td>\n",
       "      <td>0</td>\n",
       "      <td>0</td>\n",
       "      <td>0</td>\n",
       "      <td>0</td>\n",
       "      <td>58</td>\n",
       "      <td>1</td>\n",
       "      <td>0</td>\n",
       "      <td>2</td>\n",
       "      <td>0</td>\n",
       "    </tr>\n",
       "    <tr>\n",
       "      <th>4473</th>\n",
       "      <td>1</td>\n",
       "      <td>0</td>\n",
       "      <td>0</td>\n",
       "      <td>0</td>\n",
       "      <td>1</td>\n",
       "      <td>1</td>\n",
       "      <td>0</td>\n",
       "      <td>0</td>\n",
       "      <td>0</td>\n",
       "      <td>0</td>\n",
       "      <td>...</td>\n",
       "      <td>0</td>\n",
       "      <td>0</td>\n",
       "      <td>0</td>\n",
       "      <td>0</td>\n",
       "      <td>0</td>\n",
       "      <td>54</td>\n",
       "      <td>4</td>\n",
       "      <td>0</td>\n",
       "      <td>1</td>\n",
       "      <td>99999</td>\n",
       "    </tr>\n",
       "    <tr>\n",
       "      <th>816</th>\n",
       "      <td>1</td>\n",
       "      <td>0</td>\n",
       "      <td>0</td>\n",
       "      <td>0</td>\n",
       "      <td>1</td>\n",
       "      <td>1</td>\n",
       "      <td>0</td>\n",
       "      <td>0</td>\n",
       "      <td>0</td>\n",
       "      <td>0</td>\n",
       "      <td>...</td>\n",
       "      <td>0</td>\n",
       "      <td>0</td>\n",
       "      <td>0</td>\n",
       "      <td>0</td>\n",
       "      <td>0</td>\n",
       "      <td>35</td>\n",
       "      <td>6</td>\n",
       "      <td>1</td>\n",
       "      <td>1</td>\n",
       "      <td>99999</td>\n",
       "    </tr>\n",
       "    <tr>\n",
       "      <th>6609</th>\n",
       "      <td>1</td>\n",
       "      <td>0</td>\n",
       "      <td>0</td>\n",
       "      <td>0</td>\n",
       "      <td>1</td>\n",
       "      <td>1</td>\n",
       "      <td>0</td>\n",
       "      <td>0</td>\n",
       "      <td>0</td>\n",
       "      <td>0</td>\n",
       "      <td>...</td>\n",
       "      <td>0</td>\n",
       "      <td>0</td>\n",
       "      <td>0</td>\n",
       "      <td>0</td>\n",
       "      <td>0</td>\n",
       "      <td>57</td>\n",
       "      <td>6</td>\n",
       "      <td>0</td>\n",
       "      <td>1</td>\n",
       "      <td>50</td>\n",
       "    </tr>\n",
       "    <tr>\n",
       "      <th>...</th>\n",
       "      <td>...</td>\n",
       "      <td>...</td>\n",
       "      <td>...</td>\n",
       "      <td>...</td>\n",
       "      <td>...</td>\n",
       "      <td>...</td>\n",
       "      <td>...</td>\n",
       "      <td>...</td>\n",
       "      <td>...</td>\n",
       "      <td>...</td>\n",
       "      <td>...</td>\n",
       "      <td>...</td>\n",
       "      <td>...</td>\n",
       "      <td>...</td>\n",
       "      <td>...</td>\n",
       "      <td>...</td>\n",
       "      <td>...</td>\n",
       "      <td>...</td>\n",
       "      <td>...</td>\n",
       "      <td>...</td>\n",
       "      <td>...</td>\n",
       "    </tr>\n",
       "    <tr>\n",
       "      <th>7796</th>\n",
       "      <td>1</td>\n",
       "      <td>0</td>\n",
       "      <td>0</td>\n",
       "      <td>0</td>\n",
       "      <td>1</td>\n",
       "      <td>1</td>\n",
       "      <td>0</td>\n",
       "      <td>0</td>\n",
       "      <td>0</td>\n",
       "      <td>0</td>\n",
       "      <td>...</td>\n",
       "      <td>0</td>\n",
       "      <td>0</td>\n",
       "      <td>0</td>\n",
       "      <td>0</td>\n",
       "      <td>0</td>\n",
       "      <td>57</td>\n",
       "      <td>3</td>\n",
       "      <td>0</td>\n",
       "      <td>1</td>\n",
       "      <td>99999</td>\n",
       "    </tr>\n",
       "    <tr>\n",
       "      <th>5161</th>\n",
       "      <td>0</td>\n",
       "      <td>1</td>\n",
       "      <td>0</td>\n",
       "      <td>1</td>\n",
       "      <td>0</td>\n",
       "      <td>1</td>\n",
       "      <td>0</td>\n",
       "      <td>0</td>\n",
       "      <td>0</td>\n",
       "      <td>0</td>\n",
       "      <td>...</td>\n",
       "      <td>0</td>\n",
       "      <td>0</td>\n",
       "      <td>0</td>\n",
       "      <td>0</td>\n",
       "      <td>0</td>\n",
       "      <td>57</td>\n",
       "      <td>1</td>\n",
       "      <td>0</td>\n",
       "      <td>2</td>\n",
       "      <td>90</td>\n",
       "    </tr>\n",
       "    <tr>\n",
       "      <th>2523</th>\n",
       "      <td>1</td>\n",
       "      <td>0</td>\n",
       "      <td>0</td>\n",
       "      <td>0</td>\n",
       "      <td>1</td>\n",
       "      <td>1</td>\n",
       "      <td>0</td>\n",
       "      <td>0</td>\n",
       "      <td>0</td>\n",
       "      <td>0</td>\n",
       "      <td>...</td>\n",
       "      <td>0</td>\n",
       "      <td>0</td>\n",
       "      <td>0</td>\n",
       "      <td>0</td>\n",
       "      <td>0</td>\n",
       "      <td>66</td>\n",
       "      <td>1</td>\n",
       "      <td>0</td>\n",
       "      <td>1</td>\n",
       "      <td>99999</td>\n",
       "    </tr>\n",
       "    <tr>\n",
       "      <th>4060</th>\n",
       "      <td>1</td>\n",
       "      <td>0</td>\n",
       "      <td>0</td>\n",
       "      <td>0</td>\n",
       "      <td>1</td>\n",
       "      <td>1</td>\n",
       "      <td>0</td>\n",
       "      <td>0</td>\n",
       "      <td>0</td>\n",
       "      <td>0</td>\n",
       "      <td>...</td>\n",
       "      <td>0</td>\n",
       "      <td>0</td>\n",
       "      <td>0</td>\n",
       "      <td>0</td>\n",
       "      <td>0</td>\n",
       "      <td>45</td>\n",
       "      <td>1</td>\n",
       "      <td>0</td>\n",
       "      <td>1</td>\n",
       "      <td>40</td>\n",
       "    </tr>\n",
       "    <tr>\n",
       "      <th>4280</th>\n",
       "      <td>1</td>\n",
       "      <td>0</td>\n",
       "      <td>0</td>\n",
       "      <td>0</td>\n",
       "      <td>1</td>\n",
       "      <td>1</td>\n",
       "      <td>0</td>\n",
       "      <td>0</td>\n",
       "      <td>0</td>\n",
       "      <td>0</td>\n",
       "      <td>...</td>\n",
       "      <td>0</td>\n",
       "      <td>0</td>\n",
       "      <td>0</td>\n",
       "      <td>0</td>\n",
       "      <td>0</td>\n",
       "      <td>34</td>\n",
       "      <td>3</td>\n",
       "      <td>4</td>\n",
       "      <td>1</td>\n",
       "      <td>99999</td>\n",
       "    </tr>\n",
       "  </tbody>\n",
       "</table>\n",
       "<p>3824 rows × 60 columns</p>\n",
       "</div>"
      ],
      "text/plain": [
       "      V2143_2  V2143_1  V2143_3  V2036_1  V2036_2  V2020_1  V2020_2  V2020_4  \\\n",
       "3456        0        1        0        0        1        1        0        0   \n",
       "1261        0        1        0        0        1        1        0        0   \n",
       "4473        1        0        0        0        1        1        0        0   \n",
       "816         1        0        0        0        1        1        0        0   \n",
       "6609        1        0        0        0        1        1        0        0   \n",
       "...       ...      ...      ...      ...      ...      ...      ...      ...   \n",
       "7796        1        0        0        0        1        1        0        0   \n",
       "5161        0        1        0        1        0        1        0        0   \n",
       "2523        1        0        0        0        1        1        0        0   \n",
       "4060        1        0        0        0        1        1        0        0   \n",
       "4280        1        0        0        0        1        1        0        0   \n",
       "\n",
       "      V2020_5  V2020_6  ...  V2026_13  V2026_15  V2026_16  V2026_17  V2026_18  \\\n",
       "3456        0        0  ...         0         0         0         0         0   \n",
       "1261        0        0  ...         1         0         0         0         0   \n",
       "4473        0        0  ...         0         0         0         0         0   \n",
       "816         0        0  ...         0         0         0         0         0   \n",
       "6609        0        0  ...         0         0         0         0         0   \n",
       "...       ...      ...  ...       ...       ...       ...       ...       ...   \n",
       "7796        0        0  ...         0         0         0         0         0   \n",
       "5161        0        0  ...         0         0         0         0         0   \n",
       "2523        0        0  ...         0         0         0         0         0   \n",
       "4060        0        0  ...         0         0         0         0         0   \n",
       "4280        0        0  ...         0         0         0         0         0   \n",
       "\n",
       "      V2033  V2071  V2072  V4016  V4364  \n",
       "3456     31      1      0      1  99998  \n",
       "1261     58      1      0      2      0  \n",
       "4473     54      4      0      1  99999  \n",
       "816      35      6      1      1  99999  \n",
       "6609     57      6      0      1     50  \n",
       "...     ...    ...    ...    ...    ...  \n",
       "7796     57      3      0      1  99999  \n",
       "5161     57      1      0      2     90  \n",
       "2523     66      1      0      1  99999  \n",
       "4060     45      1      0      1     40  \n",
       "4280     34      3      4      1  99999  \n",
       "\n",
       "[3824 rows x 60 columns]"
      ]
     },
     "execution_count": 87,
     "metadata": {},
     "output_type": "execute_result"
    }
   ],
   "source": [
    "X_train"
   ]
  },
  {
   "cell_type": "code",
   "execution_count": null,
   "id": "25da3c1e-a356-4c1a-ab0e-caa336a3992f",
   "metadata": {},
   "outputs": [],
   "source": [
    "from sklearn.utils import resample\n",
    "#create two different dataframe of majority and minority class \n",
    "df_majority = X_train[(X_train['Is_Lead']==0)] \n",
    "df_minority = X_train[(df_train['Is_Lead']==1)] \n",
    "# upsample minority class\n",
    "df_minority_upsampled = resample(df_minority, \n",
    "                                 replace=True,    # sample with replacement\n",
    "                                 n_samples= 131177, # to match majority class\n",
    "                                 random_state=42)  # reproducible results\n",
    "# Combine majority class with upsampled minority class\n",
    "df_upsampled = pd.concat([df_minority_upsampled, df_majority])"
   ]
  },
  {
   "cell_type": "code",
   "execution_count": 107,
   "id": "b1ab6851-4880-458f-bcb7-497b03f3f22b",
   "metadata": {},
   "outputs": [],
   "source": [
    "data3 = pd.get_dummies(reduced, columns=['V2143','V2036','V2020','V3071','V2125','V4025','V4049',\n",
    "                                      'V4127','V4184','V4234','V4235','V4484','V4524','V4525','V4526AA','V2026'])\n",
    "\n",
    "feature_names2 = ['V2143_2', 'V2143_1', 'V2143_3', 'V2036_1', 'V2036_2','V2020_1','V2020_2','V2020_4','V2020_5'\n",
    ",'V2020_6','V2020_8','V2020_11','V2020_12','V3071_1','V3071_2','V2125_1','V2125_2',\n",
    "                 'V4025_1','V4025_2','V4049_1','V4049_2','V4127_1','V4127_2','V4184_1','V4184_2','V4234_1','V4234_2','V4235_1',\n",
    "                 'V4235_2','V4484_1','V4484_2','V4524_1','V4524_2','V4525_1','V4525_2','V4526AA_1','V4526AA_2','V4526AA_3',\n",
    "                 'V2026_1','V2026_2','V2026_3','V2026_4','V2026_5','V2026_6','V2026_7','V2026_8','V2026_9','V2026_10',\n",
    "                 'V2026_11','V2026_12','V2026_13','V2026_15','V2026_16','V2026_17','V2026_18','V2033','V2071',\n",
    "                 'V2072','V4016','V4364']\n",
    "\n",
    "X = data3[feature_names2]\n",
    "y = data3.V4404\n",
    "\n",
    "X_train,X_test,y_train,y_test = train_test_split(X,y,test_size=0.25,random_state=0)"
   ]
  },
  {
   "cell_type": "code",
   "execution_count": 108,
   "id": "461e0581-98e1-444b-bce5-5ebc121c5d7f",
   "metadata": {},
   "outputs": [],
   "source": [
    "df_train = X_train"
   ]
  },
  {
   "cell_type": "code",
   "execution_count": 109,
   "id": "820aaccd-e7e1-47c4-83bc-c4cb73601608",
   "metadata": {},
   "outputs": [
    {
     "data": {
      "text/plain": [
       "0    2587\n",
       "1    1237\n",
       "Name: V4404, dtype: int64"
      ]
     },
     "execution_count": 109,
     "metadata": {},
     "output_type": "execute_result"
    }
   ],
   "source": [
    "y_train.value_counts()"
   ]
  },
  {
   "cell_type": "code",
   "execution_count": 110,
   "id": "54ae241b-2c83-44d9-9eeb-30ee3ba0c6de",
   "metadata": {},
   "outputs": [],
   "source": [
    "df_train['V4404'] = y_train"
   ]
  },
  {
   "cell_type": "code",
   "execution_count": 111,
   "id": "471a7579-e0de-4def-8864-6442e308f091",
   "metadata": {},
   "outputs": [],
   "source": [
    "from sklearn.utils import resample\n",
    "df_majority = X_train[(df_train['V4404']==0)] \n",
    "df_minority = X_train[(df_train['V4404']==1)] \n",
    "# upsample minority class\n",
    "df_minority_upsampled = resample(df_minority, \n",
    "                                 replace=True,    # sample with replacement\n",
    "                                 n_samples= 2587, # to match majority class\n",
    "                                 random_state=42)  # reproducible results\n",
    "# Combine majority class with upsampled minority class\n",
    "df_upsampled = pd.concat([df_minority_upsampled, df_majority])"
   ]
  },
  {
   "cell_type": "code",
   "execution_count": 112,
   "id": "a3e22a04-b004-4583-92f1-a0631538def3",
   "metadata": {},
   "outputs": [],
   "source": [
    "y_upsample_train = df_upsampled.V4404\n",
    "X_upsample_train = df_upsampled[feature_names2]"
   ]
  },
  {
   "cell_type": "code",
   "execution_count": 113,
   "id": "78b6d2a5-4327-4fe0-86a4-14329d082ce6",
   "metadata": {},
   "outputs": [
    {
     "data": {
      "text/plain": [
       "1    2587\n",
       "0    2587\n",
       "Name: V4404, dtype: int64"
      ]
     },
     "execution_count": 113,
     "metadata": {},
     "output_type": "execute_result"
    }
   ],
   "source": [
    "y_upsample_train.value_counts()"
   ]
  },
  {
   "cell_type": "code",
   "execution_count": 114,
   "id": "c695e0f7-12a9-4dd7-92db-76f33beb27d2",
   "metadata": {},
   "outputs": [
    {
     "data": {
      "text/html": [
       "<style>#sk-container-id-11 {color: black;background-color: white;}#sk-container-id-11 pre{padding: 0;}#sk-container-id-11 div.sk-toggleable {background-color: white;}#sk-container-id-11 label.sk-toggleable__label {cursor: pointer;display: block;width: 100%;margin-bottom: 0;padding: 0.3em;box-sizing: border-box;text-align: center;}#sk-container-id-11 label.sk-toggleable__label-arrow:before {content: \"▸\";float: left;margin-right: 0.25em;color: #696969;}#sk-container-id-11 label.sk-toggleable__label-arrow:hover:before {color: black;}#sk-container-id-11 div.sk-estimator:hover label.sk-toggleable__label-arrow:before {color: black;}#sk-container-id-11 div.sk-toggleable__content {max-height: 0;max-width: 0;overflow: hidden;text-align: left;background-color: #f0f8ff;}#sk-container-id-11 div.sk-toggleable__content pre {margin: 0.2em;color: black;border-radius: 0.25em;background-color: #f0f8ff;}#sk-container-id-11 input.sk-toggleable__control:checked~div.sk-toggleable__content {max-height: 200px;max-width: 100%;overflow: auto;}#sk-container-id-11 input.sk-toggleable__control:checked~label.sk-toggleable__label-arrow:before {content: \"▾\";}#sk-container-id-11 div.sk-estimator input.sk-toggleable__control:checked~label.sk-toggleable__label {background-color: #d4ebff;}#sk-container-id-11 div.sk-label input.sk-toggleable__control:checked~label.sk-toggleable__label {background-color: #d4ebff;}#sk-container-id-11 input.sk-hidden--visually {border: 0;clip: rect(1px 1px 1px 1px);clip: rect(1px, 1px, 1px, 1px);height: 1px;margin: -1px;overflow: hidden;padding: 0;position: absolute;width: 1px;}#sk-container-id-11 div.sk-estimator {font-family: monospace;background-color: #f0f8ff;border: 1px dotted black;border-radius: 0.25em;box-sizing: border-box;margin-bottom: 0.5em;}#sk-container-id-11 div.sk-estimator:hover {background-color: #d4ebff;}#sk-container-id-11 div.sk-parallel-item::after {content: \"\";width: 100%;border-bottom: 1px solid gray;flex-grow: 1;}#sk-container-id-11 div.sk-label:hover label.sk-toggleable__label {background-color: #d4ebff;}#sk-container-id-11 div.sk-serial::before {content: \"\";position: absolute;border-left: 1px solid gray;box-sizing: border-box;top: 0;bottom: 0;left: 50%;z-index: 0;}#sk-container-id-11 div.sk-serial {display: flex;flex-direction: column;align-items: center;background-color: white;padding-right: 0.2em;padding-left: 0.2em;position: relative;}#sk-container-id-11 div.sk-item {position: relative;z-index: 1;}#sk-container-id-11 div.sk-parallel {display: flex;align-items: stretch;justify-content: center;background-color: white;position: relative;}#sk-container-id-11 div.sk-item::before, #sk-container-id-11 div.sk-parallel-item::before {content: \"\";position: absolute;border-left: 1px solid gray;box-sizing: border-box;top: 0;bottom: 0;left: 50%;z-index: -1;}#sk-container-id-11 div.sk-parallel-item {display: flex;flex-direction: column;z-index: 1;position: relative;background-color: white;}#sk-container-id-11 div.sk-parallel-item:first-child::after {align-self: flex-end;width: 50%;}#sk-container-id-11 div.sk-parallel-item:last-child::after {align-self: flex-start;width: 50%;}#sk-container-id-11 div.sk-parallel-item:only-child::after {width: 0;}#sk-container-id-11 div.sk-dashed-wrapped {border: 1px dashed gray;margin: 0 0.4em 0.5em 0.4em;box-sizing: border-box;padding-bottom: 0.4em;background-color: white;}#sk-container-id-11 div.sk-label label {font-family: monospace;font-weight: bold;display: inline-block;line-height: 1.2em;}#sk-container-id-11 div.sk-label-container {text-align: center;}#sk-container-id-11 div.sk-container {/* jupyter's `normalize.less` sets `[hidden] { display: none; }` but bootstrap.min.css set `[hidden] { display: none !important; }` so we also need the `!important` here to be able to override the default hidden behavior on the sphinx rendered scikit-learn.org. See: https://github.com/scikit-learn/scikit-learn/issues/21755 */display: inline-block !important;position: relative;}#sk-container-id-11 div.sk-text-repr-fallback {display: none;}</style><div id=\"sk-container-id-11\" class=\"sk-top-container\"><div class=\"sk-text-repr-fallback\"><pre>RandomForestClassifier(criterion=&#x27;entropy&#x27;, n_estimators=10, random_state=0)</pre><b>In a Jupyter environment, please rerun this cell to show the HTML representation or trust the notebook. <br />On GitHub, the HTML representation is unable to render, please try loading this page with nbviewer.org.</b></div><div class=\"sk-container\" hidden><div class=\"sk-item\"><div class=\"sk-estimator sk-toggleable\"><input class=\"sk-toggleable__control sk-hidden--visually\" id=\"sk-estimator-id-11\" type=\"checkbox\" checked><label for=\"sk-estimator-id-11\" class=\"sk-toggleable__label sk-toggleable__label-arrow\">RandomForestClassifier</label><div class=\"sk-toggleable__content\"><pre>RandomForestClassifier(criterion=&#x27;entropy&#x27;, n_estimators=10, random_state=0)</pre></div></div></div></div></div>"
      ],
      "text/plain": [
       "RandomForestClassifier(criterion='entropy', n_estimators=10, random_state=0)"
      ]
     },
     "execution_count": 114,
     "metadata": {},
     "output_type": "execute_result"
    }
   ],
   "source": [
    "rmf = RandomForestClassifier(n_estimators=10, random_state=0,criterion=\"entropy\")\n",
    "rmf.fit(X_upsample_train, y_upsample_train)"
   ]
  },
  {
   "cell_type": "code",
   "execution_count": 115,
   "id": "1f709739-c32b-4d04-a191-a0e132fffd64",
   "metadata": {},
   "outputs": [
    {
     "name": "stdout",
     "output_type": "stream",
     "text": [
      "              precision    recall  f1-score   support\n",
      "\n",
      "           0       0.75      0.86      0.80       871\n",
      "           1       0.55      0.36      0.44       404\n",
      "\n",
      "    accuracy                           0.71      1275\n",
      "   macro avg       0.65      0.61      0.62      1275\n",
      "weighted avg       0.69      0.71      0.69      1275\n",
      "\n",
      "[[753 118]\n",
      " [257 147]]\n"
     ]
    }
   ],
   "source": [
    "y_pred = rmf.predict(X_test)\n",
    "\n",
    "# Evaluate performance\n",
    "from sklearn.metrics import classification_report, confusion_matrix\n",
    "print(classification_report(y_test, y_pred))\n",
    "print(confusion_matrix(y_test, y_pred))"
   ]
  },
  {
   "cell_type": "code",
   "execution_count": null,
   "id": "80162ebc-9d4b-4cc9-bd8a-9a73277cfee4",
   "metadata": {},
   "outputs": [],
   "source": []
  },
  {
   "cell_type": "code",
   "execution_count": null,
   "id": "27786a98-0f45-48da-b606-85f2f3e6458d",
   "metadata": {},
   "outputs": [],
   "source": []
  }
 ],
 "metadata": {
  "kernelspec": {
   "display_name": "Python 3.8",
   "language": "python",
   "name": "python3"
  },
  "language_info": {
   "codemirror_mode": {
    "name": "ipython",
    "version": 3
   },
   "file_extension": ".py",
   "mimetype": "text/x-python",
   "name": "python",
   "nbconvert_exporter": "python",
   "pygments_lexer": "ipython3",
   "version": "3.8.6"
  }
 },
 "nbformat": 4,
 "nbformat_minor": 5
}
