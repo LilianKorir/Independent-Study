{
 "cells": [
  {
   "cell_type": "code",
   "execution_count": 79,
   "id": "078a0be9-1588-403b-a906-6dcb83a70a42",
   "metadata": {},
   "outputs": [],
   "source": [
    "import pandas as pd\n",
    "import numpy as np\n",
    "from sklearn.model_selection import train_test_split\n",
    "from sklearn.linear_model import LogisticRegression\n",
    "\n",
    "from sklearn import preprocessing\n",
    "from sklearn.ensemble import RandomForestClassifier\n",
    "from sklearn.datasets import make_classification\n",
    "from sklearn.neighbors import NearestNeighbors\n",
    "from sklearn.neighbors import KNeighborsClassifier"
   ]
  },
  {
   "cell_type": "code",
   "execution_count": 3,
   "id": "482d86bb-3e6f-4727-a497-80248a1bbd58",
   "metadata": {},
   "outputs": [],
   "source": [
    "# Read TSV file into DataFrame\n",
    "#df = pd.read_table('incident_data.tsv')"
   ]
  },
  {
   "cell_type": "code",
   "execution_count": 4,
   "id": "5d697aa4-8ec6-487d-a5bb-132418a38555",
   "metadata": {
    "tags": []
   },
   "outputs": [
    {
     "data": {
      "text/html": [
       "<div>\n",
       "<style scoped>\n",
       "    .dataframe tbody tr th:only-of-type {\n",
       "        vertical-align: middle;\n",
       "    }\n",
       "\n",
       "    .dataframe tbody tr th {\n",
       "        vertical-align: top;\n",
       "    }\n",
       "\n",
       "    .dataframe thead th {\n",
       "        text-align: right;\n",
       "    }\n",
       "</style>\n",
       "<table border=\"1\" class=\"dataframe\">\n",
       "  <thead>\n",
       "    <tr style=\"text-align: right;\">\n",
       "      <th></th>\n",
       "      <th>V2001</th>\n",
       "      <th>YEARQ</th>\n",
       "      <th>IDHH</th>\n",
       "      <th>IDPER</th>\n",
       "      <th>V2002</th>\n",
       "      <th>V2003</th>\n",
       "      <th>V2004</th>\n",
       "      <th>V2005</th>\n",
       "      <th>V2006</th>\n",
       "      <th>V2008</th>\n",
       "      <th>...</th>\n",
       "      <th>VICREPWGT151</th>\n",
       "      <th>VICREPWGT152</th>\n",
       "      <th>VICREPWGT153</th>\n",
       "      <th>VICREPWGT154</th>\n",
       "      <th>VICREPWGT155</th>\n",
       "      <th>VICREPWGT156</th>\n",
       "      <th>VICREPWGT157</th>\n",
       "      <th>VICREPWGT158</th>\n",
       "      <th>VICREPWGT159</th>\n",
       "      <th>VICREPWGT160</th>\n",
       "    </tr>\n",
       "  </thead>\n",
       "  <tbody>\n",
       "    <tr>\n",
       "      <th>0</th>\n",
       "      <td>2</td>\n",
       "      <td>2020.1</td>\n",
       "      <td>1602014158353447564559137</td>\n",
       "      <td>160201415835344756455913701</td>\n",
       "      <td>9</td>\n",
       "      <td>201</td>\n",
       "      <td>16</td>\n",
       "      <td>02014158353447564559</td>\n",
       "      <td>1</td>\n",
       "      <td>37</td>\n",
       "      <td>...</td>\n",
       "      <td>1612.80211</td>\n",
       "      <td>957.67146</td>\n",
       "      <td>945.77335</td>\n",
       "      <td>1516.55604</td>\n",
       "      <td>263.46946</td>\n",
       "      <td>262.32476</td>\n",
       "      <td>1631.00937</td>\n",
       "      <td>1516.71650</td>\n",
       "      <td>982.99998</td>\n",
       "      <td>1548.67763</td>\n",
       "    </tr>\n",
       "    <tr>\n",
       "      <th>1</th>\n",
       "      <td>2</td>\n",
       "      <td>2020.1</td>\n",
       "      <td>1602071958685392584549331</td>\n",
       "      <td>160207195868539258454933101</td>\n",
       "      <td>9</td>\n",
       "      <td>201</td>\n",
       "      <td>16</td>\n",
       "      <td>02071958685392584549</td>\n",
       "      <td>3</td>\n",
       "      <td>31</td>\n",
       "      <td>...</td>\n",
       "      <td>1534.76535</td>\n",
       "      <td>1522.76945</td>\n",
       "      <td>2700.31670</td>\n",
       "      <td>1641.01090</td>\n",
       "      <td>1497.63238</td>\n",
       "      <td>1553.94103</td>\n",
       "      <td>1537.50545</td>\n",
       "      <td>2392.92915</td>\n",
       "      <td>1555.60799</td>\n",
       "      <td>1457.00935</td>\n",
       "    </tr>\n",
       "    <tr>\n",
       "      <th>2</th>\n",
       "      <td>2</td>\n",
       "      <td>2020.1</td>\n",
       "      <td>1602071958685392584549331</td>\n",
       "      <td>160207195868539258454933101</td>\n",
       "      <td>9</td>\n",
       "      <td>201</td>\n",
       "      <td>16</td>\n",
       "      <td>02071958685392584549</td>\n",
       "      <td>3</td>\n",
       "      <td>31</td>\n",
       "      <td>...</td>\n",
       "      <td>1534.76535</td>\n",
       "      <td>1522.76945</td>\n",
       "      <td>2700.31670</td>\n",
       "      <td>1641.01090</td>\n",
       "      <td>1497.63238</td>\n",
       "      <td>1553.94103</td>\n",
       "      <td>1537.50545</td>\n",
       "      <td>2392.92915</td>\n",
       "      <td>1555.60799</td>\n",
       "      <td>1457.00935</td>\n",
       "    </tr>\n",
       "    <tr>\n",
       "      <th>3</th>\n",
       "      <td>2</td>\n",
       "      <td>2020.1</td>\n",
       "      <td>1602071965133498564549121</td>\n",
       "      <td>160207196513349856454912101</td>\n",
       "      <td>5</td>\n",
       "      <td>201</td>\n",
       "      <td>16</td>\n",
       "      <td>02071965133498564549</td>\n",
       "      <td>1</td>\n",
       "      <td>21</td>\n",
       "      <td>...</td>\n",
       "      <td>906.94531</td>\n",
       "      <td>935.75917</td>\n",
       "      <td>1554.68095</td>\n",
       "      <td>280.66831</td>\n",
       "      <td>913.27482</td>\n",
       "      <td>1493.67962</td>\n",
       "      <td>914.83544</td>\n",
       "      <td>845.96690</td>\n",
       "      <td>908.57138</td>\n",
       "      <td>855.55730</td>\n",
       "    </tr>\n",
       "    <tr>\n",
       "      <th>4</th>\n",
       "      <td>2</td>\n",
       "      <td>2020.1</td>\n",
       "      <td>1602073503395389564538237</td>\n",
       "      <td>160207350339538956453823702</td>\n",
       "      <td>5</td>\n",
       "      <td>201</td>\n",
       "      <td>16</td>\n",
       "      <td>02073503395389564538</td>\n",
       "      <td>2</td>\n",
       "      <td>37</td>\n",
       "      <td>...</td>\n",
       "      <td>247.93947</td>\n",
       "      <td>1636.19411</td>\n",
       "      <td>269.82388</td>\n",
       "      <td>915.99897</td>\n",
       "      <td>288.84869</td>\n",
       "      <td>254.50550</td>\n",
       "      <td>935.72166</td>\n",
       "      <td>832.81916</td>\n",
       "      <td>891.06293</td>\n",
       "      <td>764.96427</td>\n",
       "    </tr>\n",
       "    <tr>\n",
       "      <th>...</th>\n",
       "      <td>...</td>\n",
       "      <td>...</td>\n",
       "      <td>...</td>\n",
       "      <td>...</td>\n",
       "      <td>...</td>\n",
       "      <td>...</td>\n",
       "      <td>...</td>\n",
       "      <td>...</td>\n",
       "      <td>...</td>\n",
       "      <td>...</td>\n",
       "      <td>...</td>\n",
       "      <td>...</td>\n",
       "      <td>...</td>\n",
       "      <td>...</td>\n",
       "      <td>...</td>\n",
       "      <td>...</td>\n",
       "      <td>...</td>\n",
       "      <td>...</td>\n",
       "      <td>...</td>\n",
       "      <td>...</td>\n",
       "      <td>...</td>\n",
       "    </tr>\n",
       "    <tr>\n",
       "      <th>8038</th>\n",
       "      <td>2</td>\n",
       "      <td>2020.4</td>\n",
       "      <td>1998941684460892565945147</td>\n",
       "      <td>199894168446089256594514703</td>\n",
       "      <td>3</td>\n",
       "      <td>204</td>\n",
       "      <td>19</td>\n",
       "      <td>98941684460892565945</td>\n",
       "      <td>1</td>\n",
       "      <td>47</td>\n",
       "      <td>...</td>\n",
       "      <td>8156.47940</td>\n",
       "      <td>1762.91979</td>\n",
       "      <td>1862.31765</td>\n",
       "      <td>2022.56997</td>\n",
       "      <td>1603.27339</td>\n",
       "      <td>6232.84066</td>\n",
       "      <td>1391.36558</td>\n",
       "      <td>6663.19618</td>\n",
       "      <td>1882.87691</td>\n",
       "      <td>8713.14869</td>\n",
       "    </tr>\n",
       "    <tr>\n",
       "      <th>8039</th>\n",
       "      <td>2</td>\n",
       "      <td>2020.4</td>\n",
       "      <td>1998944199680097565959147</td>\n",
       "      <td>199894419968009756595914702</td>\n",
       "      <td>2</td>\n",
       "      <td>204</td>\n",
       "      <td>19</td>\n",
       "      <td>98944199680097565959</td>\n",
       "      <td>1</td>\n",
       "      <td>47</td>\n",
       "      <td>...</td>\n",
       "      <td>1477.63461</td>\n",
       "      <td>1558.81562</td>\n",
       "      <td>1693.76975</td>\n",
       "      <td>1652.97013</td>\n",
       "      <td>547.66168</td>\n",
       "      <td>465.86033</td>\n",
       "      <td>1533.80035</td>\n",
       "      <td>2873.30205</td>\n",
       "      <td>1494.86541</td>\n",
       "      <td>2309.67967</td>\n",
       "    </tr>\n",
       "    <tr>\n",
       "      <th>8040</th>\n",
       "      <td>2</td>\n",
       "      <td>2020.4</td>\n",
       "      <td>1998944199680097565959147</td>\n",
       "      <td>199894419968009756595914702</td>\n",
       "      <td>2</td>\n",
       "      <td>204</td>\n",
       "      <td>19</td>\n",
       "      <td>98944199680097565959</td>\n",
       "      <td>1</td>\n",
       "      <td>47</td>\n",
       "      <td>...</td>\n",
       "      <td>1477.63461</td>\n",
       "      <td>1558.81562</td>\n",
       "      <td>1693.76975</td>\n",
       "      <td>1652.97013</td>\n",
       "      <td>547.66168</td>\n",
       "      <td>465.86033</td>\n",
       "      <td>1533.80035</td>\n",
       "      <td>2873.30205</td>\n",
       "      <td>1494.86541</td>\n",
       "      <td>2309.67967</td>\n",
       "    </tr>\n",
       "    <tr>\n",
       "      <th>8041</th>\n",
       "      <td>2</td>\n",
       "      <td>2020.4</td>\n",
       "      <td>1998945258028922565932157</td>\n",
       "      <td>199894525802892256593215701</td>\n",
       "      <td>7</td>\n",
       "      <td>204</td>\n",
       "      <td>19</td>\n",
       "      <td>98945258028922565932</td>\n",
       "      <td>1</td>\n",
       "      <td>57</td>\n",
       "      <td>...</td>\n",
       "      <td>967.01799</td>\n",
       "      <td>1072.81532</td>\n",
       "      <td>310.49310</td>\n",
       "      <td>1021.54026</td>\n",
       "      <td>1841.32767</td>\n",
       "      <td>1153.91913</td>\n",
       "      <td>311.91546</td>\n",
       "      <td>1886.64636</td>\n",
       "      <td>1031.46708</td>\n",
       "      <td>305.66761</td>\n",
       "    </tr>\n",
       "    <tr>\n",
       "      <th>8042</th>\n",
       "      <td>2</td>\n",
       "      <td>2020.4</td>\n",
       "      <td>1998951992687206564449156</td>\n",
       "      <td>199895199268720656444915603</td>\n",
       "      <td>8</td>\n",
       "      <td>204</td>\n",
       "      <td>19</td>\n",
       "      <td>98951992687206564449</td>\n",
       "      <td>1</td>\n",
       "      <td>56</td>\n",
       "      <td>...</td>\n",
       "      <td>370.65097</td>\n",
       "      <td>1650.09803</td>\n",
       "      <td>2057.90261</td>\n",
       "      <td>903.55072</td>\n",
       "      <td>965.33919</td>\n",
       "      <td>869.18967</td>\n",
       "      <td>328.52448</td>\n",
       "      <td>2035.61108</td>\n",
       "      <td>348.41427</td>\n",
       "      <td>2233.54424</td>\n",
       "    </tr>\n",
       "  </tbody>\n",
       "</table>\n",
       "<p>8043 rows × 1496 columns</p>\n",
       "</div>"
      ],
      "text/plain": [
       "      V2001   YEARQ                       IDHH                        IDPER  \\\n",
       "0         2  2020.1  1602014158353447564559137  160201415835344756455913701   \n",
       "1         2  2020.1  1602071958685392584549331  160207195868539258454933101   \n",
       "2         2  2020.1  1602071958685392584549331  160207195868539258454933101   \n",
       "3         2  2020.1  1602071965133498564549121  160207196513349856454912101   \n",
       "4         2  2020.1  1602073503395389564538237  160207350339538956453823702   \n",
       "...     ...     ...                        ...                          ...   \n",
       "8038      2  2020.4  1998941684460892565945147  199894168446089256594514703   \n",
       "8039      2  2020.4  1998944199680097565959147  199894419968009756595914702   \n",
       "8040      2  2020.4  1998944199680097565959147  199894419968009756595914702   \n",
       "8041      2  2020.4  1998945258028922565932157  199894525802892256593215701   \n",
       "8042      2  2020.4  1998951992687206564449156  199895199268720656444915603   \n",
       "\n",
       "      V2002  V2003  V2004                 V2005  V2006  V2008  ...  \\\n",
       "0         9    201     16  02014158353447564559      1     37  ...   \n",
       "1         9    201     16  02071958685392584549      3     31  ...   \n",
       "2         9    201     16  02071958685392584549      3     31  ...   \n",
       "3         5    201     16  02071965133498564549      1     21  ...   \n",
       "4         5    201     16  02073503395389564538      2     37  ...   \n",
       "...     ...    ...    ...                   ...    ...    ...  ...   \n",
       "8038      3    204     19  98941684460892565945      1     47  ...   \n",
       "8039      2    204     19  98944199680097565959      1     47  ...   \n",
       "8040      2    204     19  98944199680097565959      1     47  ...   \n",
       "8041      7    204     19  98945258028922565932      1     57  ...   \n",
       "8042      8    204     19  98951992687206564449      1     56  ...   \n",
       "\n",
       "      VICREPWGT151  VICREPWGT152  VICREPWGT153  VICREPWGT154  VICREPWGT155  \\\n",
       "0       1612.80211     957.67146     945.77335    1516.55604     263.46946   \n",
       "1       1534.76535    1522.76945    2700.31670    1641.01090    1497.63238   \n",
       "2       1534.76535    1522.76945    2700.31670    1641.01090    1497.63238   \n",
       "3        906.94531     935.75917    1554.68095     280.66831     913.27482   \n",
       "4        247.93947    1636.19411     269.82388     915.99897     288.84869   \n",
       "...            ...           ...           ...           ...           ...   \n",
       "8038    8156.47940    1762.91979    1862.31765    2022.56997    1603.27339   \n",
       "8039    1477.63461    1558.81562    1693.76975    1652.97013     547.66168   \n",
       "8040    1477.63461    1558.81562    1693.76975    1652.97013     547.66168   \n",
       "8041     967.01799    1072.81532     310.49310    1021.54026    1841.32767   \n",
       "8042     370.65097    1650.09803    2057.90261     903.55072     965.33919   \n",
       "\n",
       "      VICREPWGT156  VICREPWGT157  VICREPWGT158  VICREPWGT159  VICREPWGT160  \n",
       "0        262.32476    1631.00937    1516.71650     982.99998    1548.67763  \n",
       "1       1553.94103    1537.50545    2392.92915    1555.60799    1457.00935  \n",
       "2       1553.94103    1537.50545    2392.92915    1555.60799    1457.00935  \n",
       "3       1493.67962     914.83544     845.96690     908.57138     855.55730  \n",
       "4        254.50550     935.72166     832.81916     891.06293     764.96427  \n",
       "...            ...           ...           ...           ...           ...  \n",
       "8038    6232.84066    1391.36558    6663.19618    1882.87691    8713.14869  \n",
       "8039     465.86033    1533.80035    2873.30205    1494.86541    2309.67967  \n",
       "8040     465.86033    1533.80035    2873.30205    1494.86541    2309.67967  \n",
       "8041    1153.91913     311.91546    1886.64636    1031.46708     305.66761  \n",
       "8042     869.18967     328.52448    2035.61108     348.41427    2233.54424  \n",
       "\n",
       "[8043 rows x 1496 columns]"
      ]
     },
     "execution_count": 4,
     "metadata": {},
     "output_type": "execute_result"
    }
   ],
   "source": [
    "#concatenated file\n",
    "df = pd.read_table('38090-0005-Data.tsv')\n",
    "df"
   ]
  },
  {
   "cell_type": "code",
   "execution_count": 5,
   "id": "c1125571-6f4a-4cd1-b96c-069f9537a269",
   "metadata": {},
   "outputs": [
    {
     "name": "stdout",
     "output_type": "stream",
     "text": [
      "1    7911\n",
      "2     116\n",
      "Name: V4017, dtype: int64\n"
     ]
    }
   ],
   "source": [
    "#how many incidents--total \n",
    "#binary\n",
    "df = df.loc[df[\"V4017\"] != 8]\n",
    "print(df[\"V4017\"].value_counts())"
   ]
  },
  {
   "cell_type": "code",
   "execution_count": 6,
   "id": "7c1832b6-5f9d-4c38-8b9f-bc2db1770689",
   "metadata": {
    "tags": []
   },
   "outputs": [
    {
     "name": "stdout",
     "output_type": "stream",
     "text": [
      "1     6600\n",
      "2      807\n",
      "3      263\n",
      "4      142\n",
      "5       99\n",
      "6       36\n",
      "10      22\n",
      "12      12\n",
      "7       11\n",
      "8        8\n",
      "30       8\n",
      "20       6\n",
      "15       4\n",
      "11       3\n",
      "16       1\n",
      "13       1\n",
      "26       1\n",
      "24       1\n",
      "25       1\n",
      "17       1\n",
      "Name: V4016, dtype: int64\n"
     ]
    }
   ],
   "source": [
    "#how any times the incident occurred in the last 6 months\n",
    "#one-hot encoding\n",
    "print(df[\"V4016\"].value_counts())"
   ]
  },
  {
   "cell_type": "code",
   "execution_count": 7,
   "id": "5c373d2e-e9ec-4b50-85dd-d180f77d012f",
   "metadata": {},
   "outputs": [
    {
     "name": "stdout",
     "output_type": "stream",
     "text": [
      "2    7774\n",
      "1     200\n",
      "Name: V4526AA, dtype: int64\n"
     ]
    }
   ],
   "source": [
    "#HATE CRIME\n",
    "df = df.loc[df[\"V4526AA\"] != 3]\n",
    "df = df.loc[df[\"V4526AA\"] != 8]\n",
    "print(df[\"V4526AA\"].value_counts())"
   ]
  },
  {
   "cell_type": "code",
   "execution_count": 8,
   "id": "6c72e9a7-546c-4f83-9e12-f0be4381e3ee",
   "metadata": {},
   "outputs": [
    {
     "data": {
      "text/plain": [
       "2    5389\n",
       "1    1430\n",
       "3    1155\n",
       "Name: V2143, dtype: int64"
      ]
     },
     "execution_count": 8,
     "metadata": {},
     "output_type": "execute_result"
    }
   ],
   "source": [
    "#location urbanicity\n",
    "#one-hot\n",
    "df[\"V2143\"].value_counts()"
   ]
  },
  {
   "cell_type": "code",
   "execution_count": 9,
   "id": "3dfb2e8b-fab4-4e81-bcce-1c011bbe12c4",
   "metadata": {},
   "outputs": [
    {
     "data": {
      "text/plain": [
       "99    7974\n",
       "Name: V2031, dtype: int64"
      ]
     },
     "execution_count": 9,
     "metadata": {},
     "output_type": "execute_result"
    }
   ],
   "source": [
    "#race of house hold head\n",
    "#everything is 99 not helpful\n",
    "df[\"V2031\"].value_counts()"
   ]
  },
  {
   "cell_type": "code",
   "execution_count": 10,
   "id": "58516225-ffcb-45d1-beb4-24c2e1bc4cd8",
   "metadata": {},
   "outputs": [
    {
     "data": {
      "text/plain": [
       "11    6226\n",
       "2     1748\n",
       "Name: V2032, dtype: int64"
      ]
     },
     "execution_count": 10,
     "metadata": {},
     "output_type": "execute_result"
    }
   ],
   "source": [
    "#we are confused if its helpful\n",
    "df[\"V2032\"].value_counts()"
   ]
  },
  {
   "cell_type": "code",
   "execution_count": 11,
   "id": "0d86432c-ba87-4289-bd9a-033edcd7b369",
   "metadata": {},
   "outputs": [
    {
     "data": {
      "text/plain": [
       "2     3239\n",
       "1     2584\n",
       "3     1187\n",
       "4      625\n",
       "5      219\n",
       "6       89\n",
       "7       22\n",
       "8        5\n",
       "9        3\n",
       "12       1\n",
       "Name: V2071, dtype: int64"
      ]
     },
     "execution_count": 11,
     "metadata": {},
     "output_type": "execute_result"
    }
   ],
   "source": [
    "#no of hh members 12+\n",
    "#one-hot\n",
    "df[\"V2071\"].value_counts()"
   ]
  },
  {
   "cell_type": "code",
   "execution_count": 12,
   "id": "255a3821-3ae9-47db-9c19-265cc02dfd05",
   "metadata": {},
   "outputs": [
    {
     "data": {
      "text/plain": [
       "1    4872\n",
       "2    2944\n",
       "Name: V3071, dtype: int64"
      ]
     },
     "execution_count": 12,
     "metadata": {},
     "output_type": "execute_result"
    }
   ],
   "source": [
    "#individual emeployment info\n",
    "#binary\n",
    "df = df.loc[df[\"V3071\"] != 8]\n",
    "df = df.loc[df[\"V3071\"] != 9]\n",
    "df[\"V3071\"].value_counts()"
   ]
  },
  {
   "cell_type": "code",
   "execution_count": 13,
   "id": "691dfc68-f902-416e-a619-b4b7b6016111",
   "metadata": {},
   "outputs": [
    {
     "data": {
      "text/plain": [
       "3    6643\n",
       "4    1061\n",
       "2      40\n",
       "5      38\n",
       "1      32\n",
       "Name: V4022, dtype: int64"
      ]
     },
     "execution_count": 13,
     "metadata": {},
     "output_type": "execute_result"
    }
   ],
   "source": [
    "#location of the incident\n",
    "#one-hot\n",
    "df = df.loc[df[\"V4022\"] != 8]\n",
    "df[\"V4022\"].value_counts()"
   ]
  },
  {
   "cell_type": "code",
   "execution_count": 14,
   "id": "fc5d882f-d428-4c4a-bf41-9b45be81638b",
   "metadata": {},
   "outputs": [
    {
     "data": {
      "text/plain": [
       "9    6095\n",
       "2    1052\n",
       "1     622\n",
       "3      28\n",
       "8      17\n",
       "Name: V4025, dtype: int64"
      ]
     },
     "execution_count": 14,
     "metadata": {},
     "output_type": "execute_result"
    }
   ],
   "source": [
    "#if the offender had a right to be there\n",
    "#next iteration\n",
    "df[\"V4025\"].value_counts()"
   ]
  },
  {
   "cell_type": "code",
   "execution_count": 15,
   "id": "e99de084-71c1-4ed7-ac80-14d0c14f896a",
   "metadata": {},
   "outputs": [
    {
     "data": {
      "text/plain": [
       "9    7359\n",
       "1     437\n",
       "8      18\n",
       "Name: V4029, dtype: int64"
      ]
     },
     "execution_count": 15,
     "metadata": {},
     "output_type": "execute_result"
    }
   ],
   "source": [
    "#evidence of forced entry\n",
    "#next iteration\n",
    "df[\"V4029\"].value_counts()"
   ]
  },
  {
   "cell_type": "code",
   "execution_count": 16,
   "id": "c96a498b-c82c-490f-8d83-0d695e4fca1b",
   "metadata": {},
   "outputs": [
    {
     "data": {
      "text/plain": [
       "9    7477\n",
       "2     195\n",
       "1     142\n",
       "Name: V4127, dtype: int64"
      ]
     },
     "execution_count": 16,
     "metadata": {},
     "output_type": "execute_result"
    }
   ],
   "source": [
    "#received medical care\n",
    "#next iteration, probably should not use it. \n",
    "df[\"V4127\"].value_counts()"
   ]
  },
  {
   "cell_type": "code",
   "execution_count": 17,
   "id": "063eaecf-1669-43a7-8c3e-a7e70a4e2ac1",
   "metadata": {},
   "outputs": [
    {
     "data": {
      "text/plain": [
       "9    5484\n",
       "1    1078\n",
       "2     994\n",
       "8     178\n",
       "3      80\n",
       "Name: V4184, dtype: int64"
      ]
     },
     "execution_count": 17,
     "metadata": {},
     "output_type": "execute_result"
    }
   ],
   "source": [
    "#anyone other thn the respondent present\n",
    "#next iteration\n",
    "df[\"V4184\"].value_counts()"
   ]
  },
  {
   "cell_type": "code",
   "execution_count": 18,
   "id": "a3353eab-3d51-46a8-9659-73ea968626d2",
   "metadata": {},
   "outputs": [
    {
     "data": {
      "text/plain": [
       "9    5380\n",
       "1    1771\n",
       "3     326\n",
       "2     266\n",
       "8      71\n",
       "Name: V4234, dtype: int64"
      ]
     },
     "execution_count": 18,
     "metadata": {},
     "output_type": "execute_result"
    }
   ],
   "source": [
    "#one or more offender\n",
    "#next iteration\n",
    "df[\"V4234\"].value_counts()"
   ]
  },
  {
   "cell_type": "code",
   "execution_count": 19,
   "id": "1c00c78e-3bfc-4a8f-bd6a-2fa152514a1e",
   "metadata": {},
   "outputs": [
    {
     "data": {
      "text/plain": [
       "99999    2606\n",
       "99998     741\n",
       "200       504\n",
       "100       483\n",
       "50        317\n",
       "         ... \n",
       "14000       1\n",
       "21000       1\n",
       "4100        1\n",
       "6300        1\n",
       "6700        1\n",
       "Name: V4364, Length: 87, dtype: int64"
      ]
     },
     "execution_count": 19,
     "metadata": {},
     "output_type": "execute_result"
    }
   ],
   "source": [
    "#value of property taken\n",
    "#next iteration --- group the data\n",
    "df[\"V4364\"].value_counts()"
   ]
  },
  {
   "cell_type": "code",
   "execution_count": 20,
   "id": "edd3eb3b-b055-4393-9bc1-aca8f696e172",
   "metadata": {},
   "outputs": [
    {
     "data": {
      "text/plain": [
       "9    6595\n",
       "2     752\n",
       "1     450\n",
       "8      15\n",
       "3       1\n",
       "4       1\n",
       "Name: V4484, dtype: int64"
      ]
     },
     "execution_count": 20,
     "metadata": {},
     "output_type": "execute_result"
    }
   ],
   "source": [
    "#incident occur at work\n",
    "#next iteration\n",
    "df[\"V4484\"].value_counts()"
   ]
  },
  {
   "cell_type": "code",
   "execution_count": 21,
   "id": "b16639d9-d11b-4d7d-a168-348db24cbe81",
   "metadata": {},
   "outputs": [
    {
     "data": {
      "text/plain": [
       "9    7713\n",
       "1      92\n",
       "2       5\n",
       "8       4\n",
       "Name: V4524, dtype: int64"
      ]
     },
     "execution_count": 21,
     "metadata": {},
     "output_type": "execute_result"
    }
   ],
   "source": [
    "#same thing happen each time\n",
    "#next iteration\n",
    "df[\"V4524\"].value_counts()"
   ]
  },
  {
   "cell_type": "code",
   "execution_count": 22,
   "id": "ce517da0-84e3-4821-8ba2-8081edc3533d",
   "metadata": {},
   "outputs": [
    {
     "data": {
      "text/plain": [
       "9    7713\n",
       "1      57\n",
       "2      38\n",
       "8       6\n",
       "Name: V4525, dtype: int64"
      ]
     },
     "execution_count": 22,
     "metadata": {},
     "output_type": "execute_result"
    }
   ],
   "source": [
    "#is trouble still going on\n",
    "#next iteration\n",
    "df[\"V4525\"].value_counts()"
   ]
  },
  {
   "cell_type": "code",
   "execution_count": 23,
   "id": "541c1faa-6f7a-43bb-8f68-d1aecf7af8b9",
   "metadata": {},
   "outputs": [
    {
     "name": "stdout",
     "output_type": "stream",
     "text": [
      "2    4929\n",
      "1    2785\n",
      "Name: V4399, dtype: int64\n"
     ]
    }
   ],
   "source": [
    "#Target\n",
    "df = df.loc[df[\"V4399\"] != 3]\n",
    "df = df.loc[df[\"V4399\"] != 8]\n",
    "print(df[\"V4399\"].value_counts())"
   ]
  },
  {
   "cell_type": "code",
   "execution_count": 24,
   "id": "5835059c-296b-46f1-be3f-539ce7c33e2b",
   "metadata": {
    "tags": []
   },
   "outputs": [
    {
     "data": {
      "text/html": [
       "<div>\n",
       "<style scoped>\n",
       "    .dataframe tbody tr th:only-of-type {\n",
       "        vertical-align: middle;\n",
       "    }\n",
       "\n",
       "    .dataframe tbody tr th {\n",
       "        vertical-align: top;\n",
       "    }\n",
       "\n",
       "    .dataframe thead th {\n",
       "        text-align: right;\n",
       "    }\n",
       "</style>\n",
       "<table border=\"1\" class=\"dataframe\">\n",
       "  <thead>\n",
       "    <tr style=\"text-align: right;\">\n",
       "      <th></th>\n",
       "      <th>V2001</th>\n",
       "      <th>YEARQ</th>\n",
       "      <th>IDHH</th>\n",
       "      <th>IDPER</th>\n",
       "      <th>V2002</th>\n",
       "      <th>V2003</th>\n",
       "      <th>V2004</th>\n",
       "      <th>V2005</th>\n",
       "      <th>V2006</th>\n",
       "      <th>V2008</th>\n",
       "      <th>...</th>\n",
       "      <th>VICREPWGT151</th>\n",
       "      <th>VICREPWGT152</th>\n",
       "      <th>VICREPWGT153</th>\n",
       "      <th>VICREPWGT154</th>\n",
       "      <th>VICREPWGT155</th>\n",
       "      <th>VICREPWGT156</th>\n",
       "      <th>VICREPWGT157</th>\n",
       "      <th>VICREPWGT158</th>\n",
       "      <th>VICREPWGT159</th>\n",
       "      <th>VICREPWGT160</th>\n",
       "    </tr>\n",
       "  </thead>\n",
       "  <tbody>\n",
       "    <tr>\n",
       "      <th>0</th>\n",
       "      <td>2</td>\n",
       "      <td>2020.1</td>\n",
       "      <td>1602014158353447564559137</td>\n",
       "      <td>160201415835344756455913701</td>\n",
       "      <td>9</td>\n",
       "      <td>201</td>\n",
       "      <td>16</td>\n",
       "      <td>02014158353447564559</td>\n",
       "      <td>1</td>\n",
       "      <td>37</td>\n",
       "      <td>...</td>\n",
       "      <td>1612.80211</td>\n",
       "      <td>957.67146</td>\n",
       "      <td>945.77335</td>\n",
       "      <td>1516.55604</td>\n",
       "      <td>263.46946</td>\n",
       "      <td>262.32476</td>\n",
       "      <td>1631.00937</td>\n",
       "      <td>1516.71650</td>\n",
       "      <td>982.99998</td>\n",
       "      <td>1548.67763</td>\n",
       "    </tr>\n",
       "    <tr>\n",
       "      <th>1</th>\n",
       "      <td>2</td>\n",
       "      <td>2020.1</td>\n",
       "      <td>1602071958685392584549331</td>\n",
       "      <td>160207195868539258454933101</td>\n",
       "      <td>9</td>\n",
       "      <td>201</td>\n",
       "      <td>16</td>\n",
       "      <td>02071958685392584549</td>\n",
       "      <td>3</td>\n",
       "      <td>31</td>\n",
       "      <td>...</td>\n",
       "      <td>1534.76535</td>\n",
       "      <td>1522.76945</td>\n",
       "      <td>2700.31670</td>\n",
       "      <td>1641.01090</td>\n",
       "      <td>1497.63238</td>\n",
       "      <td>1553.94103</td>\n",
       "      <td>1537.50545</td>\n",
       "      <td>2392.92915</td>\n",
       "      <td>1555.60799</td>\n",
       "      <td>1457.00935</td>\n",
       "    </tr>\n",
       "    <tr>\n",
       "      <th>2</th>\n",
       "      <td>2</td>\n",
       "      <td>2020.1</td>\n",
       "      <td>1602071958685392584549331</td>\n",
       "      <td>160207195868539258454933101</td>\n",
       "      <td>9</td>\n",
       "      <td>201</td>\n",
       "      <td>16</td>\n",
       "      <td>02071958685392584549</td>\n",
       "      <td>3</td>\n",
       "      <td>31</td>\n",
       "      <td>...</td>\n",
       "      <td>1534.76535</td>\n",
       "      <td>1522.76945</td>\n",
       "      <td>2700.31670</td>\n",
       "      <td>1641.01090</td>\n",
       "      <td>1497.63238</td>\n",
       "      <td>1553.94103</td>\n",
       "      <td>1537.50545</td>\n",
       "      <td>2392.92915</td>\n",
       "      <td>1555.60799</td>\n",
       "      <td>1457.00935</td>\n",
       "    </tr>\n",
       "    <tr>\n",
       "      <th>3</th>\n",
       "      <td>2</td>\n",
       "      <td>2020.1</td>\n",
       "      <td>1602071965133498564549121</td>\n",
       "      <td>160207196513349856454912101</td>\n",
       "      <td>5</td>\n",
       "      <td>201</td>\n",
       "      <td>16</td>\n",
       "      <td>02071965133498564549</td>\n",
       "      <td>1</td>\n",
       "      <td>21</td>\n",
       "      <td>...</td>\n",
       "      <td>906.94531</td>\n",
       "      <td>935.75917</td>\n",
       "      <td>1554.68095</td>\n",
       "      <td>280.66831</td>\n",
       "      <td>913.27482</td>\n",
       "      <td>1493.67962</td>\n",
       "      <td>914.83544</td>\n",
       "      <td>845.96690</td>\n",
       "      <td>908.57138</td>\n",
       "      <td>855.55730</td>\n",
       "    </tr>\n",
       "    <tr>\n",
       "      <th>4</th>\n",
       "      <td>2</td>\n",
       "      <td>2020.1</td>\n",
       "      <td>1602073503395389564538237</td>\n",
       "      <td>160207350339538956453823702</td>\n",
       "      <td>5</td>\n",
       "      <td>201</td>\n",
       "      <td>16</td>\n",
       "      <td>02073503395389564538</td>\n",
       "      <td>2</td>\n",
       "      <td>37</td>\n",
       "      <td>...</td>\n",
       "      <td>247.93947</td>\n",
       "      <td>1636.19411</td>\n",
       "      <td>269.82388</td>\n",
       "      <td>915.99897</td>\n",
       "      <td>288.84869</td>\n",
       "      <td>254.50550</td>\n",
       "      <td>935.72166</td>\n",
       "      <td>832.81916</td>\n",
       "      <td>891.06293</td>\n",
       "      <td>764.96427</td>\n",
       "    </tr>\n",
       "    <tr>\n",
       "      <th>...</th>\n",
       "      <td>...</td>\n",
       "      <td>...</td>\n",
       "      <td>...</td>\n",
       "      <td>...</td>\n",
       "      <td>...</td>\n",
       "      <td>...</td>\n",
       "      <td>...</td>\n",
       "      <td>...</td>\n",
       "      <td>...</td>\n",
       "      <td>...</td>\n",
       "      <td>...</td>\n",
       "      <td>...</td>\n",
       "      <td>...</td>\n",
       "      <td>...</td>\n",
       "      <td>...</td>\n",
       "      <td>...</td>\n",
       "      <td>...</td>\n",
       "      <td>...</td>\n",
       "      <td>...</td>\n",
       "      <td>...</td>\n",
       "      <td>...</td>\n",
       "    </tr>\n",
       "    <tr>\n",
       "      <th>8038</th>\n",
       "      <td>2</td>\n",
       "      <td>2020.4</td>\n",
       "      <td>1998941684460892565945147</td>\n",
       "      <td>199894168446089256594514703</td>\n",
       "      <td>3</td>\n",
       "      <td>204</td>\n",
       "      <td>19</td>\n",
       "      <td>98941684460892565945</td>\n",
       "      <td>1</td>\n",
       "      <td>47</td>\n",
       "      <td>...</td>\n",
       "      <td>8156.47940</td>\n",
       "      <td>1762.91979</td>\n",
       "      <td>1862.31765</td>\n",
       "      <td>2022.56997</td>\n",
       "      <td>1603.27339</td>\n",
       "      <td>6232.84066</td>\n",
       "      <td>1391.36558</td>\n",
       "      <td>6663.19618</td>\n",
       "      <td>1882.87691</td>\n",
       "      <td>8713.14869</td>\n",
       "    </tr>\n",
       "    <tr>\n",
       "      <th>8039</th>\n",
       "      <td>2</td>\n",
       "      <td>2020.4</td>\n",
       "      <td>1998944199680097565959147</td>\n",
       "      <td>199894419968009756595914702</td>\n",
       "      <td>2</td>\n",
       "      <td>204</td>\n",
       "      <td>19</td>\n",
       "      <td>98944199680097565959</td>\n",
       "      <td>1</td>\n",
       "      <td>47</td>\n",
       "      <td>...</td>\n",
       "      <td>1477.63461</td>\n",
       "      <td>1558.81562</td>\n",
       "      <td>1693.76975</td>\n",
       "      <td>1652.97013</td>\n",
       "      <td>547.66168</td>\n",
       "      <td>465.86033</td>\n",
       "      <td>1533.80035</td>\n",
       "      <td>2873.30205</td>\n",
       "      <td>1494.86541</td>\n",
       "      <td>2309.67967</td>\n",
       "    </tr>\n",
       "    <tr>\n",
       "      <th>8040</th>\n",
       "      <td>2</td>\n",
       "      <td>2020.4</td>\n",
       "      <td>1998944199680097565959147</td>\n",
       "      <td>199894419968009756595914702</td>\n",
       "      <td>2</td>\n",
       "      <td>204</td>\n",
       "      <td>19</td>\n",
       "      <td>98944199680097565959</td>\n",
       "      <td>1</td>\n",
       "      <td>47</td>\n",
       "      <td>...</td>\n",
       "      <td>1477.63461</td>\n",
       "      <td>1558.81562</td>\n",
       "      <td>1693.76975</td>\n",
       "      <td>1652.97013</td>\n",
       "      <td>547.66168</td>\n",
       "      <td>465.86033</td>\n",
       "      <td>1533.80035</td>\n",
       "      <td>2873.30205</td>\n",
       "      <td>1494.86541</td>\n",
       "      <td>2309.67967</td>\n",
       "    </tr>\n",
       "    <tr>\n",
       "      <th>8041</th>\n",
       "      <td>2</td>\n",
       "      <td>2020.4</td>\n",
       "      <td>1998945258028922565932157</td>\n",
       "      <td>199894525802892256593215701</td>\n",
       "      <td>7</td>\n",
       "      <td>204</td>\n",
       "      <td>19</td>\n",
       "      <td>98945258028922565932</td>\n",
       "      <td>1</td>\n",
       "      <td>57</td>\n",
       "      <td>...</td>\n",
       "      <td>967.01799</td>\n",
       "      <td>1072.81532</td>\n",
       "      <td>310.49310</td>\n",
       "      <td>1021.54026</td>\n",
       "      <td>1841.32767</td>\n",
       "      <td>1153.91913</td>\n",
       "      <td>311.91546</td>\n",
       "      <td>1886.64636</td>\n",
       "      <td>1031.46708</td>\n",
       "      <td>305.66761</td>\n",
       "    </tr>\n",
       "    <tr>\n",
       "      <th>8042</th>\n",
       "      <td>2</td>\n",
       "      <td>2020.4</td>\n",
       "      <td>1998951992687206564449156</td>\n",
       "      <td>199895199268720656444915603</td>\n",
       "      <td>8</td>\n",
       "      <td>204</td>\n",
       "      <td>19</td>\n",
       "      <td>98951992687206564449</td>\n",
       "      <td>1</td>\n",
       "      <td>56</td>\n",
       "      <td>...</td>\n",
       "      <td>370.65097</td>\n",
       "      <td>1650.09803</td>\n",
       "      <td>2057.90261</td>\n",
       "      <td>903.55072</td>\n",
       "      <td>965.33919</td>\n",
       "      <td>869.18967</td>\n",
       "      <td>328.52448</td>\n",
       "      <td>2035.61108</td>\n",
       "      <td>348.41427</td>\n",
       "      <td>2233.54424</td>\n",
       "    </tr>\n",
       "  </tbody>\n",
       "</table>\n",
       "<p>7714 rows × 1496 columns</p>\n",
       "</div>"
      ],
      "text/plain": [
       "      V2001   YEARQ                       IDHH                        IDPER  \\\n",
       "0         2  2020.1  1602014158353447564559137  160201415835344756455913701   \n",
       "1         2  2020.1  1602071958685392584549331  160207195868539258454933101   \n",
       "2         2  2020.1  1602071958685392584549331  160207195868539258454933101   \n",
       "3         2  2020.1  1602071965133498564549121  160207196513349856454912101   \n",
       "4         2  2020.1  1602073503395389564538237  160207350339538956453823702   \n",
       "...     ...     ...                        ...                          ...   \n",
       "8038      2  2020.4  1998941684460892565945147  199894168446089256594514703   \n",
       "8039      2  2020.4  1998944199680097565959147  199894419968009756595914702   \n",
       "8040      2  2020.4  1998944199680097565959147  199894419968009756595914702   \n",
       "8041      2  2020.4  1998945258028922565932157  199894525802892256593215701   \n",
       "8042      2  2020.4  1998951992687206564449156  199895199268720656444915603   \n",
       "\n",
       "      V2002  V2003  V2004                 V2005  V2006  V2008  ...  \\\n",
       "0         9    201     16  02014158353447564559      1     37  ...   \n",
       "1         9    201     16  02071958685392584549      3     31  ...   \n",
       "2         9    201     16  02071958685392584549      3     31  ...   \n",
       "3         5    201     16  02071965133498564549      1     21  ...   \n",
       "4         5    201     16  02073503395389564538      2     37  ...   \n",
       "...     ...    ...    ...                   ...    ...    ...  ...   \n",
       "8038      3    204     19  98941684460892565945      1     47  ...   \n",
       "8039      2    204     19  98944199680097565959      1     47  ...   \n",
       "8040      2    204     19  98944199680097565959      1     47  ...   \n",
       "8041      7    204     19  98945258028922565932      1     57  ...   \n",
       "8042      8    204     19  98951992687206564449      1     56  ...   \n",
       "\n",
       "      VICREPWGT151  VICREPWGT152  VICREPWGT153  VICREPWGT154  VICREPWGT155  \\\n",
       "0       1612.80211     957.67146     945.77335    1516.55604     263.46946   \n",
       "1       1534.76535    1522.76945    2700.31670    1641.01090    1497.63238   \n",
       "2       1534.76535    1522.76945    2700.31670    1641.01090    1497.63238   \n",
       "3        906.94531     935.75917    1554.68095     280.66831     913.27482   \n",
       "4        247.93947    1636.19411     269.82388     915.99897     288.84869   \n",
       "...            ...           ...           ...           ...           ...   \n",
       "8038    8156.47940    1762.91979    1862.31765    2022.56997    1603.27339   \n",
       "8039    1477.63461    1558.81562    1693.76975    1652.97013     547.66168   \n",
       "8040    1477.63461    1558.81562    1693.76975    1652.97013     547.66168   \n",
       "8041     967.01799    1072.81532     310.49310    1021.54026    1841.32767   \n",
       "8042     370.65097    1650.09803    2057.90261     903.55072     965.33919   \n",
       "\n",
       "      VICREPWGT156  VICREPWGT157  VICREPWGT158  VICREPWGT159  VICREPWGT160  \n",
       "0        262.32476    1631.00937    1516.71650     982.99998    1548.67763  \n",
       "1       1553.94103    1537.50545    2392.92915    1555.60799    1457.00935  \n",
       "2       1553.94103    1537.50545    2392.92915    1555.60799    1457.00935  \n",
       "3       1493.67962     914.83544     845.96690     908.57138     855.55730  \n",
       "4        254.50550     935.72166     832.81916     891.06293     764.96427  \n",
       "...            ...           ...           ...           ...           ...  \n",
       "8038    6232.84066    1391.36558    6663.19618    1882.87691    8713.14869  \n",
       "8039     465.86033    1533.80035    2873.30205    1494.86541    2309.67967  \n",
       "8040     465.86033    1533.80035    2873.30205    1494.86541    2309.67967  \n",
       "8041    1153.91913     311.91546    1886.64636    1031.46708     305.66761  \n",
       "8042     869.18967     328.52448    2035.61108     348.41427    2233.54424  \n",
       "\n",
       "[7714 rows x 1496 columns]"
      ]
     },
     "execution_count": 24,
     "metadata": {},
     "output_type": "execute_result"
    }
   ],
   "source": [
    "df"
   ]
  },
  {
   "cell_type": "code",
   "execution_count": 25,
   "id": "0b4d2db0-cc4b-4a8b-92ce-cc6fd20b9645",
   "metadata": {},
   "outputs": [
    {
     "name": "stdout",
     "output_type": "stream",
     "text": [
      "percentage reported: 0.3564115689787561\n",
      "percentage not reported: 0.6307908881494753\n"
     ]
    }
   ],
   "source": [
    "print(\"percentage reported:\", 2785/7814) #reported\n",
    "print(\"percentage not reported:\", 4929/7814) \n"
   ]
  },
  {
   "cell_type": "code",
   "execution_count": 42,
   "id": "7ea7c24f-3dab-4ffa-9ba8-d633bb630882",
   "metadata": {
    "tags": []
   },
   "outputs": [
    {
     "data": {
      "text/plain": [
       "array([[0.15795558],\n",
       "       [0.15795558],\n",
       "       [0.15795558],\n",
       "       ...,\n",
       "       [0.15795558],\n",
       "       [0.15795558],\n",
       "       [0.15795558]])"
      ]
     },
     "execution_count": 42,
     "metadata": {},
     "output_type": "execute_result"
    }
   ],
   "source": [
    "#inputs = df[['V4526AA', 'V4016', 'V4017',\"V2143\",\"V2071\",\"V3071\",\n",
    "            #\"V4022\",\"V4025\",\"V4029\", \"V4127\",\"V4184\",\"V4234\",\"V4364\",\"V4484\",\"V4524\",\"V4525\",]]\n",
    "inputs = df[['V4526AA']]\n",
    "target = df[['V4399']]\n",
    "scaler = preprocessing.StandardScaler().fit(inputs)\n",
    "scaled_inputs = scaler.transform(inputs)\n",
    "scaled_inputs "
   ]
  },
  {
   "cell_type": "code",
   "execution_count": 43,
   "id": "a68c2a82-2377-48f9-a1df-a38ff72e367d",
   "metadata": {
    "tags": []
   },
   "outputs": [
    {
     "data": {
      "text/html": [
       "<div>\n",
       "<style scoped>\n",
       "    .dataframe tbody tr th:only-of-type {\n",
       "        vertical-align: middle;\n",
       "    }\n",
       "\n",
       "    .dataframe tbody tr th {\n",
       "        vertical-align: top;\n",
       "    }\n",
       "\n",
       "    .dataframe thead th {\n",
       "        text-align: right;\n",
       "    }\n",
       "</style>\n",
       "<table border=\"1\" class=\"dataframe\">\n",
       "  <thead>\n",
       "    <tr style=\"text-align: right;\">\n",
       "      <th></th>\n",
       "      <th>V4399</th>\n",
       "    </tr>\n",
       "  </thead>\n",
       "  <tbody>\n",
       "    <tr>\n",
       "      <th>0</th>\n",
       "      <td>2</td>\n",
       "    </tr>\n",
       "    <tr>\n",
       "      <th>1</th>\n",
       "      <td>2</td>\n",
       "    </tr>\n",
       "    <tr>\n",
       "      <th>2</th>\n",
       "      <td>2</td>\n",
       "    </tr>\n",
       "    <tr>\n",
       "      <th>3</th>\n",
       "      <td>2</td>\n",
       "    </tr>\n",
       "    <tr>\n",
       "      <th>4</th>\n",
       "      <td>1</td>\n",
       "    </tr>\n",
       "    <tr>\n",
       "      <th>...</th>\n",
       "      <td>...</td>\n",
       "    </tr>\n",
       "    <tr>\n",
       "      <th>8038</th>\n",
       "      <td>1</td>\n",
       "    </tr>\n",
       "    <tr>\n",
       "      <th>8039</th>\n",
       "      <td>1</td>\n",
       "    </tr>\n",
       "    <tr>\n",
       "      <th>8040</th>\n",
       "      <td>1</td>\n",
       "    </tr>\n",
       "    <tr>\n",
       "      <th>8041</th>\n",
       "      <td>2</td>\n",
       "    </tr>\n",
       "    <tr>\n",
       "      <th>8042</th>\n",
       "      <td>2</td>\n",
       "    </tr>\n",
       "  </tbody>\n",
       "</table>\n",
       "<p>7682 rows × 1 columns</p>\n",
       "</div>"
      ],
      "text/plain": [
       "      V4399\n",
       "0         2\n",
       "1         2\n",
       "2         2\n",
       "3         2\n",
       "4         1\n",
       "...     ...\n",
       "8038      1\n",
       "8039      1\n",
       "8040      1\n",
       "8041      2\n",
       "8042      2\n",
       "\n",
       "[7682 rows x 1 columns]"
      ]
     },
     "execution_count": 43,
     "metadata": {},
     "output_type": "execute_result"
    }
   ],
   "source": [
    "target"
   ]
  },
  {
   "cell_type": "code",
   "execution_count": 44,
   "id": "aa9fdd87-b4b6-4a39-a8f1-18bbcd243340",
   "metadata": {
    "tags": []
   },
   "outputs": [
    {
     "name": "stdout",
     "output_type": "stream",
     "text": [
      "      V4399\n",
      "2318      1\n",
      "2774      1\n",
      "6308      2\n",
      "5452      2\n",
      "6379      2\n",
      "...     ...\n",
      "2260      1\n",
      "1263      2\n",
      "5935      2\n",
      "3115      2\n",
      "4937      2\n",
      "\n",
      "[1537 rows x 1 columns]\n"
     ]
    }
   ],
   "source": [
    "#splitting data to train and test splits\n",
    "X_train, X_test, y_train, y_test = train_test_split(scaled_inputs, target, test_size=0.2, random_state=42)\n",
    "X_train\n",
    "print(y_test)"
   ]
  },
  {
   "cell_type": "code",
   "execution_count": 45,
   "id": "7704398a-ebac-4fd6-8597-95a82af801ac",
   "metadata": {
    "tags": []
   },
   "outputs": [
    {
     "name": "stderr",
     "output_type": "stream",
     "text": [
      "/opt/pub/eb/apps/all/DavidsonJupyter/2021-common-GCCcore-10.2.0/lib/python3.8/site-packages/sklearn/utils/validation.py:1111: DataConversionWarning: A column-vector y was passed when a 1d array was expected. Please change the shape of y to (n_samples, ), for example using ravel().\n",
      "  y = column_or_1d(y, warn=True)\n"
     ]
    }
   ],
   "source": [
    "#training a logistic regression model\n",
    "clf = LogisticRegression(random_state=0).fit(X_train, y_train)"
   ]
  },
  {
   "cell_type": "code",
   "execution_count": 46,
   "id": "9a908f76-e554-4e7a-add0-dfca28b5070f",
   "metadata": {},
   "outputs": [
    {
     "data": {
      "text/plain": [
       "0.6584255042290176"
      ]
     },
     "execution_count": 46,
     "metadata": {},
     "output_type": "execute_result"
    }
   ],
   "source": [
    "clf.score(X_test,y_test)\n"
   ]
  },
  {
   "cell_type": "code",
   "execution_count": 31,
   "id": "c1b428fb-3608-4fd5-8d7c-902727a79548",
   "metadata": {},
   "outputs": [],
   "source": [
    "#test score for variales without 8 and 9\n",
    "#0.638"
   ]
  },
  {
   "cell_type": "code",
   "execution_count": 47,
   "id": "76d3e0e8-3ef0-4dbd-849e-16ed568e11ba",
   "metadata": {
    "tags": []
   },
   "outputs": [
    {
     "name": "stdout",
     "output_type": "stream",
     "text": [
      "[2 2 2 ... 2 2 2]\n",
      "      V4399\n",
      "2318      1\n",
      "2774      1\n",
      "6308      2\n",
      "5452      2\n",
      "6379      2\n",
      "...     ...\n",
      "2260      1\n",
      "1263      2\n",
      "5935      2\n",
      "3115      2\n",
      "4937      2\n",
      "\n",
      "[1537 rows x 1 columns]\n"
     ]
    }
   ],
   "source": [
    "predictions = clf.predict(X_test)\n",
    "print(predictions)\n",
    "print(y_test)"
   ]
  },
  {
   "cell_type": "code",
   "execution_count": 48,
   "id": "35f6be2e-045f-4af1-abfe-d25e904f5393",
   "metadata": {},
   "outputs": [
    {
     "data": {
      "text/plain": [
       "0.6336859235150529"
      ]
     },
     "execution_count": 48,
     "metadata": {},
     "output_type": "execute_result"
    }
   ],
   "source": [
    "clf.score(X_train,y_train)"
   ]
  },
  {
   "cell_type": "code",
   "execution_count": 65,
   "id": "5d3b47d6-5fba-43a7-8d6e-a637816e39bf",
   "metadata": {},
   "outputs": [
    {
     "name": "stderr",
     "output_type": "stream",
     "text": [
      "/tmp/ipykernel_1395524/2893479115.py:3: DataConversionWarning: A column-vector y was passed when a 1d array was expected. Please change the shape of y to (n_samples,), for example using ravel().\n",
      "  rmf.fit(X_train, y_train)\n"
     ]
    },
    {
     "data": {
      "text/html": [
       "<style>#sk-container-id-6 {color: black;background-color: white;}#sk-container-id-6 pre{padding: 0;}#sk-container-id-6 div.sk-toggleable {background-color: white;}#sk-container-id-6 label.sk-toggleable__label {cursor: pointer;display: block;width: 100%;margin-bottom: 0;padding: 0.3em;box-sizing: border-box;text-align: center;}#sk-container-id-6 label.sk-toggleable__label-arrow:before {content: \"▸\";float: left;margin-right: 0.25em;color: #696969;}#sk-container-id-6 label.sk-toggleable__label-arrow:hover:before {color: black;}#sk-container-id-6 div.sk-estimator:hover label.sk-toggleable__label-arrow:before {color: black;}#sk-container-id-6 div.sk-toggleable__content {max-height: 0;max-width: 0;overflow: hidden;text-align: left;background-color: #f0f8ff;}#sk-container-id-6 div.sk-toggleable__content pre {margin: 0.2em;color: black;border-radius: 0.25em;background-color: #f0f8ff;}#sk-container-id-6 input.sk-toggleable__control:checked~div.sk-toggleable__content {max-height: 200px;max-width: 100%;overflow: auto;}#sk-container-id-6 input.sk-toggleable__control:checked~label.sk-toggleable__label-arrow:before {content: \"▾\";}#sk-container-id-6 div.sk-estimator input.sk-toggleable__control:checked~label.sk-toggleable__label {background-color: #d4ebff;}#sk-container-id-6 div.sk-label input.sk-toggleable__control:checked~label.sk-toggleable__label {background-color: #d4ebff;}#sk-container-id-6 input.sk-hidden--visually {border: 0;clip: rect(1px 1px 1px 1px);clip: rect(1px, 1px, 1px, 1px);height: 1px;margin: -1px;overflow: hidden;padding: 0;position: absolute;width: 1px;}#sk-container-id-6 div.sk-estimator {font-family: monospace;background-color: #f0f8ff;border: 1px dotted black;border-radius: 0.25em;box-sizing: border-box;margin-bottom: 0.5em;}#sk-container-id-6 div.sk-estimator:hover {background-color: #d4ebff;}#sk-container-id-6 div.sk-parallel-item::after {content: \"\";width: 100%;border-bottom: 1px solid gray;flex-grow: 1;}#sk-container-id-6 div.sk-label:hover label.sk-toggleable__label {background-color: #d4ebff;}#sk-container-id-6 div.sk-serial::before {content: \"\";position: absolute;border-left: 1px solid gray;box-sizing: border-box;top: 0;bottom: 0;left: 50%;z-index: 0;}#sk-container-id-6 div.sk-serial {display: flex;flex-direction: column;align-items: center;background-color: white;padding-right: 0.2em;padding-left: 0.2em;position: relative;}#sk-container-id-6 div.sk-item {position: relative;z-index: 1;}#sk-container-id-6 div.sk-parallel {display: flex;align-items: stretch;justify-content: center;background-color: white;position: relative;}#sk-container-id-6 div.sk-item::before, #sk-container-id-6 div.sk-parallel-item::before {content: \"\";position: absolute;border-left: 1px solid gray;box-sizing: border-box;top: 0;bottom: 0;left: 50%;z-index: -1;}#sk-container-id-6 div.sk-parallel-item {display: flex;flex-direction: column;z-index: 1;position: relative;background-color: white;}#sk-container-id-6 div.sk-parallel-item:first-child::after {align-self: flex-end;width: 50%;}#sk-container-id-6 div.sk-parallel-item:last-child::after {align-self: flex-start;width: 50%;}#sk-container-id-6 div.sk-parallel-item:only-child::after {width: 0;}#sk-container-id-6 div.sk-dashed-wrapped {border: 1px dashed gray;margin: 0 0.4em 0.5em 0.4em;box-sizing: border-box;padding-bottom: 0.4em;background-color: white;}#sk-container-id-6 div.sk-label label {font-family: monospace;font-weight: bold;display: inline-block;line-height: 1.2em;}#sk-container-id-6 div.sk-label-container {text-align: center;}#sk-container-id-6 div.sk-container {/* jupyter's `normalize.less` sets `[hidden] { display: none; }` but bootstrap.min.css set `[hidden] { display: none !important; }` so we also need the `!important` here to be able to override the default hidden behavior on the sphinx rendered scikit-learn.org. See: https://github.com/scikit-learn/scikit-learn/issues/21755 */display: inline-block !important;position: relative;}#sk-container-id-6 div.sk-text-repr-fallback {display: none;}</style><div id=\"sk-container-id-6\" class=\"sk-top-container\"><div class=\"sk-text-repr-fallback\"><pre>RandomForestClassifier(criterion=&#x27;entropy&#x27;, n_estimators=10, random_state=0)</pre><b>In a Jupyter environment, please rerun this cell to show the HTML representation or trust the notebook. <br />On GitHub, the HTML representation is unable to render, please try loading this page with nbviewer.org.</b></div><div class=\"sk-container\" hidden><div class=\"sk-item\"><div class=\"sk-estimator sk-toggleable\"><input class=\"sk-toggleable__control sk-hidden--visually\" id=\"sk-estimator-id-6\" type=\"checkbox\" checked><label for=\"sk-estimator-id-6\" class=\"sk-toggleable__label sk-toggleable__label-arrow\">RandomForestClassifier</label><div class=\"sk-toggleable__content\"><pre>RandomForestClassifier(criterion=&#x27;entropy&#x27;, n_estimators=10, random_state=0)</pre></div></div></div></div></div>"
      ],
      "text/plain": [
       "RandomForestClassifier(criterion='entropy', n_estimators=10, random_state=0)"
      ]
     },
     "execution_count": 65,
     "metadata": {},
     "output_type": "execute_result"
    }
   ],
   "source": [
    "#Random Forest\n",
    "rmf = RandomForestClassifier(n_estimators=10, random_state=0,criterion=\"entropy\")\n",
    "rmf.fit(X_train, y_train)\n"
   ]
  },
  {
   "cell_type": "code",
   "execution_count": 66,
   "id": "56472837-3f40-4d88-a834-f679365585e1",
   "metadata": {},
   "outputs": [],
   "source": [
    "pred =rmf.predict(X_test)\n"
   ]
  },
  {
   "cell_type": "code",
   "execution_count": 67,
   "id": "8928dc16-78d6-44c8-b6fc-98918d5f8909",
   "metadata": {},
   "outputs": [
    {
     "data": {
      "text/plain": [
       "0.6336859235150529"
      ]
     },
     "execution_count": 67,
     "metadata": {},
     "output_type": "execute_result"
    }
   ],
   "source": [
    "rmf.score(X_train,y_train)"
   ]
  },
  {
   "cell_type": "code",
   "execution_count": 68,
   "id": "a3dba5fe-96e2-466f-9a0f-2819824d0065",
   "metadata": {},
   "outputs": [
    {
     "data": {
      "text/plain": [
       "0.6584255042290176"
      ]
     },
     "execution_count": 68,
     "metadata": {},
     "output_type": "execute_result"
    }
   ],
   "source": [
    "rmf.score(X_test,y_test)"
   ]
  },
  {
   "cell_type": "code",
   "execution_count": 80,
   "id": "c1899850-018b-487d-9f0e-126ff7a40ca3",
   "metadata": {},
   "outputs": [
    {
     "name": "stderr",
     "output_type": "stream",
     "text": [
      "/opt/pub/eb/apps/all/DavidsonJupyter/2021-common-GCCcore-10.2.0/lib/python3.8/site-packages/sklearn/neighbors/_classification.py:200: DataConversionWarning: A column-vector y was passed when a 1d array was expected. Please change the shape of y to (n_samples,), for example using ravel().\n",
      "  return self._fit(X, y)\n"
     ]
    },
    {
     "data": {
      "text/html": [
       "<style>#sk-container-id-9 {color: black;background-color: white;}#sk-container-id-9 pre{padding: 0;}#sk-container-id-9 div.sk-toggleable {background-color: white;}#sk-container-id-9 label.sk-toggleable__label {cursor: pointer;display: block;width: 100%;margin-bottom: 0;padding: 0.3em;box-sizing: border-box;text-align: center;}#sk-container-id-9 label.sk-toggleable__label-arrow:before {content: \"▸\";float: left;margin-right: 0.25em;color: #696969;}#sk-container-id-9 label.sk-toggleable__label-arrow:hover:before {color: black;}#sk-container-id-9 div.sk-estimator:hover label.sk-toggleable__label-arrow:before {color: black;}#sk-container-id-9 div.sk-toggleable__content {max-height: 0;max-width: 0;overflow: hidden;text-align: left;background-color: #f0f8ff;}#sk-container-id-9 div.sk-toggleable__content pre {margin: 0.2em;color: black;border-radius: 0.25em;background-color: #f0f8ff;}#sk-container-id-9 input.sk-toggleable__control:checked~div.sk-toggleable__content {max-height: 200px;max-width: 100%;overflow: auto;}#sk-container-id-9 input.sk-toggleable__control:checked~label.sk-toggleable__label-arrow:before {content: \"▾\";}#sk-container-id-9 div.sk-estimator input.sk-toggleable__control:checked~label.sk-toggleable__label {background-color: #d4ebff;}#sk-container-id-9 div.sk-label input.sk-toggleable__control:checked~label.sk-toggleable__label {background-color: #d4ebff;}#sk-container-id-9 input.sk-hidden--visually {border: 0;clip: rect(1px 1px 1px 1px);clip: rect(1px, 1px, 1px, 1px);height: 1px;margin: -1px;overflow: hidden;padding: 0;position: absolute;width: 1px;}#sk-container-id-9 div.sk-estimator {font-family: monospace;background-color: #f0f8ff;border: 1px dotted black;border-radius: 0.25em;box-sizing: border-box;margin-bottom: 0.5em;}#sk-container-id-9 div.sk-estimator:hover {background-color: #d4ebff;}#sk-container-id-9 div.sk-parallel-item::after {content: \"\";width: 100%;border-bottom: 1px solid gray;flex-grow: 1;}#sk-container-id-9 div.sk-label:hover label.sk-toggleable__label {background-color: #d4ebff;}#sk-container-id-9 div.sk-serial::before {content: \"\";position: absolute;border-left: 1px solid gray;box-sizing: border-box;top: 0;bottom: 0;left: 50%;z-index: 0;}#sk-container-id-9 div.sk-serial {display: flex;flex-direction: column;align-items: center;background-color: white;padding-right: 0.2em;padding-left: 0.2em;position: relative;}#sk-container-id-9 div.sk-item {position: relative;z-index: 1;}#sk-container-id-9 div.sk-parallel {display: flex;align-items: stretch;justify-content: center;background-color: white;position: relative;}#sk-container-id-9 div.sk-item::before, #sk-container-id-9 div.sk-parallel-item::before {content: \"\";position: absolute;border-left: 1px solid gray;box-sizing: border-box;top: 0;bottom: 0;left: 50%;z-index: -1;}#sk-container-id-9 div.sk-parallel-item {display: flex;flex-direction: column;z-index: 1;position: relative;background-color: white;}#sk-container-id-9 div.sk-parallel-item:first-child::after {align-self: flex-end;width: 50%;}#sk-container-id-9 div.sk-parallel-item:last-child::after {align-self: flex-start;width: 50%;}#sk-container-id-9 div.sk-parallel-item:only-child::after {width: 0;}#sk-container-id-9 div.sk-dashed-wrapped {border: 1px dashed gray;margin: 0 0.4em 0.5em 0.4em;box-sizing: border-box;padding-bottom: 0.4em;background-color: white;}#sk-container-id-9 div.sk-label label {font-family: monospace;font-weight: bold;display: inline-block;line-height: 1.2em;}#sk-container-id-9 div.sk-label-container {text-align: center;}#sk-container-id-9 div.sk-container {/* jupyter's `normalize.less` sets `[hidden] { display: none; }` but bootstrap.min.css set `[hidden] { display: none !important; }` so we also need the `!important` here to be able to override the default hidden behavior on the sphinx rendered scikit-learn.org. See: https://github.com/scikit-learn/scikit-learn/issues/21755 */display: inline-block !important;position: relative;}#sk-container-id-9 div.sk-text-repr-fallback {display: none;}</style><div id=\"sk-container-id-9\" class=\"sk-top-container\"><div class=\"sk-text-repr-fallback\"><pre>KNeighborsClassifier(n_neighbors=3)</pre><b>In a Jupyter environment, please rerun this cell to show the HTML representation or trust the notebook. <br />On GitHub, the HTML representation is unable to render, please try loading this page with nbviewer.org.</b></div><div class=\"sk-container\" hidden><div class=\"sk-item\"><div class=\"sk-estimator sk-toggleable\"><input class=\"sk-toggleable__control sk-hidden--visually\" id=\"sk-estimator-id-9\" type=\"checkbox\" checked><label for=\"sk-estimator-id-9\" class=\"sk-toggleable__label sk-toggleable__label-arrow\">KNeighborsClassifier</label><div class=\"sk-toggleable__content\"><pre>KNeighborsClassifier(n_neighbors=3)</pre></div></div></div></div></div>"
      ],
      "text/plain": [
       "KNeighborsClassifier(n_neighbors=3)"
      ]
     },
     "execution_count": 80,
     "metadata": {},
     "output_type": "execute_result"
    }
   ],
   "source": [
    "neigh = KNeighborsClassifier(n_neighbors=3)\n",
    "neigh.fit(X_train,y_train)\n"
   ]
  },
  {
   "cell_type": "code",
   "execution_count": 81,
   "id": "40895641-6d15-476c-b0f0-50973ff3200f",
   "metadata": {},
   "outputs": [
    {
     "data": {
      "text/html": [
       "<style>#sk-container-id-10 {color: black;background-color: white;}#sk-container-id-10 pre{padding: 0;}#sk-container-id-10 div.sk-toggleable {background-color: white;}#sk-container-id-10 label.sk-toggleable__label {cursor: pointer;display: block;width: 100%;margin-bottom: 0;padding: 0.3em;box-sizing: border-box;text-align: center;}#sk-container-id-10 label.sk-toggleable__label-arrow:before {content: \"▸\";float: left;margin-right: 0.25em;color: #696969;}#sk-container-id-10 label.sk-toggleable__label-arrow:hover:before {color: black;}#sk-container-id-10 div.sk-estimator:hover label.sk-toggleable__label-arrow:before {color: black;}#sk-container-id-10 div.sk-toggleable__content {max-height: 0;max-width: 0;overflow: hidden;text-align: left;background-color: #f0f8ff;}#sk-container-id-10 div.sk-toggleable__content pre {margin: 0.2em;color: black;border-radius: 0.25em;background-color: #f0f8ff;}#sk-container-id-10 input.sk-toggleable__control:checked~div.sk-toggleable__content {max-height: 200px;max-width: 100%;overflow: auto;}#sk-container-id-10 input.sk-toggleable__control:checked~label.sk-toggleable__label-arrow:before {content: \"▾\";}#sk-container-id-10 div.sk-estimator input.sk-toggleable__control:checked~label.sk-toggleable__label {background-color: #d4ebff;}#sk-container-id-10 div.sk-label input.sk-toggleable__control:checked~label.sk-toggleable__label {background-color: #d4ebff;}#sk-container-id-10 input.sk-hidden--visually {border: 0;clip: rect(1px 1px 1px 1px);clip: rect(1px, 1px, 1px, 1px);height: 1px;margin: -1px;overflow: hidden;padding: 0;position: absolute;width: 1px;}#sk-container-id-10 div.sk-estimator {font-family: monospace;background-color: #f0f8ff;border: 1px dotted black;border-radius: 0.25em;box-sizing: border-box;margin-bottom: 0.5em;}#sk-container-id-10 div.sk-estimator:hover {background-color: #d4ebff;}#sk-container-id-10 div.sk-parallel-item::after {content: \"\";width: 100%;border-bottom: 1px solid gray;flex-grow: 1;}#sk-container-id-10 div.sk-label:hover label.sk-toggleable__label {background-color: #d4ebff;}#sk-container-id-10 div.sk-serial::before {content: \"\";position: absolute;border-left: 1px solid gray;box-sizing: border-box;top: 0;bottom: 0;left: 50%;z-index: 0;}#sk-container-id-10 div.sk-serial {display: flex;flex-direction: column;align-items: center;background-color: white;padding-right: 0.2em;padding-left: 0.2em;position: relative;}#sk-container-id-10 div.sk-item {position: relative;z-index: 1;}#sk-container-id-10 div.sk-parallel {display: flex;align-items: stretch;justify-content: center;background-color: white;position: relative;}#sk-container-id-10 div.sk-item::before, #sk-container-id-10 div.sk-parallel-item::before {content: \"\";position: absolute;border-left: 1px solid gray;box-sizing: border-box;top: 0;bottom: 0;left: 50%;z-index: -1;}#sk-container-id-10 div.sk-parallel-item {display: flex;flex-direction: column;z-index: 1;position: relative;background-color: white;}#sk-container-id-10 div.sk-parallel-item:first-child::after {align-self: flex-end;width: 50%;}#sk-container-id-10 div.sk-parallel-item:last-child::after {align-self: flex-start;width: 50%;}#sk-container-id-10 div.sk-parallel-item:only-child::after {width: 0;}#sk-container-id-10 div.sk-dashed-wrapped {border: 1px dashed gray;margin: 0 0.4em 0.5em 0.4em;box-sizing: border-box;padding-bottom: 0.4em;background-color: white;}#sk-container-id-10 div.sk-label label {font-family: monospace;font-weight: bold;display: inline-block;line-height: 1.2em;}#sk-container-id-10 div.sk-label-container {text-align: center;}#sk-container-id-10 div.sk-container {/* jupyter's `normalize.less` sets `[hidden] { display: none; }` but bootstrap.min.css set `[hidden] { display: none !important; }` so we also need the `!important` here to be able to override the default hidden behavior on the sphinx rendered scikit-learn.org. See: https://github.com/scikit-learn/scikit-learn/issues/21755 */display: inline-block !important;position: relative;}#sk-container-id-10 div.sk-text-repr-fallback {display: none;}</style><div id=\"sk-container-id-10\" class=\"sk-top-container\"><div class=\"sk-text-repr-fallback\"><pre>KNeighborsClassifier(n_neighbors=3)</pre><b>In a Jupyter environment, please rerun this cell to show the HTML representation or trust the notebook. <br />On GitHub, the HTML representation is unable to render, please try loading this page with nbviewer.org.</b></div><div class=\"sk-container\" hidden><div class=\"sk-item\"><div class=\"sk-estimator sk-toggleable\"><input class=\"sk-toggleable__control sk-hidden--visually\" id=\"sk-estimator-id-10\" type=\"checkbox\" checked><label for=\"sk-estimator-id-10\" class=\"sk-toggleable__label sk-toggleable__label-arrow\">KNeighborsClassifier</label><div class=\"sk-toggleable__content\"><pre>KNeighborsClassifier(n_neighbors=3)</pre></div></div></div></div></div>"
      ],
      "text/plain": [
       "KNeighborsClassifier(n_neighbors=3)"
      ]
     },
     "execution_count": 81,
     "metadata": {},
     "output_type": "execute_result"
    }
   ],
   "source": [
    "neigh"
   ]
  },
  {
   "cell_type": "code",
   "execution_count": 82,
   "id": "876ce250-fc40-4d4c-85e8-361ee8a1b73b",
   "metadata": {},
   "outputs": [
    {
     "name": "stdout",
     "output_type": "stream",
     "text": [
      "[2 2 2 ... 2 2 2]\n"
     ]
    }
   ],
   "source": [
    "print(neigh.predict(X_test))"
   ]
  },
  {
   "cell_type": "code",
   "execution_count": 83,
   "id": "511b74a4-27dc-431a-8e07-3122f28cb741",
   "metadata": {},
   "outputs": [
    {
     "data": {
      "text/plain": [
       "0.6257119609438568"
      ]
     },
     "execution_count": 83,
     "metadata": {},
     "output_type": "execute_result"
    }
   ],
   "source": [
    "neigh.score(X_train,y_train)"
   ]
  },
  {
   "cell_type": "code",
   "execution_count": 85,
   "id": "f95abdab-5280-4409-8520-aa5577fbe4eb",
   "metadata": {},
   "outputs": [
    {
     "data": {
      "text/plain": [
       "0.6545217957059206"
      ]
     },
     "execution_count": 85,
     "metadata": {},
     "output_type": "execute_result"
    }
   ],
   "source": [
    "neigh.score(X_test,y_test)"
   ]
  },
  {
   "cell_type": "code",
   "execution_count": 38,
   "id": "7193cab4-ae33-4750-b867-da17ee712cb1",
   "metadata": {},
   "outputs": [
    {
     "name": "stdout",
     "output_type": "stream",
     "text": [
      "9    6004\n",
      "2    1047\n",
      "1     618\n",
      "3      28\n",
      "8      17\n",
      "Name: V4025, dtype: int64\n"
     ]
    }
   ],
   "source": [
    "#OFFENDER INFOMATION---MORE SPECIFIC TYPES OF CRIMES--REVISIT\n",
    "print(df[\"V4025\"].value_counts())"
   ]
  },
  {
   "cell_type": "code",
   "execution_count": 39,
   "id": "7e56a5c0-b4ba-49a4-bed6-06a97e528bd5",
   "metadata": {},
   "outputs": [
    {
     "name": "stdout",
     "output_type": "stream",
     "text": [
      "9    5428\n",
      "2    1567\n",
      "3     381\n",
      "1     338\n",
      "Name: V4049, dtype: int64\n"
     ]
    }
   ],
   "source": [
    "#MEANS OF ATTACK--REVISIT\n",
    "print(df[\"V4049\"].value_counts())"
   ]
  },
  {
   "cell_type": "code",
   "execution_count": 40,
   "id": "ab7b2625-8d94-4d6c-9191-4ca3add75c30",
   "metadata": {},
   "outputs": [
    {
     "name": "stdout",
     "output_type": "stream",
     "text": [
      "9    7651\n",
      "1      60\n",
      "8       3\n",
      "Name: V4512, dtype: int64\n"
     ]
    }
   ],
   "source": [
    "#offender relationship, revisit\n",
    "print(df[\"V4512\"].value_counts())"
   ]
  },
  {
   "cell_type": "code",
   "execution_count": 41,
   "id": "04a575ff-52f8-4ffc-9ca9-8253d76abb65",
   "metadata": {},
   "outputs": [
    {
     "name": "stdout",
     "output_type": "stream",
     "text": [
      "3    6570\n",
      "4    1036\n",
      "2      40\n",
      "5      36\n",
      "Name: V4022, dtype: int64\n"
     ]
    }
   ],
   "source": [
    "#IN WHAT CITY, TOWN, VILLAGE\n",
    "df = df.loc[df[\"V4022\"] != 1]\n",
    "print(df[\"V4022\"].value_counts())"
   ]
  },
  {
   "cell_type": "code",
   "execution_count": null,
   "id": "62282ba5-b2b0-4ece-8e8f-217c20e5f66b",
   "metadata": {},
   "outputs": [],
   "source": []
  }
 ],
 "metadata": {
  "kernelspec": {
   "display_name": "Python 3.8",
   "language": "python",
   "name": "python3"
  },
  "language_info": {
   "codemirror_mode": {
    "name": "ipython",
    "version": 3
   },
   "file_extension": ".py",
   "mimetype": "text/x-python",
   "name": "python",
   "nbconvert_exporter": "python",
   "pygments_lexer": "ipython3",
   "version": "3.8.6"
  }
 },
 "nbformat": 4,
 "nbformat_minor": 5
}
