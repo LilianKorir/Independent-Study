{
 "cells": [
  {
   "cell_type": "code",
   "execution_count": 1,
   "id": "3e242a23-df61-455a-9a50-e3618f5ee579",
   "metadata": {},
   "outputs": [],
   "source": [
    "import pandas as pd\n",
    "import pandas as pd\n",
    "import numpy as np\n",
    "from sklearn.model_selection import train_test_split\n",
    "from sklearn.linear_model import LogisticRegression\n",
    "\n",
    "from sklearn import preprocessing\n",
    "from sklearn.ensemble import RandomForestClassifier\n",
    "from sklearn.datasets import make_classification\n",
    "from sklearn.neighbors import NearestNeighbors\n",
    "from sklearn.neighbors import KNeighborsClassifier\n",
    "\n",
    "# Load NCVS data into a pandas dataframe\n",
    "df = pd.read_table('38090-0005-Data.tsv')\n",
    "\n"
   ]
  },
  {
   "cell_type": "code",
   "execution_count": 2,
   "id": "97ae0e4a-608b-47a4-8b8d-e289f2462c99",
   "metadata": {},
   "outputs": [],
   "source": [
    "for index, row in df.iterrows():\n",
    "    #Assault\n",
    "    if (row[\"V4529\"] == 11 or row[\"V4529\"] == 12 or row[\"V4529\"] == 13 or row[\"V4529\"] == 14 or row[\"V4529\"] == 17 or row[\"V4529\"] == 20):\n",
    "        df.at[index,\"V4529\"] = 3\n"
   ]
  },
  {
   "cell_type": "code",
   "execution_count": 3,
   "id": "46f34d10-e66c-424e-8f35-829acd5f4f2c",
   "metadata": {
    "tags": []
   },
   "outputs": [
    {
     "name": "stdout",
     "output_type": "stream",
     "text": [
      "56    1524\n",
      "3     1358\n",
      "57    1244\n",
      "55     991\n",
      "58     635\n",
      "32     542\n",
      "54     422\n",
      "59     352\n",
      "31     247\n",
      "40     213\n",
      "33     180\n",
      "41      63\n",
      "7       48\n",
      "1       44\n",
      "10      34\n",
      "15      23\n",
      "5       23\n",
      "23      22\n",
      "6       21\n",
      "2       18\n",
      "9       10\n",
      "18       9\n",
      "19       6\n",
      "8        6\n",
      "4        2\n",
      "16       2\n",
      "22       2\n",
      "21       2\n",
      "Name: V4529, dtype: int64\n"
     ]
    }
   ],
   "source": [
    "\n",
    "print(df[\"V4529\"].value_counts())"
   ]
  },
  {
   "cell_type": "code",
   "execution_count": 4,
   "id": "37545dc0-dbfd-47eb-8a7c-3047920ecaa8",
   "metadata": {},
   "outputs": [
    {
     "data": {
      "text/html": [
       "<div>\n",
       "<style scoped>\n",
       "    .dataframe tbody tr th:only-of-type {\n",
       "        vertical-align: middle;\n",
       "    }\n",
       "\n",
       "    .dataframe tbody tr th {\n",
       "        vertical-align: top;\n",
       "    }\n",
       "\n",
       "    .dataframe thead th {\n",
       "        text-align: right;\n",
       "    }\n",
       "</style>\n",
       "<table border=\"1\" class=\"dataframe\">\n",
       "  <thead>\n",
       "    <tr style=\"text-align: right;\">\n",
       "      <th></th>\n",
       "      <th>V2001</th>\n",
       "      <th>YEARQ</th>\n",
       "      <th>IDHH</th>\n",
       "      <th>IDPER</th>\n",
       "      <th>V2002</th>\n",
       "      <th>V2003</th>\n",
       "      <th>V2004</th>\n",
       "      <th>V2005</th>\n",
       "      <th>V2006</th>\n",
       "      <th>V2008</th>\n",
       "      <th>...</th>\n",
       "      <th>VICREPWGT151</th>\n",
       "      <th>VICREPWGT152</th>\n",
       "      <th>VICREPWGT153</th>\n",
       "      <th>VICREPWGT154</th>\n",
       "      <th>VICREPWGT155</th>\n",
       "      <th>VICREPWGT156</th>\n",
       "      <th>VICREPWGT157</th>\n",
       "      <th>VICREPWGT158</th>\n",
       "      <th>VICREPWGT159</th>\n",
       "      <th>VICREPWGT160</th>\n",
       "    </tr>\n",
       "  </thead>\n",
       "  <tbody>\n",
       "    <tr>\n",
       "      <th>7</th>\n",
       "      <td>2</td>\n",
       "      <td>2020.1</td>\n",
       "      <td>1602073992355333564544321</td>\n",
       "      <td>160207399235533356454432101</td>\n",
       "      <td>8</td>\n",
       "      <td>201</td>\n",
       "      <td>16</td>\n",
       "      <td>02073992355333564544</td>\n",
       "      <td>3</td>\n",
       "      <td>21</td>\n",
       "      <td>...</td>\n",
       "      <td>401.61681</td>\n",
       "      <td>2528.89547</td>\n",
       "      <td>2434.93769</td>\n",
       "      <td>1419.86393</td>\n",
       "      <td>1523.06432</td>\n",
       "      <td>460.96821</td>\n",
       "      <td>1548.28375</td>\n",
       "      <td>1510.67039</td>\n",
       "      <td>1437.07934</td>\n",
       "      <td>1365.19375</td>\n",
       "    </tr>\n",
       "    <tr>\n",
       "      <th>8</th>\n",
       "      <td>2</td>\n",
       "      <td>2020.1</td>\n",
       "      <td>1602073992355333564544321</td>\n",
       "      <td>160207399235533356454432101</td>\n",
       "      <td>8</td>\n",
       "      <td>201</td>\n",
       "      <td>16</td>\n",
       "      <td>02073992355333564544</td>\n",
       "      <td>3</td>\n",
       "      <td>21</td>\n",
       "      <td>...</td>\n",
       "      <td>401.61681</td>\n",
       "      <td>2528.89547</td>\n",
       "      <td>2434.93769</td>\n",
       "      <td>1419.86393</td>\n",
       "      <td>1523.06432</td>\n",
       "      <td>460.96821</td>\n",
       "      <td>1548.28375</td>\n",
       "      <td>1510.67039</td>\n",
       "      <td>1437.07934</td>\n",
       "      <td>1365.19375</td>\n",
       "    </tr>\n",
       "    <tr>\n",
       "      <th>9</th>\n",
       "      <td>2</td>\n",
       "      <td>2020.1</td>\n",
       "      <td>1602073992355333564544321</td>\n",
       "      <td>160207399235533356454432101</td>\n",
       "      <td>8</td>\n",
       "      <td>201</td>\n",
       "      <td>16</td>\n",
       "      <td>02073992355333564544</td>\n",
       "      <td>3</td>\n",
       "      <td>21</td>\n",
       "      <td>...</td>\n",
       "      <td>401.61681</td>\n",
       "      <td>2528.89547</td>\n",
       "      <td>2434.93769</td>\n",
       "      <td>1419.86393</td>\n",
       "      <td>1523.06432</td>\n",
       "      <td>460.96821</td>\n",
       "      <td>1548.28375</td>\n",
       "      <td>1510.67039</td>\n",
       "      <td>1437.07934</td>\n",
       "      <td>1365.19375</td>\n",
       "    </tr>\n",
       "    <tr>\n",
       "      <th>10</th>\n",
       "      <td>2</td>\n",
       "      <td>2020.1</td>\n",
       "      <td>1602073992355333564544321</td>\n",
       "      <td>160207399235533356454432101</td>\n",
       "      <td>8</td>\n",
       "      <td>201</td>\n",
       "      <td>16</td>\n",
       "      <td>02073992355333564544</td>\n",
       "      <td>3</td>\n",
       "      <td>21</td>\n",
       "      <td>...</td>\n",
       "      <td>401.61681</td>\n",
       "      <td>2528.89547</td>\n",
       "      <td>2434.93769</td>\n",
       "      <td>1419.86393</td>\n",
       "      <td>1523.06432</td>\n",
       "      <td>460.96821</td>\n",
       "      <td>1548.28375</td>\n",
       "      <td>1510.67039</td>\n",
       "      <td>1437.07934</td>\n",
       "      <td>1365.19375</td>\n",
       "    </tr>\n",
       "    <tr>\n",
       "      <th>13</th>\n",
       "      <td>2</td>\n",
       "      <td>2020.1</td>\n",
       "      <td>1602091992688989565949137</td>\n",
       "      <td>160209199268898956594913701</td>\n",
       "      <td>8</td>\n",
       "      <td>201</td>\n",
       "      <td>16</td>\n",
       "      <td>02091992688989565949</td>\n",
       "      <td>1</td>\n",
       "      <td>37</td>\n",
       "      <td>...</td>\n",
       "      <td>501.42554</td>\n",
       "      <td>3257.86903</td>\n",
       "      <td>452.83591</td>\n",
       "      <td>1743.29210</td>\n",
       "      <td>579.87993</td>\n",
       "      <td>432.09296</td>\n",
       "      <td>1585.19116</td>\n",
       "      <td>1971.74981</td>\n",
       "      <td>1911.35400</td>\n",
       "      <td>1546.80260</td>\n",
       "    </tr>\n",
       "    <tr>\n",
       "      <th>...</th>\n",
       "      <td>...</td>\n",
       "      <td>...</td>\n",
       "      <td>...</td>\n",
       "      <td>...</td>\n",
       "      <td>...</td>\n",
       "      <td>...</td>\n",
       "      <td>...</td>\n",
       "      <td>...</td>\n",
       "      <td>...</td>\n",
       "      <td>...</td>\n",
       "      <td>...</td>\n",
       "      <td>...</td>\n",
       "      <td>...</td>\n",
       "      <td>...</td>\n",
       "      <td>...</td>\n",
       "      <td>...</td>\n",
       "      <td>...</td>\n",
       "      <td>...</td>\n",
       "      <td>...</td>\n",
       "      <td>...</td>\n",
       "      <td>...</td>\n",
       "    </tr>\n",
       "    <tr>\n",
       "      <th>8036</th>\n",
       "      <td>2</td>\n",
       "      <td>2020.4</td>\n",
       "      <td>1998941684460892565945147</td>\n",
       "      <td>199894168446089256594514703</td>\n",
       "      <td>3</td>\n",
       "      <td>204</td>\n",
       "      <td>19</td>\n",
       "      <td>98941684460892565945</td>\n",
       "      <td>1</td>\n",
       "      <td>47</td>\n",
       "      <td>...</td>\n",
       "      <td>8156.47940</td>\n",
       "      <td>1762.91979</td>\n",
       "      <td>1862.31765</td>\n",
       "      <td>2022.56997</td>\n",
       "      <td>1603.27339</td>\n",
       "      <td>6232.84066</td>\n",
       "      <td>1391.36558</td>\n",
       "      <td>6663.19618</td>\n",
       "      <td>1882.87691</td>\n",
       "      <td>8713.14869</td>\n",
       "    </tr>\n",
       "    <tr>\n",
       "      <th>8037</th>\n",
       "      <td>2</td>\n",
       "      <td>2020.4</td>\n",
       "      <td>1998941684460892565945147</td>\n",
       "      <td>199894168446089256594514703</td>\n",
       "      <td>3</td>\n",
       "      <td>204</td>\n",
       "      <td>19</td>\n",
       "      <td>98941684460892565945</td>\n",
       "      <td>1</td>\n",
       "      <td>47</td>\n",
       "      <td>...</td>\n",
       "      <td>8156.47940</td>\n",
       "      <td>1762.91979</td>\n",
       "      <td>1862.31765</td>\n",
       "      <td>2022.56997</td>\n",
       "      <td>1603.27339</td>\n",
       "      <td>6232.84066</td>\n",
       "      <td>1391.36558</td>\n",
       "      <td>6663.19618</td>\n",
       "      <td>1882.87691</td>\n",
       "      <td>8713.14869</td>\n",
       "    </tr>\n",
       "    <tr>\n",
       "      <th>8038</th>\n",
       "      <td>2</td>\n",
       "      <td>2020.4</td>\n",
       "      <td>1998941684460892565945147</td>\n",
       "      <td>199894168446089256594514703</td>\n",
       "      <td>3</td>\n",
       "      <td>204</td>\n",
       "      <td>19</td>\n",
       "      <td>98941684460892565945</td>\n",
       "      <td>1</td>\n",
       "      <td>47</td>\n",
       "      <td>...</td>\n",
       "      <td>8156.47940</td>\n",
       "      <td>1762.91979</td>\n",
       "      <td>1862.31765</td>\n",
       "      <td>2022.56997</td>\n",
       "      <td>1603.27339</td>\n",
       "      <td>6232.84066</td>\n",
       "      <td>1391.36558</td>\n",
       "      <td>6663.19618</td>\n",
       "      <td>1882.87691</td>\n",
       "      <td>8713.14869</td>\n",
       "    </tr>\n",
       "    <tr>\n",
       "      <th>8039</th>\n",
       "      <td>2</td>\n",
       "      <td>2020.4</td>\n",
       "      <td>1998944199680097565959147</td>\n",
       "      <td>199894419968009756595914702</td>\n",
       "      <td>2</td>\n",
       "      <td>204</td>\n",
       "      <td>19</td>\n",
       "      <td>98944199680097565959</td>\n",
       "      <td>1</td>\n",
       "      <td>47</td>\n",
       "      <td>...</td>\n",
       "      <td>1477.63461</td>\n",
       "      <td>1558.81562</td>\n",
       "      <td>1693.76975</td>\n",
       "      <td>1652.97013</td>\n",
       "      <td>547.66168</td>\n",
       "      <td>465.86033</td>\n",
       "      <td>1533.80035</td>\n",
       "      <td>2873.30205</td>\n",
       "      <td>1494.86541</td>\n",
       "      <td>2309.67967</td>\n",
       "    </tr>\n",
       "    <tr>\n",
       "      <th>8040</th>\n",
       "      <td>2</td>\n",
       "      <td>2020.4</td>\n",
       "      <td>1998944199680097565959147</td>\n",
       "      <td>199894419968009756595914702</td>\n",
       "      <td>2</td>\n",
       "      <td>204</td>\n",
       "      <td>19</td>\n",
       "      <td>98944199680097565959</td>\n",
       "      <td>1</td>\n",
       "      <td>47</td>\n",
       "      <td>...</td>\n",
       "      <td>1477.63461</td>\n",
       "      <td>1558.81562</td>\n",
       "      <td>1693.76975</td>\n",
       "      <td>1652.97013</td>\n",
       "      <td>547.66168</td>\n",
       "      <td>465.86033</td>\n",
       "      <td>1533.80035</td>\n",
       "      <td>2873.30205</td>\n",
       "      <td>1494.86541</td>\n",
       "      <td>2309.67967</td>\n",
       "    </tr>\n",
       "  </tbody>\n",
       "</table>\n",
       "<p>1358 rows × 1496 columns</p>\n",
       "</div>"
      ],
      "text/plain": [
       "      V2001   YEARQ                       IDHH                        IDPER  \\\n",
       "7         2  2020.1  1602073992355333564544321  160207399235533356454432101   \n",
       "8         2  2020.1  1602073992355333564544321  160207399235533356454432101   \n",
       "9         2  2020.1  1602073992355333564544321  160207399235533356454432101   \n",
       "10        2  2020.1  1602073992355333564544321  160207399235533356454432101   \n",
       "13        2  2020.1  1602091992688989565949137  160209199268898956594913701   \n",
       "...     ...     ...                        ...                          ...   \n",
       "8036      2  2020.4  1998941684460892565945147  199894168446089256594514703   \n",
       "8037      2  2020.4  1998941684460892565945147  199894168446089256594514703   \n",
       "8038      2  2020.4  1998941684460892565945147  199894168446089256594514703   \n",
       "8039      2  2020.4  1998944199680097565959147  199894419968009756595914702   \n",
       "8040      2  2020.4  1998944199680097565959147  199894419968009756595914702   \n",
       "\n",
       "      V2002  V2003  V2004                 V2005  V2006  V2008  ...  \\\n",
       "7         8    201     16  02073992355333564544      3     21  ...   \n",
       "8         8    201     16  02073992355333564544      3     21  ...   \n",
       "9         8    201     16  02073992355333564544      3     21  ...   \n",
       "10        8    201     16  02073992355333564544      3     21  ...   \n",
       "13        8    201     16  02091992688989565949      1     37  ...   \n",
       "...     ...    ...    ...                   ...    ...    ...  ...   \n",
       "8036      3    204     19  98941684460892565945      1     47  ...   \n",
       "8037      3    204     19  98941684460892565945      1     47  ...   \n",
       "8038      3    204     19  98941684460892565945      1     47  ...   \n",
       "8039      2    204     19  98944199680097565959      1     47  ...   \n",
       "8040      2    204     19  98944199680097565959      1     47  ...   \n",
       "\n",
       "      VICREPWGT151  VICREPWGT152  VICREPWGT153  VICREPWGT154  VICREPWGT155  \\\n",
       "7        401.61681    2528.89547    2434.93769    1419.86393    1523.06432   \n",
       "8        401.61681    2528.89547    2434.93769    1419.86393    1523.06432   \n",
       "9        401.61681    2528.89547    2434.93769    1419.86393    1523.06432   \n",
       "10       401.61681    2528.89547    2434.93769    1419.86393    1523.06432   \n",
       "13       501.42554    3257.86903     452.83591    1743.29210     579.87993   \n",
       "...            ...           ...           ...           ...           ...   \n",
       "8036    8156.47940    1762.91979    1862.31765    2022.56997    1603.27339   \n",
       "8037    8156.47940    1762.91979    1862.31765    2022.56997    1603.27339   \n",
       "8038    8156.47940    1762.91979    1862.31765    2022.56997    1603.27339   \n",
       "8039    1477.63461    1558.81562    1693.76975    1652.97013     547.66168   \n",
       "8040    1477.63461    1558.81562    1693.76975    1652.97013     547.66168   \n",
       "\n",
       "      VICREPWGT156  VICREPWGT157  VICREPWGT158  VICREPWGT159  VICREPWGT160  \n",
       "7        460.96821    1548.28375    1510.67039    1437.07934    1365.19375  \n",
       "8        460.96821    1548.28375    1510.67039    1437.07934    1365.19375  \n",
       "9        460.96821    1548.28375    1510.67039    1437.07934    1365.19375  \n",
       "10       460.96821    1548.28375    1510.67039    1437.07934    1365.19375  \n",
       "13       432.09296    1585.19116    1971.74981    1911.35400    1546.80260  \n",
       "...            ...           ...           ...           ...           ...  \n",
       "8036    6232.84066    1391.36558    6663.19618    1882.87691    8713.14869  \n",
       "8037    6232.84066    1391.36558    6663.19618    1882.87691    8713.14869  \n",
       "8038    6232.84066    1391.36558    6663.19618    1882.87691    8713.14869  \n",
       "8039     465.86033    1533.80035    2873.30205    1494.86541    2309.67967  \n",
       "8040     465.86033    1533.80035    2873.30205    1494.86541    2309.67967  \n",
       "\n",
       "[1358 rows x 1496 columns]"
      ]
     },
     "execution_count": 4,
     "metadata": {},
     "output_type": "execute_result"
    }
   ],
   "source": [
    "df_assault = df.loc[df[\"V4529\"] == 3]\n",
    "df_assault\n",
    "    "
   ]
  },
  {
   "cell_type": "code",
   "execution_count": 5,
   "id": "6dcf4ad5-c0aa-41a3-9895-2a0d44929bbf",
   "metadata": {},
   "outputs": [
    {
     "name": "stdout",
     "output_type": "stream",
     "text": [
      "1    1298\n",
      "2      52\n",
      "8       8\n",
      "Name: V4017, dtype: int64\n"
     ]
    }
   ],
   "source": [
    "#how mant times\n",
    "print(df_assault[\"V4017\"].value_counts())"
   ]
  },
  {
   "cell_type": "code",
   "execution_count": 6,
   "id": "7cf6ee01-3282-400b-888c-ca4801e874f6",
   "metadata": {},
   "outputs": [
    {
     "name": "stdout",
     "output_type": "stream",
     "text": [
      "1      1028\n",
      "2       135\n",
      "3        66\n",
      "4        35\n",
      "5        34\n",
      "10       14\n",
      "997       8\n",
      "6         8\n",
      "12        7\n",
      "30        6\n",
      "7         5\n",
      "20        4\n",
      "8         2\n",
      "15        1\n",
      "26        1\n",
      "11        1\n",
      "24        1\n",
      "25        1\n",
      "17        1\n",
      "Name: V4016, dtype: int64\n"
     ]
    }
   ],
   "source": [
    "#HOW MANY IN THE LAST 6 MONTHS\n",
    "print(df_assault[\"V4016\"].value_counts())"
   ]
  },
  {
   "cell_type": "code",
   "execution_count": 7,
   "id": "503c7380-d5f7-4ad5-9865-6bd281e54367",
   "metadata": {},
   "outputs": [
    {
     "name": "stdout",
     "output_type": "stream",
     "text": [
      "2    1225\n",
      "1     115\n",
      "3      11\n",
      "8       7\n",
      "Name: V4526AA, dtype: int64\n"
     ]
    }
   ],
   "source": [
    "#HATE CRIME\n",
    "print(df_assault[\"V4526AA\"].value_counts())"
   ]
  },
  {
   "cell_type": "code",
   "execution_count": 8,
   "id": "275fb2f0-3c2b-4535-832e-b236ca3ff6dc",
   "metadata": {},
   "outputs": [
    {
     "data": {
      "text/plain": [
       "2    931\n",
       "3    246\n",
       "1    181\n",
       "Name: V2143, dtype: int64"
      ]
     },
     "execution_count": 8,
     "metadata": {},
     "output_type": "execute_result"
    }
   ],
   "source": [
    "#location urbanicity\n",
    "#one-hot\n",
    "df_assault[\"V2143\"].value_counts()\n"
   ]
  },
  {
   "cell_type": "code",
   "execution_count": 9,
   "id": "5eb3db65-49ad-4ea1-8778-7baf61112100",
   "metadata": {},
   "outputs": [
    {
     "data": {
      "text/plain": [
       "99    1358\n",
       "Name: V2031, dtype: int64"
      ]
     },
     "execution_count": 9,
     "metadata": {},
     "output_type": "execute_result"
    }
   ],
   "source": [
    "#race of house hold head\n",
    "#everything is 99 not helpful\n",
    "df_assault[\"V2031\"].value_counts()"
   ]
  },
  {
   "cell_type": "code",
   "execution_count": 10,
   "id": "3b30d924-cf88-48ae-858e-27872340ccf4",
   "metadata": {},
   "outputs": [
    {
     "data": {
      "text/plain": [
       "11    1069\n",
       "2      289\n",
       "Name: V2032, dtype: int64"
      ]
     },
     "execution_count": 10,
     "metadata": {},
     "output_type": "execute_result"
    }
   ],
   "source": [
    "#we are confused if its helpful\n",
    "df_assault[\"V2032\"].value_counts()"
   ]
  },
  {
   "cell_type": "code",
   "execution_count": 11,
   "id": "4b522d77-3e1b-4195-9cc4-ab9f64d62778",
   "metadata": {},
   "outputs": [
    {
     "data": {
      "text/plain": [
       "2    499\n",
       "1    414\n",
       "3    254\n",
       "4    130\n",
       "5     38\n",
       "6     16\n",
       "7      6\n",
       "8      1\n",
       "Name: V2071, dtype: int64"
      ]
     },
     "execution_count": 11,
     "metadata": {},
     "output_type": "execute_result"
    }
   ],
   "source": [
    "#no of hh members 12+\n",
    "#one-hot\n",
    "df_assault[\"V2071\"].value_counts()"
   ]
  },
  {
   "cell_type": "code",
   "execution_count": 12,
   "id": "ecc203fe-f0bc-43ae-9034-24e1abc15beb",
   "metadata": {},
   "outputs": [
    {
     "data": {
      "text/plain": [
       "1    856\n",
       "2    444\n",
       "9     54\n",
       "8      4\n",
       "Name: V3071, dtype: int64"
      ]
     },
     "execution_count": 12,
     "metadata": {},
     "output_type": "execute_result"
    }
   ],
   "source": [
    "#individual emeployment info\n",
    "#binary\n",
    "\n",
    "df_assault[\"V3071\"].value_counts()"
   ]
  },
  {
   "cell_type": "code",
   "execution_count": 13,
   "id": "0fc7c92f-f84d-4142-9d7d-eb76d0d5f56f",
   "metadata": {},
   "outputs": [
    {
     "data": {
      "text/plain": [
       "3    956\n",
       "4    374\n",
       "2     13\n",
       "1      8\n",
       "8      4\n",
       "5      3\n",
       "Name: V4022, dtype: int64"
      ]
     },
     "execution_count": 13,
     "metadata": {},
     "output_type": "execute_result"
    }
   ],
   "source": [
    "#location of the incident\n",
    "#one-hot\n",
    "df_assault[\"V4022\"].value_counts()"
   ]
  },
  {
   "cell_type": "code",
   "execution_count": 14,
   "id": "81efd2e6-bfb0-4f69-a612-7937118d3bf9",
   "metadata": {},
   "outputs": [
    {
     "data": {
      "text/plain": [
       "9    1113\n",
       "1     182\n",
       "2      63\n",
       "Name: V4025, dtype: int64"
      ]
     },
     "execution_count": 14,
     "metadata": {},
     "output_type": "execute_result"
    }
   ],
   "source": [
    "#if the offender had a right to be there\n",
    "#add but has lots of 9\n",
    "df_assault[\"V4025\"].value_counts()"
   ]
  },
  {
   "cell_type": "code",
   "execution_count": 15,
   "id": "da31870e-d3e6-4371-8c21-758702b8cef2",
   "metadata": {},
   "outputs": [
    {
     "data": {
      "text/plain": [
       "9    1346\n",
       "1      11\n",
       "8       1\n",
       "Name: V4029, dtype: int64"
      ]
     },
     "execution_count": 15,
     "metadata": {},
     "output_type": "execute_result"
    }
   ],
   "source": [
    "#evidence of forced entry\n",
    "#doesnt apply well to assault cases\n",
    "df_assault[\"V4029\"].value_counts()"
   ]
  },
  {
   "cell_type": "code",
   "execution_count": 16,
   "id": "153310b8-5d5f-49eb-8435-c94662f9c495",
   "metadata": {},
   "outputs": [
    {
     "data": {
      "text/plain": [
       "9    1105\n",
       "2     147\n",
       "1     106\n",
       "Name: V4127, dtype: int64"
      ]
     },
     "execution_count": 16,
     "metadata": {},
     "output_type": "execute_result"
    }
   ],
   "source": [
    "#received medical care\n",
    "#next iteration, probably should not use it. \n",
    "df_assault[\"V4127\"].value_counts()"
   ]
  },
  {
   "cell_type": "code",
   "execution_count": 17,
   "id": "7ef0406e-0101-4e03-a4b4-1d5e3e6be3ed",
   "metadata": {},
   "outputs": [
    {
     "data": {
      "text/plain": [
       "1    773\n",
       "2    465\n",
       "8    104\n",
       "3     16\n",
       "Name: V4184, dtype: int64"
      ]
     },
     "execution_count": 17,
     "metadata": {},
     "output_type": "execute_result"
    }
   ],
   "source": [
    "#anyone other than the respondent present\n",
    "df_assault[\"V4184\"].value_counts()"
   ]
  },
  {
   "cell_type": "code",
   "execution_count": 18,
   "id": "20fb90eb-f054-4817-aafd-ef6943503b93",
   "metadata": {},
   "outputs": [
    {
     "data": {
      "text/plain": [
       "1    1168\n",
       "2     132\n",
       "8      40\n",
       "3      18\n",
       "Name: V4234, dtype: int64"
      ]
     },
     "execution_count": 18,
     "metadata": {},
     "output_type": "execute_result"
    }
   ],
   "source": [
    "#one or more offender\n",
    "#next iteration\n",
    "df_assault[\"V4234\"].value_counts()"
   ]
  },
  {
   "cell_type": "code",
   "execution_count": 19,
   "id": "49947bfe-ccc9-4a51-adbb-ad99037b36f0",
   "metadata": {},
   "outputs": [
    {
     "data": {
      "text/plain": [
       "99999    1358\n",
       "Name: V4364, dtype: int64"
      ]
     },
     "execution_count": 19,
     "metadata": {},
     "output_type": "execute_result"
    }
   ],
   "source": [
    "#value of property taken\n",
    "#next iteration --doesnt help\n",
    "df_assault[\"V4364\"].value_counts()"
   ]
  },
  {
   "cell_type": "code",
   "execution_count": 20,
   "id": "f6920799-be26-4ea7-8797-f050cb98bfd9",
   "metadata": {},
   "outputs": [
    {
     "data": {
      "text/plain": [
       "9    1023\n",
       "1     313\n",
       "2      15\n",
       "8       5\n",
       "3       1\n",
       "4       1\n",
       "Name: V4484, dtype: int64"
      ]
     },
     "execution_count": 20,
     "metadata": {},
     "output_type": "execute_result"
    }
   ],
   "source": [
    "#incident occur at work\n",
    "#next iteration-not useful\n",
    "df_assault[\"V4484\"].value_counts()"
   ]
  },
  {
   "cell_type": "code",
   "execution_count": 21,
   "id": "3f35242b-8b88-4110-a175-6193ac0f7456",
   "metadata": {},
   "outputs": [
    {
     "data": {
      "text/plain": [
       "9    1303\n",
       "1      42\n",
       "8       9\n",
       "2       4\n",
       "Name: V4524, dtype: int64"
      ]
     },
     "execution_count": 21,
     "metadata": {},
     "output_type": "execute_result"
    }
   ],
   "source": [
    "#same thing happen each time\n",
    "#next iteration - not useful\n",
    "df_assault[\"V4524\"].value_counts()"
   ]
  },
  {
   "cell_type": "code",
   "execution_count": 22,
   "id": "7d3a7308-4ff2-4bbe-984a-0474e2972a82",
   "metadata": {},
   "outputs": [
    {
     "data": {
      "text/plain": [
       "9    1303\n",
       "1      28\n",
       "2      18\n",
       "8       9\n",
       "Name: V4525, dtype: int64"
      ]
     },
     "execution_count": 22,
     "metadata": {},
     "output_type": "execute_result"
    }
   ],
   "source": [
    "#is trouble still going on\n",
    "#next iteration--not useful\n",
    "df_assault[\"V4525\"].value_counts()"
   ]
  },
  {
   "cell_type": "code",
   "execution_count": 68,
   "id": "8318ce3e-4836-44b6-8e93-c95140cbc310",
   "metadata": {},
   "outputs": [
    {
     "data": {
      "text/plain": [
       "9    7958\n",
       "0      63\n",
       "8      20\n",
       "1       2\n",
       "Name: V4522F, dtype: int64"
      ]
     },
     "execution_count": 68,
     "metadata": {},
     "output_type": "execute_result"
    }
   ],
   "source": [
    "#Relationship to offender\n",
    "#df_assault[\"V4523\"].value_counts()\n",
    "df[\"V4522F\"].value_counts()"
   ]
  },
  {
   "cell_type": "code",
   "execution_count": 23,
   "id": "1df282ed-b7c0-45cb-8af7-4a69acec2afb",
   "metadata": {},
   "outputs": [
    {
     "data": {
      "text/plain": [
       "2    724\n",
       "1    604\n",
       "3     26\n",
       "8      4\n",
       "Name: V4399, dtype: int64"
      ]
     },
     "execution_count": 23,
     "metadata": {},
     "output_type": "execute_result"
    }
   ],
   "source": [
    "inputs = df_assault[[\"V4017\",\"V4016\",\"V4526AA\",\"V2143\",\"V2032\",\"V2071\",\"V3071\",\"V4022\",\"V4025\",\"V4184\",\"V4234\"]]\n",
    "target = df_assault[['V4399']]\n",
    "df_assault[\"V4399\"].value_counts()"
   ]
  },
  {
   "cell_type": "code",
   "execution_count": 24,
   "id": "d9d04b5e-6fb4-4aea-ad0c-e5e6a0008a7c",
   "metadata": {},
   "outputs": [
    {
     "data": {
      "text/plain": [
       "0.45481927710843373"
      ]
     },
     "execution_count": 24,
     "metadata": {},
     "output_type": "execute_result"
    }
   ],
   "source": [
    "604/(604+724)\n"
   ]
  },
  {
   "cell_type": "code",
   "execution_count": 25,
   "id": "f69eba08-e36e-4760-9f73-791d444e3629",
   "metadata": {},
   "outputs": [
    {
     "data": {
      "text/plain": [
       "0.5451807228915663"
      ]
     },
     "execution_count": 25,
     "metadata": {},
     "output_type": "execute_result"
    }
   ],
   "source": [
    "724/(604+724)"
   ]
  },
  {
   "cell_type": "code",
   "execution_count": 26,
   "id": "84145fa8-25ff-4f84-945f-c8c912403247",
   "metadata": {},
   "outputs": [
    {
     "data": {
      "text/plain": [
       "array([[-0.1404508 , -0.03568331, -1.81568887, ..., -2.21346548,\n",
       "         0.05368263, -0.27074513],\n",
       "       [-0.1404508 , -0.03568331, -1.81568887, ..., -2.21346548,\n",
       "         0.05368263, -0.27074513],\n",
       "       [-0.1404508 , -0.03568331, -1.81568887, ..., -2.21346548,\n",
       "         0.05368263, -0.27074513],\n",
       "       ...,\n",
       "       [-0.1404508 , -0.06192644,  0.08686166, ...,  0.46826631,\n",
       "        -0.49444527, -0.27074513],\n",
       "       [-0.1404508 , -0.08816958,  0.08686166, ..., -1.87824901,\n",
       "        -0.49444527, -0.27074513],\n",
       "       [-0.1404508 , -0.08816958,  0.08686166, ...,  0.46826631,\n",
       "        -0.49444527, -0.27074513]])"
      ]
     },
     "execution_count": 26,
     "metadata": {},
     "output_type": "execute_result"
    }
   ],
   "source": [
    "#normalizing data\n",
    "scaler = preprocessing.StandardScaler().fit(inputs)\n",
    "scaled_inputs = scaler.transform(inputs)\n",
    "scaled_inputs "
   ]
  },
  {
   "cell_type": "code",
   "execution_count": 27,
   "id": "681ed9dc-1199-40be-a1af-0a126938ea43",
   "metadata": {},
   "outputs": [
    {
     "name": "stdout",
     "output_type": "stream",
     "text": [
      "      V4399\n",
      "5027      1\n",
      "7647      1\n",
      "2126      2\n",
      "4120      1\n",
      "308       1\n",
      "...     ...\n",
      "6504      2\n",
      "6693      2\n",
      "7685      1\n",
      "4995      1\n",
      "6686      1\n",
      "\n",
      "[1086 rows x 1 columns]\n"
     ]
    }
   ],
   "source": [
    "#splitting data to train and test splits\n",
    "X_train, X_test, y_train, y_test = train_test_split(scaled_inputs, target, test_size=0.2, random_state=42)\n",
    "X_train\n",
    "print(y_train)"
   ]
  },
  {
   "cell_type": "code",
   "execution_count": 28,
   "id": "5d5f8439-d949-4356-be4a-c70833ee7893",
   "metadata": {},
   "outputs": [
    {
     "name": "stderr",
     "output_type": "stream",
     "text": [
      "/opt/pub/eb/apps/all/DavidsonJupyter/2021-common-GCCcore-10.2.0/lib/python3.8/site-packages/sklearn/utils/validation.py:1111: DataConversionWarning: A column-vector y was passed when a 1d array was expected. Please change the shape of y to (n_samples, ), for example using ravel().\n",
      "  y = column_or_1d(y, warn=True)\n",
      "/opt/pub/eb/apps/all/DavidsonJupyter/2021-common-GCCcore-10.2.0/lib/python3.8/site-packages/sklearn/linear_model/_logistic.py:444: ConvergenceWarning: lbfgs failed to converge (status=1):\n",
      "STOP: TOTAL NO. of ITERATIONS REACHED LIMIT.\n",
      "\n",
      "Increase the number of iterations (max_iter) or scale the data as shown in:\n",
      "    https://scikit-learn.org/stable/modules/preprocessing.html\n",
      "Please also refer to the documentation for alternative solver options:\n",
      "    https://scikit-learn.org/stable/modules/linear_model.html#logistic-regression\n",
      "  n_iter_i = _check_optimize_result(\n"
     ]
    },
    {
     "data": {
      "text/plain": [
       "0.5939226519337016"
      ]
     },
     "execution_count": 28,
     "metadata": {},
     "output_type": "execute_result"
    }
   ],
   "source": [
    "#training a logistic regression model\n",
    "clf = LogisticRegression(random_state=0).fit(X_train, y_train)\n",
    "clf.score(X_test,y_test)\n",
    "clf.score(X_train,y_train)"
   ]
  },
  {
   "cell_type": "code",
   "execution_count": 29,
   "id": "0612235c-4053-42e1-8873-c4c3c4f347ae",
   "metadata": {},
   "outputs": [
    {
     "name": "stderr",
     "output_type": "stream",
     "text": [
      "/tmp/ipykernel_2077151/1354861141.py:3: DataConversionWarning: A column-vector y was passed when a 1d array was expected. Please change the shape of y to (n_samples,), for example using ravel().\n",
      "  rmf.fit(X_train, y_train)\n"
     ]
    },
    {
     "data": {
      "text/plain": [
       "0.6102941176470589"
      ]
     },
     "execution_count": 29,
     "metadata": {},
     "output_type": "execute_result"
    }
   ],
   "source": [
    "#Random Forest\n",
    "rmf = RandomForestClassifier(n_estimators=200,max_depth=5, random_state=0,criterion=\"entropy\")\n",
    "rmf.fit(X_train, y_train)\n",
    "rmf.score(X_test,y_test)"
   ]
  },
  {
   "cell_type": "code",
   "execution_count": 30,
   "id": "3b869b22-a9ac-4012-a09c-f5d40ac05bd8",
   "metadata": {},
   "outputs": [
    {
     "name": "stdout",
     "output_type": "stream",
     "text": [
      "              precision    recall  f1-score   support\n",
      "\n",
      "           1       0.61      0.57      0.59       128\n",
      "           2       0.61      0.67      0.64       139\n",
      "           3       0.00      0.00      0.00         5\n",
      "\n",
      "    accuracy                           0.61       272\n",
      "   macro avg       0.41      0.41      0.41       272\n",
      "weighted avg       0.60      0.61      0.60       272\n",
      "\n",
      "[[73 55  0]\n",
      " [46 93  0]\n",
      " [ 1  4  0]]\n"
     ]
    },
    {
     "name": "stderr",
     "output_type": "stream",
     "text": [
      "/opt/pub/eb/apps/all/DavidsonJupyter/2021-common-GCCcore-10.2.0/lib/python3.8/site-packages/sklearn/metrics/_classification.py:1327: UndefinedMetricWarning: Precision and F-score are ill-defined and being set to 0.0 in labels with no predicted samples. Use `zero_division` parameter to control this behavior.\n",
      "  _warn_prf(average, modifier, msg_start, len(result))\n",
      "/opt/pub/eb/apps/all/DavidsonJupyter/2021-common-GCCcore-10.2.0/lib/python3.8/site-packages/sklearn/metrics/_classification.py:1327: UndefinedMetricWarning: Precision and F-score are ill-defined and being set to 0.0 in labels with no predicted samples. Use `zero_division` parameter to control this behavior.\n",
      "  _warn_prf(average, modifier, msg_start, len(result))\n",
      "/opt/pub/eb/apps/all/DavidsonJupyter/2021-common-GCCcore-10.2.0/lib/python3.8/site-packages/sklearn/metrics/_classification.py:1327: UndefinedMetricWarning: Precision and F-score are ill-defined and being set to 0.0 in labels with no predicted samples. Use `zero_division` parameter to control this behavior.\n",
      "  _warn_prf(average, modifier, msg_start, len(result))\n"
     ]
    }
   ],
   "source": [
    "y_pred = rmf.predict(X_test)\n",
    "\n",
    "# Evaluate performance\n",
    "from sklearn.metrics import classification_report, confusion_matrix\n",
    "print(classification_report(y_test, y_pred))\n",
    "print(confusion_matrix(y_test, y_pred))"
   ]
  },
  {
   "cell_type": "code",
   "execution_count": 31,
   "id": "91154337-5135-490c-a273-fe2cfdcf3aad",
   "metadata": {
    "collapsed": true,
    "jupyter": {
     "outputs_hidden": true
    },
    "tags": []
   },
   "outputs": [
    {
     "name": "stderr",
     "output_type": "stream",
     "text": [
      "/opt/pub/eb/apps/all/DavidsonJupyter/2021-common-GCCcore-10.2.0/lib/python3.8/site-packages/sklearn/model_selection/_split.py:680: UserWarning: The least populated class in y has only 4 members, which is less than n_splits=5.\n",
      "  warnings.warn(\n",
      "/opt/pub/eb/apps/all/DavidsonJupyter/2021-common-GCCcore-10.2.0/lib/python3.8/site-packages/sklearn/model_selection/_validation.py:686: DataConversionWarning: A column-vector y was passed when a 1d array was expected. Please change the shape of y to (n_samples,), for example using ravel().\n",
      "  estimator.fit(X_train, y_train, **fit_params)\n",
      "/opt/pub/eb/apps/all/DavidsonJupyter/2021-common-GCCcore-10.2.0/lib/python3.8/site-packages/sklearn/model_selection/_validation.py:686: DataConversionWarning: A column-vector y was passed when a 1d array was expected. Please change the shape of y to (n_samples,), for example using ravel().\n",
      "  estimator.fit(X_train, y_train, **fit_params)\n",
      "/opt/pub/eb/apps/all/DavidsonJupyter/2021-common-GCCcore-10.2.0/lib/python3.8/site-packages/sklearn/model_selection/_validation.py:686: DataConversionWarning: A column-vector y was passed when a 1d array was expected. Please change the shape of y to (n_samples,), for example using ravel().\n",
      "  estimator.fit(X_train, y_train, **fit_params)\n",
      "/opt/pub/eb/apps/all/DavidsonJupyter/2021-common-GCCcore-10.2.0/lib/python3.8/site-packages/sklearn/model_selection/_validation.py:686: DataConversionWarning: A column-vector y was passed when a 1d array was expected. Please change the shape of y to (n_samples,), for example using ravel().\n",
      "  estimator.fit(X_train, y_train, **fit_params)\n",
      "/opt/pub/eb/apps/all/DavidsonJupyter/2021-common-GCCcore-10.2.0/lib/python3.8/site-packages/sklearn/model_selection/_validation.py:686: DataConversionWarning: A column-vector y was passed when a 1d array was expected. Please change the shape of y to (n_samples,), for example using ravel().\n",
      "  estimator.fit(X_train, y_train, **fit_params)\n",
      "/opt/pub/eb/apps/all/DavidsonJupyter/2021-common-GCCcore-10.2.0/lib/python3.8/site-packages/sklearn/model_selection/_validation.py:686: DataConversionWarning: A column-vector y was passed when a 1d array was expected. Please change the shape of y to (n_samples,), for example using ravel().\n",
      "  estimator.fit(X_train, y_train, **fit_params)\n",
      "/opt/pub/eb/apps/all/DavidsonJupyter/2021-common-GCCcore-10.2.0/lib/python3.8/site-packages/sklearn/model_selection/_validation.py:686: DataConversionWarning: A column-vector y was passed when a 1d array was expected. Please change the shape of y to (n_samples,), for example using ravel().\n",
      "  estimator.fit(X_train, y_train, **fit_params)\n",
      "/opt/pub/eb/apps/all/DavidsonJupyter/2021-common-GCCcore-10.2.0/lib/python3.8/site-packages/sklearn/model_selection/_validation.py:686: DataConversionWarning: A column-vector y was passed when a 1d array was expected. Please change the shape of y to (n_samples,), for example using ravel().\n",
      "  estimator.fit(X_train, y_train, **fit_params)\n",
      "/opt/pub/eb/apps/all/DavidsonJupyter/2021-common-GCCcore-10.2.0/lib/python3.8/site-packages/sklearn/model_selection/_validation.py:686: DataConversionWarning: A column-vector y was passed when a 1d array was expected. Please change the shape of y to (n_samples,), for example using ravel().\n",
      "  estimator.fit(X_train, y_train, **fit_params)\n",
      "/opt/pub/eb/apps/all/DavidsonJupyter/2021-common-GCCcore-10.2.0/lib/python3.8/site-packages/sklearn/model_selection/_validation.py:686: DataConversionWarning: A column-vector y was passed when a 1d array was expected. Please change the shape of y to (n_samples,), for example using ravel().\n",
      "  estimator.fit(X_train, y_train, **fit_params)\n",
      "/opt/pub/eb/apps/all/DavidsonJupyter/2021-common-GCCcore-10.2.0/lib/python3.8/site-packages/sklearn/model_selection/_validation.py:686: DataConversionWarning: A column-vector y was passed when a 1d array was expected. Please change the shape of y to (n_samples,), for example using ravel().\n",
      "  estimator.fit(X_train, y_train, **fit_params)\n",
      "/opt/pub/eb/apps/all/DavidsonJupyter/2021-common-GCCcore-10.2.0/lib/python3.8/site-packages/sklearn/model_selection/_validation.py:686: DataConversionWarning: A column-vector y was passed when a 1d array was expected. Please change the shape of y to (n_samples,), for example using ravel().\n",
      "  estimator.fit(X_train, y_train, **fit_params)\n",
      "/opt/pub/eb/apps/all/DavidsonJupyter/2021-common-GCCcore-10.2.0/lib/python3.8/site-packages/sklearn/model_selection/_validation.py:686: DataConversionWarning: A column-vector y was passed when a 1d array was expected. Please change the shape of y to (n_samples,), for example using ravel().\n",
      "  estimator.fit(X_train, y_train, **fit_params)\n",
      "/opt/pub/eb/apps/all/DavidsonJupyter/2021-common-GCCcore-10.2.0/lib/python3.8/site-packages/sklearn/model_selection/_validation.py:686: DataConversionWarning: A column-vector y was passed when a 1d array was expected. Please change the shape of y to (n_samples,), for example using ravel().\n",
      "  estimator.fit(X_train, y_train, **fit_params)\n",
      "/opt/pub/eb/apps/all/DavidsonJupyter/2021-common-GCCcore-10.2.0/lib/python3.8/site-packages/sklearn/model_selection/_validation.py:686: DataConversionWarning: A column-vector y was passed when a 1d array was expected. Please change the shape of y to (n_samples,), for example using ravel().\n",
      "  estimator.fit(X_train, y_train, **fit_params)\n",
      "/opt/pub/eb/apps/all/DavidsonJupyter/2021-common-GCCcore-10.2.0/lib/python3.8/site-packages/sklearn/model_selection/_validation.py:686: DataConversionWarning: A column-vector y was passed when a 1d array was expected. Please change the shape of y to (n_samples,), for example using ravel().\n",
      "  estimator.fit(X_train, y_train, **fit_params)\n",
      "/opt/pub/eb/apps/all/DavidsonJupyter/2021-common-GCCcore-10.2.0/lib/python3.8/site-packages/sklearn/model_selection/_validation.py:686: DataConversionWarning: A column-vector y was passed when a 1d array was expected. Please change the shape of y to (n_samples,), for example using ravel().\n",
      "  estimator.fit(X_train, y_train, **fit_params)\n",
      "/opt/pub/eb/apps/all/DavidsonJupyter/2021-common-GCCcore-10.2.0/lib/python3.8/site-packages/sklearn/model_selection/_validation.py:686: DataConversionWarning: A column-vector y was passed when a 1d array was expected. Please change the shape of y to (n_samples,), for example using ravel().\n",
      "  estimator.fit(X_train, y_train, **fit_params)\n",
      "/opt/pub/eb/apps/all/DavidsonJupyter/2021-common-GCCcore-10.2.0/lib/python3.8/site-packages/sklearn/model_selection/_validation.py:686: DataConversionWarning: A column-vector y was passed when a 1d array was expected. Please change the shape of y to (n_samples,), for example using ravel().\n",
      "  estimator.fit(X_train, y_train, **fit_params)\n",
      "/opt/pub/eb/apps/all/DavidsonJupyter/2021-common-GCCcore-10.2.0/lib/python3.8/site-packages/sklearn/model_selection/_validation.py:686: DataConversionWarning: A column-vector y was passed when a 1d array was expected. Please change the shape of y to (n_samples,), for example using ravel().\n",
      "  estimator.fit(X_train, y_train, **fit_params)\n",
      "/opt/pub/eb/apps/all/DavidsonJupyter/2021-common-GCCcore-10.2.0/lib/python3.8/site-packages/sklearn/model_selection/_validation.py:686: DataConversionWarning: A column-vector y was passed when a 1d array was expected. Please change the shape of y to (n_samples,), for example using ravel().\n",
      "  estimator.fit(X_train, y_train, **fit_params)\n",
      "/opt/pub/eb/apps/all/DavidsonJupyter/2021-common-GCCcore-10.2.0/lib/python3.8/site-packages/sklearn/model_selection/_validation.py:686: DataConversionWarning: A column-vector y was passed when a 1d array was expected. Please change the shape of y to (n_samples,), for example using ravel().\n",
      "  estimator.fit(X_train, y_train, **fit_params)\n",
      "/opt/pub/eb/apps/all/DavidsonJupyter/2021-common-GCCcore-10.2.0/lib/python3.8/site-packages/sklearn/model_selection/_validation.py:686: DataConversionWarning: A column-vector y was passed when a 1d array was expected. Please change the shape of y to (n_samples,), for example using ravel().\n",
      "  estimator.fit(X_train, y_train, **fit_params)\n",
      "/opt/pub/eb/apps/all/DavidsonJupyter/2021-common-GCCcore-10.2.0/lib/python3.8/site-packages/sklearn/model_selection/_validation.py:686: DataConversionWarning: A column-vector y was passed when a 1d array was expected. Please change the shape of y to (n_samples,), for example using ravel().\n",
      "  estimator.fit(X_train, y_train, **fit_params)\n",
      "/opt/pub/eb/apps/all/DavidsonJupyter/2021-common-GCCcore-10.2.0/lib/python3.8/site-packages/sklearn/model_selection/_validation.py:686: DataConversionWarning: A column-vector y was passed when a 1d array was expected. Please change the shape of y to (n_samples,), for example using ravel().\n",
      "  estimator.fit(X_train, y_train, **fit_params)\n",
      "/opt/pub/eb/apps/all/DavidsonJupyter/2021-common-GCCcore-10.2.0/lib/python3.8/site-packages/sklearn/model_selection/_validation.py:686: DataConversionWarning: A column-vector y was passed when a 1d array was expected. Please change the shape of y to (n_samples,), for example using ravel().\n",
      "  estimator.fit(X_train, y_train, **fit_params)\n",
      "/opt/pub/eb/apps/all/DavidsonJupyter/2021-common-GCCcore-10.2.0/lib/python3.8/site-packages/sklearn/model_selection/_validation.py:686: DataConversionWarning: A column-vector y was passed when a 1d array was expected. Please change the shape of y to (n_samples,), for example using ravel().\n",
      "  estimator.fit(X_train, y_train, **fit_params)\n",
      "/opt/pub/eb/apps/all/DavidsonJupyter/2021-common-GCCcore-10.2.0/lib/python3.8/site-packages/sklearn/model_selection/_validation.py:686: DataConversionWarning: A column-vector y was passed when a 1d array was expected. Please change the shape of y to (n_samples,), for example using ravel().\n",
      "  estimator.fit(X_train, y_train, **fit_params)\n",
      "/opt/pub/eb/apps/all/DavidsonJupyter/2021-common-GCCcore-10.2.0/lib/python3.8/site-packages/sklearn/model_selection/_validation.py:686: DataConversionWarning: A column-vector y was passed when a 1d array was expected. Please change the shape of y to (n_samples,), for example using ravel().\n",
      "  estimator.fit(X_train, y_train, **fit_params)\n",
      "/opt/pub/eb/apps/all/DavidsonJupyter/2021-common-GCCcore-10.2.0/lib/python3.8/site-packages/sklearn/model_selection/_validation.py:686: DataConversionWarning: A column-vector y was passed when a 1d array was expected. Please change the shape of y to (n_samples,), for example using ravel().\n",
      "  estimator.fit(X_train, y_train, **fit_params)\n",
      "/opt/pub/eb/apps/all/DavidsonJupyter/2021-common-GCCcore-10.2.0/lib/python3.8/site-packages/sklearn/model_selection/_validation.py:686: DataConversionWarning: A column-vector y was passed when a 1d array was expected. Please change the shape of y to (n_samples,), for example using ravel().\n",
      "  estimator.fit(X_train, y_train, **fit_params)\n",
      "/opt/pub/eb/apps/all/DavidsonJupyter/2021-common-GCCcore-10.2.0/lib/python3.8/site-packages/sklearn/model_selection/_validation.py:686: DataConversionWarning: A column-vector y was passed when a 1d array was expected. Please change the shape of y to (n_samples,), for example using ravel().\n",
      "  estimator.fit(X_train, y_train, **fit_params)\n",
      "/opt/pub/eb/apps/all/DavidsonJupyter/2021-common-GCCcore-10.2.0/lib/python3.8/site-packages/sklearn/model_selection/_validation.py:686: DataConversionWarning: A column-vector y was passed when a 1d array was expected. Please change the shape of y to (n_samples,), for example using ravel().\n",
      "  estimator.fit(X_train, y_train, **fit_params)\n",
      "/opt/pub/eb/apps/all/DavidsonJupyter/2021-common-GCCcore-10.2.0/lib/python3.8/site-packages/sklearn/model_selection/_validation.py:686: DataConversionWarning: A column-vector y was passed when a 1d array was expected. Please change the shape of y to (n_samples,), for example using ravel().\n",
      "  estimator.fit(X_train, y_train, **fit_params)\n",
      "/opt/pub/eb/apps/all/DavidsonJupyter/2021-common-GCCcore-10.2.0/lib/python3.8/site-packages/sklearn/model_selection/_validation.py:686: DataConversionWarning: A column-vector y was passed when a 1d array was expected. Please change the shape of y to (n_samples,), for example using ravel().\n",
      "  estimator.fit(X_train, y_train, **fit_params)\n",
      "/opt/pub/eb/apps/all/DavidsonJupyter/2021-common-GCCcore-10.2.0/lib/python3.8/site-packages/sklearn/model_selection/_validation.py:686: DataConversionWarning: A column-vector y was passed when a 1d array was expected. Please change the shape of y to (n_samples,), for example using ravel().\n",
      "  estimator.fit(X_train, y_train, **fit_params)\n",
      "/opt/pub/eb/apps/all/DavidsonJupyter/2021-common-GCCcore-10.2.0/lib/python3.8/site-packages/sklearn/model_selection/_validation.py:686: DataConversionWarning: A column-vector y was passed when a 1d array was expected. Please change the shape of y to (n_samples,), for example using ravel().\n",
      "  estimator.fit(X_train, y_train, **fit_params)\n",
      "/opt/pub/eb/apps/all/DavidsonJupyter/2021-common-GCCcore-10.2.0/lib/python3.8/site-packages/sklearn/model_selection/_validation.py:686: DataConversionWarning: A column-vector y was passed when a 1d array was expected. Please change the shape of y to (n_samples,), for example using ravel().\n",
      "  estimator.fit(X_train, y_train, **fit_params)\n",
      "/opt/pub/eb/apps/all/DavidsonJupyter/2021-common-GCCcore-10.2.0/lib/python3.8/site-packages/sklearn/model_selection/_validation.py:686: DataConversionWarning: A column-vector y was passed when a 1d array was expected. Please change the shape of y to (n_samples,), for example using ravel().\n",
      "  estimator.fit(X_train, y_train, **fit_params)\n",
      "/opt/pub/eb/apps/all/DavidsonJupyter/2021-common-GCCcore-10.2.0/lib/python3.8/site-packages/sklearn/model_selection/_validation.py:686: DataConversionWarning: A column-vector y was passed when a 1d array was expected. Please change the shape of y to (n_samples,), for example using ravel().\n",
      "  estimator.fit(X_train, y_train, **fit_params)\n",
      "/opt/pub/eb/apps/all/DavidsonJupyter/2021-common-GCCcore-10.2.0/lib/python3.8/site-packages/sklearn/model_selection/_validation.py:686: DataConversionWarning: A column-vector y was passed when a 1d array was expected. Please change the shape of y to (n_samples,), for example using ravel().\n",
      "  estimator.fit(X_train, y_train, **fit_params)\n",
      "/opt/pub/eb/apps/all/DavidsonJupyter/2021-common-GCCcore-10.2.0/lib/python3.8/site-packages/sklearn/model_selection/_validation.py:686: DataConversionWarning: A column-vector y was passed when a 1d array was expected. Please change the shape of y to (n_samples,), for example using ravel().\n",
      "  estimator.fit(X_train, y_train, **fit_params)\n",
      "/opt/pub/eb/apps/all/DavidsonJupyter/2021-common-GCCcore-10.2.0/lib/python3.8/site-packages/sklearn/model_selection/_validation.py:686: DataConversionWarning: A column-vector y was passed when a 1d array was expected. Please change the shape of y to (n_samples,), for example using ravel().\n",
      "  estimator.fit(X_train, y_train, **fit_params)\n",
      "/opt/pub/eb/apps/all/DavidsonJupyter/2021-common-GCCcore-10.2.0/lib/python3.8/site-packages/sklearn/model_selection/_validation.py:686: DataConversionWarning: A column-vector y was passed when a 1d array was expected. Please change the shape of y to (n_samples,), for example using ravel().\n",
      "  estimator.fit(X_train, y_train, **fit_params)\n",
      "/opt/pub/eb/apps/all/DavidsonJupyter/2021-common-GCCcore-10.2.0/lib/python3.8/site-packages/sklearn/model_selection/_validation.py:686: DataConversionWarning: A column-vector y was passed when a 1d array was expected. Please change the shape of y to (n_samples,), for example using ravel().\n",
      "  estimator.fit(X_train, y_train, **fit_params)\n",
      "/opt/pub/eb/apps/all/DavidsonJupyter/2021-common-GCCcore-10.2.0/lib/python3.8/site-packages/sklearn/model_selection/_validation.py:686: DataConversionWarning: A column-vector y was passed when a 1d array was expected. Please change the shape of y to (n_samples,), for example using ravel().\n",
      "  estimator.fit(X_train, y_train, **fit_params)\n",
      "/opt/pub/eb/apps/all/DavidsonJupyter/2021-common-GCCcore-10.2.0/lib/python3.8/site-packages/sklearn/model_selection/_validation.py:686: DataConversionWarning: A column-vector y was passed when a 1d array was expected. Please change the shape of y to (n_samples,), for example using ravel().\n",
      "  estimator.fit(X_train, y_train, **fit_params)\n",
      "/opt/pub/eb/apps/all/DavidsonJupyter/2021-common-GCCcore-10.2.0/lib/python3.8/site-packages/sklearn/model_selection/_validation.py:686: DataConversionWarning: A column-vector y was passed when a 1d array was expected. Please change the shape of y to (n_samples,), for example using ravel().\n",
      "  estimator.fit(X_train, y_train, **fit_params)\n",
      "/opt/pub/eb/apps/all/DavidsonJupyter/2021-common-GCCcore-10.2.0/lib/python3.8/site-packages/sklearn/model_selection/_validation.py:686: DataConversionWarning: A column-vector y was passed when a 1d array was expected. Please change the shape of y to (n_samples,), for example using ravel().\n",
      "  estimator.fit(X_train, y_train, **fit_params)\n",
      "/opt/pub/eb/apps/all/DavidsonJupyter/2021-common-GCCcore-10.2.0/lib/python3.8/site-packages/sklearn/model_selection/_validation.py:686: DataConversionWarning: A column-vector y was passed when a 1d array was expected. Please change the shape of y to (n_samples,), for example using ravel().\n",
      "  estimator.fit(X_train, y_train, **fit_params)\n",
      "/opt/pub/eb/apps/all/DavidsonJupyter/2021-common-GCCcore-10.2.0/lib/python3.8/site-packages/sklearn/model_selection/_validation.py:686: DataConversionWarning: A column-vector y was passed when a 1d array was expected. Please change the shape of y to (n_samples,), for example using ravel().\n",
      "  estimator.fit(X_train, y_train, **fit_params)\n",
      "/opt/pub/eb/apps/all/DavidsonJupyter/2021-common-GCCcore-10.2.0/lib/python3.8/site-packages/sklearn/model_selection/_validation.py:686: DataConversionWarning: A column-vector y was passed when a 1d array was expected. Please change the shape of y to (n_samples,), for example using ravel().\n",
      "  estimator.fit(X_train, y_train, **fit_params)\n",
      "/opt/pub/eb/apps/all/DavidsonJupyter/2021-common-GCCcore-10.2.0/lib/python3.8/site-packages/sklearn/model_selection/_validation.py:686: DataConversionWarning: A column-vector y was passed when a 1d array was expected. Please change the shape of y to (n_samples,), for example using ravel().\n",
      "  estimator.fit(X_train, y_train, **fit_params)\n",
      "/opt/pub/eb/apps/all/DavidsonJupyter/2021-common-GCCcore-10.2.0/lib/python3.8/site-packages/sklearn/model_selection/_validation.py:686: DataConversionWarning: A column-vector y was passed when a 1d array was expected. Please change the shape of y to (n_samples,), for example using ravel().\n",
      "  estimator.fit(X_train, y_train, **fit_params)\n",
      "/opt/pub/eb/apps/all/DavidsonJupyter/2021-common-GCCcore-10.2.0/lib/python3.8/site-packages/sklearn/model_selection/_validation.py:686: DataConversionWarning: A column-vector y was passed when a 1d array was expected. Please change the shape of y to (n_samples,), for example using ravel().\n",
      "  estimator.fit(X_train, y_train, **fit_params)\n",
      "/opt/pub/eb/apps/all/DavidsonJupyter/2021-common-GCCcore-10.2.0/lib/python3.8/site-packages/sklearn/model_selection/_validation.py:686: DataConversionWarning: A column-vector y was passed when a 1d array was expected. Please change the shape of y to (n_samples,), for example using ravel().\n",
      "  estimator.fit(X_train, y_train, **fit_params)\n",
      "/opt/pub/eb/apps/all/DavidsonJupyter/2021-common-GCCcore-10.2.0/lib/python3.8/site-packages/sklearn/model_selection/_validation.py:686: DataConversionWarning: A column-vector y was passed when a 1d array was expected. Please change the shape of y to (n_samples,), for example using ravel().\n",
      "  estimator.fit(X_train, y_train, **fit_params)\n",
      "/opt/pub/eb/apps/all/DavidsonJupyter/2021-common-GCCcore-10.2.0/lib/python3.8/site-packages/sklearn/model_selection/_validation.py:686: DataConversionWarning: A column-vector y was passed when a 1d array was expected. Please change the shape of y to (n_samples,), for example using ravel().\n",
      "  estimator.fit(X_train, y_train, **fit_params)\n",
      "/opt/pub/eb/apps/all/DavidsonJupyter/2021-common-GCCcore-10.2.0/lib/python3.8/site-packages/sklearn/model_selection/_validation.py:686: DataConversionWarning: A column-vector y was passed when a 1d array was expected. Please change the shape of y to (n_samples,), for example using ravel().\n",
      "  estimator.fit(X_train, y_train, **fit_params)\n",
      "/opt/pub/eb/apps/all/DavidsonJupyter/2021-common-GCCcore-10.2.0/lib/python3.8/site-packages/sklearn/model_selection/_validation.py:686: DataConversionWarning: A column-vector y was passed when a 1d array was expected. Please change the shape of y to (n_samples,), for example using ravel().\n",
      "  estimator.fit(X_train, y_train, **fit_params)\n",
      "/opt/pub/eb/apps/all/DavidsonJupyter/2021-common-GCCcore-10.2.0/lib/python3.8/site-packages/sklearn/model_selection/_validation.py:686: DataConversionWarning: A column-vector y was passed when a 1d array was expected. Please change the shape of y to (n_samples,), for example using ravel().\n",
      "  estimator.fit(X_train, y_train, **fit_params)\n",
      "/opt/pub/eb/apps/all/DavidsonJupyter/2021-common-GCCcore-10.2.0/lib/python3.8/site-packages/sklearn/model_selection/_validation.py:686: DataConversionWarning: A column-vector y was passed when a 1d array was expected. Please change the shape of y to (n_samples,), for example using ravel().\n",
      "  estimator.fit(X_train, y_train, **fit_params)\n",
      "/opt/pub/eb/apps/all/DavidsonJupyter/2021-common-GCCcore-10.2.0/lib/python3.8/site-packages/sklearn/model_selection/_validation.py:686: DataConversionWarning: A column-vector y was passed when a 1d array was expected. Please change the shape of y to (n_samples,), for example using ravel().\n",
      "  estimator.fit(X_train, y_train, **fit_params)\n",
      "/opt/pub/eb/apps/all/DavidsonJupyter/2021-common-GCCcore-10.2.0/lib/python3.8/site-packages/sklearn/model_selection/_validation.py:686: DataConversionWarning: A column-vector y was passed when a 1d array was expected. Please change the shape of y to (n_samples,), for example using ravel().\n",
      "  estimator.fit(X_train, y_train, **fit_params)\n",
      "/opt/pub/eb/apps/all/DavidsonJupyter/2021-common-GCCcore-10.2.0/lib/python3.8/site-packages/sklearn/model_selection/_validation.py:686: DataConversionWarning: A column-vector y was passed when a 1d array was expected. Please change the shape of y to (n_samples,), for example using ravel().\n",
      "  estimator.fit(X_train, y_train, **fit_params)\n",
      "/opt/pub/eb/apps/all/DavidsonJupyter/2021-common-GCCcore-10.2.0/lib/python3.8/site-packages/sklearn/model_selection/_validation.py:686: DataConversionWarning: A column-vector y was passed when a 1d array was expected. Please change the shape of y to (n_samples,), for example using ravel().\n",
      "  estimator.fit(X_train, y_train, **fit_params)\n",
      "/opt/pub/eb/apps/all/DavidsonJupyter/2021-common-GCCcore-10.2.0/lib/python3.8/site-packages/sklearn/model_selection/_validation.py:686: DataConversionWarning: A column-vector y was passed when a 1d array was expected. Please change the shape of y to (n_samples,), for example using ravel().\n",
      "  estimator.fit(X_train, y_train, **fit_params)\n",
      "/opt/pub/eb/apps/all/DavidsonJupyter/2021-common-GCCcore-10.2.0/lib/python3.8/site-packages/sklearn/model_selection/_validation.py:686: DataConversionWarning: A column-vector y was passed when a 1d array was expected. Please change the shape of y to (n_samples,), for example using ravel().\n",
      "  estimator.fit(X_train, y_train, **fit_params)\n",
      "/opt/pub/eb/apps/all/DavidsonJupyter/2021-common-GCCcore-10.2.0/lib/python3.8/site-packages/sklearn/model_selection/_validation.py:686: DataConversionWarning: A column-vector y was passed when a 1d array was expected. Please change the shape of y to (n_samples,), for example using ravel().\n",
      "  estimator.fit(X_train, y_train, **fit_params)\n",
      "/opt/pub/eb/apps/all/DavidsonJupyter/2021-common-GCCcore-10.2.0/lib/python3.8/site-packages/sklearn/model_selection/_validation.py:686: DataConversionWarning: A column-vector y was passed when a 1d array was expected. Please change the shape of y to (n_samples,), for example using ravel().\n",
      "  estimator.fit(X_train, y_train, **fit_params)\n",
      "/opt/pub/eb/apps/all/DavidsonJupyter/2021-common-GCCcore-10.2.0/lib/python3.8/site-packages/sklearn/model_selection/_validation.py:686: DataConversionWarning: A column-vector y was passed when a 1d array was expected. Please change the shape of y to (n_samples,), for example using ravel().\n",
      "  estimator.fit(X_train, y_train, **fit_params)\n",
      "/opt/pub/eb/apps/all/DavidsonJupyter/2021-common-GCCcore-10.2.0/lib/python3.8/site-packages/sklearn/model_selection/_validation.py:686: DataConversionWarning: A column-vector y was passed when a 1d array was expected. Please change the shape of y to (n_samples,), for example using ravel().\n",
      "  estimator.fit(X_train, y_train, **fit_params)\n",
      "/opt/pub/eb/apps/all/DavidsonJupyter/2021-common-GCCcore-10.2.0/lib/python3.8/site-packages/sklearn/model_selection/_validation.py:686: DataConversionWarning: A column-vector y was passed when a 1d array was expected. Please change the shape of y to (n_samples,), for example using ravel().\n",
      "  estimator.fit(X_train, y_train, **fit_params)\n",
      "/opt/pub/eb/apps/all/DavidsonJupyter/2021-common-GCCcore-10.2.0/lib/python3.8/site-packages/sklearn/model_selection/_validation.py:686: DataConversionWarning: A column-vector y was passed when a 1d array was expected. Please change the shape of y to (n_samples,), for example using ravel().\n",
      "  estimator.fit(X_train, y_train, **fit_params)\n",
      "/opt/pub/eb/apps/all/DavidsonJupyter/2021-common-GCCcore-10.2.0/lib/python3.8/site-packages/sklearn/model_selection/_validation.py:686: DataConversionWarning: A column-vector y was passed when a 1d array was expected. Please change the shape of y to (n_samples,), for example using ravel().\n",
      "  estimator.fit(X_train, y_train, **fit_params)\n",
      "/opt/pub/eb/apps/all/DavidsonJupyter/2021-common-GCCcore-10.2.0/lib/python3.8/site-packages/sklearn/model_selection/_validation.py:686: DataConversionWarning: A column-vector y was passed when a 1d array was expected. Please change the shape of y to (n_samples,), for example using ravel().\n",
      "  estimator.fit(X_train, y_train, **fit_params)\n",
      "/opt/pub/eb/apps/all/DavidsonJupyter/2021-common-GCCcore-10.2.0/lib/python3.8/site-packages/sklearn/model_selection/_validation.py:686: DataConversionWarning: A column-vector y was passed when a 1d array was expected. Please change the shape of y to (n_samples,), for example using ravel().\n",
      "  estimator.fit(X_train, y_train, **fit_params)\n",
      "/opt/pub/eb/apps/all/DavidsonJupyter/2021-common-GCCcore-10.2.0/lib/python3.8/site-packages/sklearn/model_selection/_validation.py:686: DataConversionWarning: A column-vector y was passed when a 1d array was expected. Please change the shape of y to (n_samples,), for example using ravel().\n",
      "  estimator.fit(X_train, y_train, **fit_params)\n",
      "/opt/pub/eb/apps/all/DavidsonJupyter/2021-common-GCCcore-10.2.0/lib/python3.8/site-packages/sklearn/model_selection/_validation.py:686: DataConversionWarning: A column-vector y was passed when a 1d array was expected. Please change the shape of y to (n_samples,), for example using ravel().\n",
      "  estimator.fit(X_train, y_train, **fit_params)\n",
      "/opt/pub/eb/apps/all/DavidsonJupyter/2021-common-GCCcore-10.2.0/lib/python3.8/site-packages/sklearn/model_selection/_validation.py:686: DataConversionWarning: A column-vector y was passed when a 1d array was expected. Please change the shape of y to (n_samples,), for example using ravel().\n",
      "  estimator.fit(X_train, y_train, **fit_params)\n",
      "/opt/pub/eb/apps/all/DavidsonJupyter/2021-common-GCCcore-10.2.0/lib/python3.8/site-packages/sklearn/model_selection/_search.py:910: DataConversionWarning: A column-vector y was passed when a 1d array was expected. Please change the shape of y to (n_samples,), for example using ravel().\n",
      "  self.best_estimator_.fit(X, y, **fit_params)\n"
     ]
    },
    {
     "name": "stdout",
     "output_type": "stream",
     "text": [
      "{'max_depth': 5, 'n_estimators': 200}\n"
     ]
    }
   ],
   "source": [
    "# Define hyperparameter grid\n",
    "param_grid = {\n",
    "    'n_estimators': [50, 100, 200,300],\n",
    "    'max_depth': [2,5, 10, None]\n",
    "}\n",
    "\n",
    "# Search over hyperparameter grid\n",
    "from sklearn.model_selection import GridSearchCV\n",
    "grid_search = GridSearchCV(rmf, param_grid=param_grid, cv=5)\n",
    "grid_search.fit(X_train, y_train)\n",
    "\n",
    "# Print best hyperparameters\n",
    "print(grid_search.best_params_)"
   ]
  },
  {
   "cell_type": "code",
   "execution_count": 32,
   "id": "f36d6143-8cb4-4bc4-8964-1e8f4a652cfb",
   "metadata": {},
   "outputs": [
    {
     "data": {
      "text/plain": [
       "0.6102941176470589"
      ]
     },
     "execution_count": 32,
     "metadata": {},
     "output_type": "execute_result"
    }
   ],
   "source": [
    "rmf.score(X_test,y_test)"
   ]
  },
  {
   "cell_type": "code",
   "execution_count": 33,
   "id": "543935c5-1fca-4e42-98ff-bc5511d0cddb",
   "metadata": {},
   "outputs": [
    {
     "name": "stderr",
     "output_type": "stream",
     "text": [
      "/opt/pub/eb/apps/all/DavidsonJupyter/2021-common-GCCcore-10.2.0/lib/python3.8/site-packages/sklearn/neighbors/_classification.py:200: DataConversionWarning: A column-vector y was passed when a 1d array was expected. Please change the shape of y to (n_samples,), for example using ravel().\n",
      "  return self._fit(X, y)\n"
     ]
    },
    {
     "data": {
      "text/plain": [
       "0.5257352941176471"
      ]
     },
     "execution_count": 33,
     "metadata": {},
     "output_type": "execute_result"
    }
   ],
   "source": [
    "neigh = KNeighborsClassifier(n_neighbors=3)\n",
    "neigh.fit(X_train,y_train)\n",
    "\n",
    "neigh.score(X_test,y_test)"
   ]
  },
  {
   "cell_type": "code",
   "execution_count": null,
   "id": "e8583465-e3db-4497-b4ba-ec25a27999dd",
   "metadata": {},
   "outputs": [],
   "source": []
  },
  {
   "cell_type": "code",
   "execution_count": 80,
   "id": "751ab2c0-20ed-4dd1-b0ad-95bbf9639689",
   "metadata": {},
   "outputs": [
    {
     "name": "stdout",
     "output_type": "stream",
     "text": [
      "Test accuracy: 0.44485294117647056\n"
     ]
    }
   ],
   "source": [
    "import torch\n",
    "import torch.nn as nn\n",
    "import torch.optim as optim\n",
    "from sklearn.model_selection import train_test_split\n",
    "import pandas as pd\n",
    "import numpy as np\n",
    "\n",
    "# Load and preprocess NCVS data\n",
    "data = df_assault\n",
    "# ... data cleaning and feature selection ...\n",
    "\n",
    "# Split data into training and testing sets\n",
    "train_data, test_data, train_labels, test_labels = train_test_split(scaled_inputs, target, test_size=0.2)\n",
    "\n",
    "# Convert data and labels to PyTorch tensors\n",
    "train_data_tensor = torch.tensor(train_data.astype(np.float32))\n",
    "train_labels_tensor = torch.tensor(train_labels.values.astype(np.float32))\n",
    "test_data_tensor = torch.tensor(test_data.astype(np.float32))\n",
    "test_labels_tensor = torch.tensor(test_labels.values.astype(np.float32))\n",
    "\n",
    "# Define neural network model\n",
    "class MyModel(nn.Module):\n",
    "    def __init__(self, input_size, hidden_size, output_size):\n",
    "        super(MyModel, self).__init__()\n",
    "        self.layer1 = nn.Linear(input_size, hidden_size)\n",
    "        self.layer2 = nn.Linear(hidden_size, output_size)\n",
    "        self.activation = nn.ReLU()\n",
    "        \n",
    "    def forward(self, x):\n",
    "        x = self.layer1(x)\n",
    "        x = self.activation(x)\n",
    "        x = self.layer2(x)\n",
    "        return x\n",
    "\n",
    "# Set up model, loss function, and optimizer\n",
    "model = MyModel(train_data.shape[1], 64, 1)\n",
    "criterion = nn.BCEWithLogitsLoss()\n",
    "optimizer = optim.Adam(model.parameters(), lr=0.001)\n",
    "\n",
    "# Train model on training data\n",
    "for epoch in range(50):\n",
    "    optimizer.zero_grad()\n",
    "    output = model(train_data_tensor)\n",
    "    loss = criterion(output, train_labels_tensor.view(-1, 1))\n",
    "    loss.backward()\n",
    "    optimizer.step()\n",
    "\n",
    "# Evaluate model on test data\n",
    "with torch.no_grad():\n",
    "    output = model(test_data_tensor)\n",
    "    predictions = torch.sigmoid(output)\n",
    "    correct = ((predictions > 0.5).int() == test_labels_tensor.view(-1, 1).int()).sum().item()\n",
    "    accuracy = correct / test_labels.shape[0]\n",
    "    print(f'Test accuracy: {accuracy}')\n"
   ]
  },
  {
   "cell_type": "code",
   "execution_count": 81,
   "id": "af42ce5f-07cb-433e-96f2-602dc455cb5b",
   "metadata": {},
   "outputs": [],
   "source": []
  },
  {
   "cell_type": "code",
   "execution_count": null,
   "id": "9a0e988f-6a04-4d5e-8a13-da2c05375cd2",
   "metadata": {},
   "outputs": [],
   "source": []
  }
 ],
 "metadata": {
  "kernelspec": {
   "display_name": "Python 3.8",
   "language": "python",
   "name": "python3"
  },
  "language_info": {
   "codemirror_mode": {
    "name": "ipython",
    "version": 3
   },
   "file_extension": ".py",
   "mimetype": "text/x-python",
   "name": "python",
   "nbconvert_exporter": "python",
   "pygments_lexer": "ipython3",
   "version": "3.8.6"
  }
 },
 "nbformat": 4,
 "nbformat_minor": 5
}
